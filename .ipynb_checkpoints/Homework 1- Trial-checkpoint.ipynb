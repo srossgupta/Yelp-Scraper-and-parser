{
 "cells": [
  {
   "cell_type": "code",
   "execution_count": 4,
   "metadata": {},
   "outputs": [
    {
     "data": {
      "text/plain": [
       "[1, 2, 3, 4, 5]"
      ]
     },
     "execution_count": 4,
     "metadata": {},
     "output_type": "execute_result"
    }
   ],
   "source": [
    "l= [1,2,3,4,5]\n",
    "l"
   ]
  },
  {
   "cell_type": "code",
   "execution_count": 5,
   "metadata": {},
   "outputs": [
    {
     "data": {
      "text/plain": [
       "[4, 5, 1, 2, 3]"
      ]
     },
     "execution_count": 5,
     "metadata": {},
     "output_type": "execute_result"
    }
   ],
   "source": [
    "\n",
    "l[3:]+l[:3]"
   ]
  },
  {
   "cell_type": "code",
   "execution_count": 6,
   "metadata": {
    "collapsed": true
   },
   "outputs": [],
   "source": [
    "#   rotate([1,2,3,4], 3) -> [4,1,2,3]\n",
    "\n",
    "def rotate_list(l, n):\n",
    "    return l[n:]+l[:n]\n",
    "    pass"
   ]
  },
  {
   "cell_type": "code",
   "execution_count": 8,
   "metadata": {},
   "outputs": [
    {
     "data": {
      "text/plain": [
       "[3, 4, 5, 1, 2]"
      ]
     },
     "execution_count": 8,
     "metadata": {},
     "output_type": "execute_result"
    }
   ],
   "source": [
    "rotate_list(l, 2)"
   ]
  },
  {
   "cell_type": "code",
   "execution_count": 16,
   "metadata": {
    "collapsed": true
   },
   "outputs": [],
   "source": [
    " tel = {'jack': 4098, 'sape': 4139,\"ape\":432,\"ape\":343}"
   ]
  },
  {
   "cell_type": "code",
   "execution_count": 17,
   "metadata": {},
   "outputs": [
    {
     "data": {
      "text/plain": [
       "['ape', 'jack', 'sape']"
      ]
     },
     "execution_count": 17,
     "metadata": {},
     "output_type": "execute_result"
    }
   ],
   "source": [
    "sorted(tel.keys())"
   ]
  },
  {
   "cell_type": "code",
   "execution_count": 18,
   "metadata": {},
   "outputs": [
    {
     "data": {
      "text/plain": [
       "{'ape': 343, 'jack': 4098, 'sape': 4139}"
      ]
     },
     "execution_count": 18,
     "metadata": {},
     "output_type": "execute_result"
    }
   ],
   "source": [
    "tel"
   ]
  },
  {
   "cell_type": "code",
   "execution_count": 22,
   "metadata": {},
   "outputs": [
    {
     "name": "stdout",
     "output_type": "stream",
     "text": [
      "What is your name?  It is lancelot.\n",
      "What is your quest?  It is the holy grail.\n",
      "What is your favorite color?  It is blue.\n"
     ]
    }
   ],
   "source": [
    "questions = ['name', 'quest', 'favorite color']\n",
    "answers = ['lancelot', 'the holy grail', 'blue']\n",
    "for q, a in zip(questions, answers):\n",
    "    print('What is your {0}?  It is {1}.'.format(q, a))\n"
   ]
  },
  {
   "cell_type": "code",
   "execution_count": 23,
   "metadata": {},
   "outputs": [
    {
     "name": "stdout",
     "output_type": "stream",
     "text": [
      "9\n",
      "7\n",
      "5\n",
      "3\n",
      "1\n"
     ]
    }
   ],
   "source": [
    "for i in reversed(range(1, 10, 2)):\n",
    "    print(i)"
   ]
  },
  {
   "cell_type": "code",
   "execution_count": 29,
   "metadata": {},
   "outputs": [
    {
     "data": {
      "text/plain": [
       "{343: 'ape', 4098: 'jack', 4139: 'sape'}"
      ]
     },
     "execution_count": 29,
     "metadata": {},
     "output_type": "execute_result"
    }
   ],
   "source": [
    "dict((values,key)for key, values in tel.items())"
   ]
  },
  {
   "cell_type": "code",
   "execution_count": 30,
   "metadata": {},
   "outputs": [
    {
     "data": {
      "text/plain": [
       "{'red': 'apple', 'yellow': 'banana'}"
      ]
     },
     "execution_count": 30,
     "metadata": {},
     "output_type": "execute_result"
    }
   ],
   "source": [
    "def reverse_dict(d):\n",
    "    return dict((values,key)for key, values in d.items())\n",
    "    pass\n",
    "\n",
    "reverse_dict({\"apple\" : \"red\", \"banana\" : \"yellow\"})"
   ]
  },
  {
   "cell_type": "code",
   "execution_count": 32,
   "metadata": {},
   "outputs": [
    {
     "data": {
      "text/plain": [
       "{343: 'ape', 4098: 'jack', 4139: 'sape'}"
      ]
     },
     "execution_count": 32,
     "metadata": {},
     "output_type": "execute_result"
    }
   ],
   "source": [
    "new_dict = dict (zip(tel.values(),tel.keys()))\n",
    "new_dict"
   ]
  },
  {
   "cell_type": "code",
   "execution_count": 33,
   "metadata": {},
   "outputs": [
    {
     "data": {
      "text/plain": [
       "<zip at 0x106a8c448>"
      ]
     },
     "execution_count": 33,
     "metadata": {},
     "output_type": "execute_result"
    }
   ],
   "source": [
    "zip(tel.values(),tel.keys())"
   ]
  },
  {
   "cell_type": "code",
   "execution_count": 37,
   "metadata": {},
   "outputs": [
    {
     "data": {
      "text/plain": [
       "{343: 'ape', 4098: 'jack', 4139: 'sape'}"
      ]
     },
     "execution_count": 37,
     "metadata": {},
     "output_type": "execute_result"
    }
   ],
   "source": [
    "dict(zip(tel.values(),tel.keys()))"
   ]
  },
  {
   "cell_type": "code",
   "execution_count": 48,
   "metadata": {},
   "outputs": [
    {
     "name": "stdout",
     "output_type": "stream",
     "text": [
      "{'jack': 4098, 'sape': 4139, 'ape': 343}\n",
      "{'jack': 4098, 'sape': 4139, 'ape': 343}\n",
      "{'jack': 4098, 'sape': 4139, 'ape': 343}\n"
     ]
    }
   ],
   "source": [
    "for k,v in tel.items():\n",
    "        print(dict(tel))"
   ]
  },
  {
   "cell_type": "code",
   "execution_count": 2,
   "metadata": {
    "collapsed": true
   },
   "outputs": [],
   "source": [
    "def retrieve_html(url):\n",
    "    \"\"\"\n",
    "    Return the raw HTML at the specified URL.\n",
    "\n",
    "    Args:\n",
    "        url (string): \n",
    "\n",
    "    Returns:\n",
    "        status_code (integer):\n",
    "        raw_html (string): the raw HTML content of the response, properly encoded according to the HTTP headers.\n",
    "    \"\"\"\n",
    "    \n",
    "    import requests\n",
    "    response = requests.get(url)\n",
    "    return(response.status_code,response.text)\n",
    "    pass\n",
    "\n"
   ]
  },
  {
   "cell_type": "code",
   "execution_count": 3,
   "metadata": {
    "collapsed": true
   },
   "outputs": [],
   "source": [
    "facebook_article = retrieve_html('http://www.nytimes.com/2016/08/28/magazine/inside-facebooks-totally-insane-unintentionally-gigantic-hyperpartisan-political-media-machine.html')"
   ]
  },
  {
   "cell_type": "code",
   "execution_count": 4,
   "metadata": {
    "scrolled": true
   },
   "outputs": [
    {
     "name": "stdout",
     "output_type": "stream",
     "text": [
      "(200, '<!DOCTYPE html>\\n<!--[if (gt IE 9)|!(IE)]> <!--> <html lang=\"en\" class=\"no-js section-magazine format-extra-long tone-feature app-article page-theme-standard has-comments has-cover-media no-ribbon type-size-small\" itemid=\"https://www.nytimes.com/2016/08/28/magazine/inside-facebooks-totally-insane-unintentionally-gigantic-hyperpartisan-political-media-machine.html\" itemtype=\"http://schema.org/NewsArticle\"  itemscope xmlns:og=\"http://opengraphprotocol.org/schema/\"> <!--<![endif]-->\\n<!--[if IE 9]> <html lang=\"en\" class=\"no-js ie9 lt-ie10 section-magazine format-extra-long tone-feature app-article page-theme-standard has-comments has-cover-media no-ribbon type-size-small\" xmlns:og=\"http://opengraphprotocol.org/schema/\"> <![endif]-->\\n<!--[if IE 8]> <html lang=\"en\" class=\"no-js ie8 lt-ie10 lt-ie9 section-magazine format-extra-long tone-feature app-article page-theme-standard has-comments has-cover-media no-ribbon type-size-small\" xmlns:og=\"http://opengraphprotocol.org/schema/\"> <![endif]-->\\n<!--[if (lt IE 8)]> <html lang=\"en\" class=\"no-js lt-ie10 lt-ie9 lt-ie8 section-magazine format-extra-long tone-feature app-article page-theme-standard has-comments has-cover-media no-ribbon type-size-small\" xmlns:og=\"http://opengraphprotocol.org/schema/\"> <![endif]-->\\n<head>\\n    <title>Inside Facebook’s (Totally Insane, Unintentionally Gigantic, Hyperpartisan) Political-Media Machine - The New York Times</title>\\n        <meta http-equiv=\"X-UA-Compatible\" content=\"IE=edge,chrome=1\" />\\n    <meta name=\"viewport\" content=\"width=device-width, initial-scale=1, maximum-scale=1\" />\\n<link rel=\"shortcut icon\" href=\"https://static01.nyt.com/favicon.ico\" />\\n<link rel=\"apple-touch-icon-precomposed\" sizes=\"144×144\" href=\"https://static01.nyt.com/images/icons/ios-ipad-144x144.png\" />\\n<link rel=\"apple-touch-icon-precomposed\" sizes=\"114×114\" href=\"https://static01.nyt.com/images/icons/ios-iphone-114x144.png\" />\\n<link rel=\"apple-touch-icon-precomposed\" href=\"https://static01.nyt.com/images/icons/ios-default-homescreen-57x57.png\" />\\n<meta name=\"sourceApp\" content=\"nyt-v5\" />\\n<meta id=\"applicationName\" name=\"applicationName\" content=\"article\" />\\n<meta id=\"foundation-build-id\" name=\"foundation-build-id\" content=\"\" />\\n<link rel=\"canonical\" href=\"https://www.nytimes.com/2016/08/28/magazine/inside-facebooks-totally-insane-unintentionally-gigantic-hyperpartisan-political-media-machine.html\" />\\n<link rel=\"alternate\" media=\"only screen and (max-width: 640px)\" href=\"http://mobile.nytimes.com/2016/08/28/magazine/inside-facebooks-totally-insane-unintentionally-gigantic-hyperpartisan-political-media-machine.html\" />\\n<link rel=\"alternate\" media=\"handheld\" href=\"http://mobile.nytimes.com/2016/08/28/magazine/inside-facebooks-totally-insane-unintentionally-gigantic-hyperpartisan-political-media-machine.html\" />\\n<meta property=\"al:android:url\" content=\"nytimes://reader/id/100000004602751\" />\\n<meta property=\"al:android:package\" content=\"com.nytimes.android\" />\\n<meta property=\"al:android:app_name\" content=\"NYTimes\" />\\n<meta name=\"twitter:app:name:googleplay\" content=\"NYTimes\" />\\n<meta name=\"twitter:app:id:googleplay\" content=\"com.nytimes.android\" />\\n<meta name=\"twitter:app:url:googleplay\" content=\"nytimes://reader/id/100000004602751\" />\\n<link rel=\"alternate\" href=\"android-app://com.nytimes.android/nytimes/reader/id/100000004602751\" />\\n<meta property=\"al:iphone:url\" content=\"nytimes://www.nytimes.com/2016/08/28/magazine/inside-facebooks-totally-insane-unintentionally-gigantic-hyperpartisan-political-media-machine.html\" />\\n<meta property=\"al:iphone:app_store_id\" content=\"284862083\" />\\n<meta property=\"al:iphone:app_name\" content=\"NYTimes\" />\\n<meta property=\"al:ipad:url\" content=\"nytimes://www.nytimes.com/2016/08/28/magazine/inside-facebooks-totally-insane-unintentionally-gigantic-hyperpartisan-political-media-machine.html\" />\\n<meta property=\"al:ipad:app_store_id\" content=\"357066198\" />\\n<meta property=\"al:ipad:app_name\" content=\"NYTimes\" />\\n<meta name=\"robots\" content=\"noarchive\" />\\n<meta itemprop=\"alternativeHeadline\" name=\"hdl_p\" content=\"Blue State\" />\\n<meta name=\"channels\" content=\"\" />\\n<meta itemprop=\"description\" name=\"description\" content=\"How a strange new class of media outlet has arisen to take over our news feeds.\" />\\n<meta name=\"genre\" itemprop=\"genre\" content=\"News\" />\\n<meta itemprop=\"identifier\" name=\"articleid\" content=\"100000004602751\" />\\n<meta itemprop=\"usageTerms\" name=\"usageTerms\" content=\"https://www.nytimes.com/content/help/rights/sale/terms-of-sale.html\" />\\n<meta itemprop=\"inLanguage\" content=\"en-US\" />\\n<meta name=\"hdl\" content=\"Inside Facebook’s (Totally Insane, Unintentionally Gigantic, Hyperpartisan) Political-Media Machine\" />\\n<meta name=\"col\" content=\"Feature\" id=\"column-name\" />\\n<meta name=\"pdate\" content=\"20160824\" />\\n<meta name=\"utime\" content=\"20171028141822\" />\\n<meta name=\"ptime\" content=\"20160824050005\" />\\n<meta name=\"DISPLAYDATE\" content=\"Aug. 24, 2016\" />\\n<meta name=\"dat\" content=\"Aug. 24, 2016\" />\\n<meta name=\"lp\" content=\"How a strange new class of media outlet has arisen to take over our news feeds.\" />\\n<meta name=\"msapplication-starturl\" content=\"http://www.nytimes.com\" />\\n<meta name=\"cre\" content=\"The New York Times\" />\\n<meta name=\"slug\" content=\"28mag-facebook\" />\\n<meta property=\"article:collection\" content=\"https://static01.nyt.com/services/json/sectionfronts/magazine/index.jsonp\" />\\n<meta name=\"sectionfront_jsonp\" content=\"https://static01.nyt.com/services/json/sectionfronts/magazine/index.jsonp\" />\\n<meta property=\"og:url\" content=\"https://www.nytimes.com/2016/08/28/magazine/inside-facebooks-totally-insane-unintentionally-gigantic-hyperpartisan-political-media-machine.html\" />\\n<meta property=\"og:type\" content=\"article\" />\\n<meta property=\"og:title\" content=\"Inside Facebook’s (Totally Insane, Unintentionally Gigantic, Hyperpartisan) Political-Media Machine\" />\\n<meta property=\"og:description\" content=\"How a strange new class of media outlet has arisen to take over our news feeds.\" />\\n<meta property=\"article:published\" itemprop=\"datePublished\" content=\"2016-08-24T05:00:05-04:00\" />\\n<meta property=\"article:modified\" itemprop=\"dateModified\" content=\"2017-10-28T14:18:22-04:00\" />\\n<meta property=\"article:section\" itemprop=\"articleSection\" content=\"Magazine\" />\\n<meta property=\"article:section-taxonomy-id\" itemprop=\"articleSection\" content=\"E57A148E-0CB9-4C02-966D-28B119710151\" />\\n<meta property=\"article:section_url\" content=\"https://www.nytimes.com/section/magazine\" />\\n<meta property=\"article:top-level-section\" content=\"magazine\" />\\n<meta property=\"fb:app_id\" content=\"9869919170\" />\\n<meta name=\"twitter:site\" value=\"@nytimes\" />\\n<meta property=\"twitter:url\" content=\"https://www.nytimes.com/2016/08/28/magazine/inside-facebooks-totally-insane-unintentionally-gigantic-hyperpartisan-political-media-machine.html\" />\\n<meta property=\"twitter:title\" content=\"Inside Facebook’s (Totally Insane, Unintentionally Gigantic, Hyperpartisan) Political-Media Machine\" />\\n<meta property=\"twitter:description\" content=\"How a strange new class of media outlet has arisen to take over our news feeds.\" />\\n<meta name=\"author\" content=\"John Herrman\" />\\n<meta name=\"tone\" content=\"feature\" id=\"article-tone\" />\\n<meta name=\"byl\" content=\"By JOHN HERRMAN\" />\\n<meta name=\"PT\" content=\"article\" />\\n<meta name=\"CG\" content=\"magazine\" />\\n<meta name=\"SCG\" content=\"\" />\\n<meta name=\"PST\" content=\"News\" />\\n<meta name=\"tom\" content=\"News\" />\\n<meta name=\"edt\" content=\"NewYork\" />\\n<meta property=\"og:image\" content=\"https://static01.nyt.com/images/2016/08/28/magazine/28facebook1/28facebook1-facebookJumbo-v2.jpg\" />\\n<meta property=\"twitter:image\" content=\"https://static01.nyt.com/images/2016/08/28/magazine/28facebook1/28facebook1-thumbLarge-v2.jpg\" />\\n<meta name=\"twitter:card\" value=\"summary\" />\\n<meta property=\"article:author\" content=\"https://www.nytimes.com/by/john-herrman\" />\\n<meta name=\"twitter:creator\" value=\"jwherrman\" />\\n<meta property=\"article:tag\" content=\"Facebook Inc\" />\\n<meta name=\"org\" content=\"Facebook Inc\" />\\n<meta property=\"article:tag\" content=\"News and News Media\" />\\n<meta name=\"des\" content=\"News and News Media\" />\\n<meta property=\"article:tag\" content=\"Social Media\" />\\n<meta name=\"des\" content=\"Social Media\" />\\n<meta property=\"article:tag\" content=\"United States Politics and Government\" />\\n<meta name=\"des\" content=\"United States Politics and Government\" />\\n<meta property=\"article:tag\" content=\"Republican Party\" />\\n<meta name=\"org\" content=\"Republican Party\" />\\n<meta property=\"article:tag\" content=\"Trump, Donald J\" />\\n<meta name=\"per\" content=\"Trump, Donald J\" />\\n<meta property=\"article:tag\" content=\"Sanders, Bernard\" />\\n<meta name=\"per\" content=\"Sanders, Bernard\" />\\n<meta property=\"article:tag\" content=\"Presidential Election of 2016\" />\\n<meta name=\"des\" content=\"Presidential Election of 2016\" />\\n<meta name=\"keywords\" content=\"Facebook Inc,News and News Media,Social Media,United States Politics and Government,Republican Party,Trump  Donald J,Sanders  Bernard,Presidential Election of 2016\" />\\n<meta name=\"news_keywords\" content=\"Facebook,News media;journalism,Social Media,US Politics,Republicans,Donald Trump,Bernard Sanders;Bernie Sanders,2016 Presidential Election\" />\\n<meta name=\"thumbnail_150\" content=\"https://static01.nyt.com/images/2016/08/28/magazine/28facebook1/28facebook1-thumbLarge-v2.jpg\" />\\n<meta name=\"thumbnail_150_height\" content=\"150\" />\\n<meta name=\"thumbnail_150_width\" content=\"150\" />\\n<meta itemprop=\"thumbnailUrl\" name=\"thumbnail\" content=\"https://static01.nyt.com/images/2016/08/28/magazine/28facebook1/28facebook1-thumbStandard-v2.jpg\" />\\n<meta name=\"thumbnail_height\" content=\"75\" />\\n<meta name=\"thumbnail_width\" content=\"75\" />\\n<meta name=\"dfp-ad-unit-path\" content=\"magazine\" />\\n<meta name=\"dfp-amazon-enabled\" content=\"false\" />\\n<link rel=\"alternate\" type=\"application/json+oembed\" href=\"https://www.nytimes.com/svc/oembed/json/?url=https%3A%2F%2Fwww.nytimes.com%2F2016%2F08%2F28%2Fmagazine%2Finside-facebooks-totally-insane-unintentionally-gigantic-hyperpartisan-political-media-machine.html\" title=\"Inside Facebook’s (Totally Insane, Unintentionally Gigantic, Hyperpartisan) Political-Media Machine\" />\\n<meta property=\"fb:pages\" content=\"5281959998\" />\\n<meta property=\"fb:pages\" content=\"1002391179791389\" />\\n<meta property=\"fb:pages\" content=\"105307012882667\" />\\n<meta property=\"fb:pages\" content=\"123334484346296\" />\\n<meta property=\"fb:pages\" content=\"142271415829971\" />\\n<meta property=\"fb:pages\" content=\"1453472561556218\" />\\n<meta property=\"fb:pages\" content=\"153491058028703\" />\\n<meta property=\"fb:pages\" content=\"1545690368981813\" />\\n<meta property=\"fb:pages\" content=\"1606969219532748\" />\\n<meta property=\"fb:pages\" content=\"173455642668373\" />\\n<meta property=\"fb:pages\" content=\"176999952314969\" />\\n<meta property=\"fb:pages\" content=\"181548405298864\" />\\n<meta property=\"fb:pages\" content=\"340711315527\" />\\n<meta property=\"fb:pages\" content=\"5518834980\" />\\n<meta property=\"fb:pages\" content=\"689907071131476\" />\\n<meta property=\"fb:pages\" content=\"751965821517958\" />\\n<meta property=\"fb:pages\" content=\"8254939527\" />\\n<meta property=\"fb:pages\" content=\"98934992430\" />\\n<meta property=\"fb:pages\" content=\"993603507345855\" />\\n    \\n            <link id=\"legacy-zam5nzz\" rel=\"stylesheet\" type=\"text/css\" href=\"https://typeface.nyt.com/css/zam5nzz.css\" media=\"all\" />\\n    <!--[if (gt IE 9)|!(IE)]> <!-->\\n        <link rel=\"stylesheet\" type=\"text/css\" media=\"screen\" href=\"https://a1.nyt.com/assets/article/20180119-120611/css/article/story/styles.css\" />\\n    <!--<![endif]-->\\n    <!--[if lte IE 9]>\\n        <link rel=\"stylesheet\" type=\"text/css\" media=\"screen\" href=\"https://a1.nyt.com/assets/article/20180119-120611/css/article/story/styles-ie.css\" />\\n    <![endif]-->\\n<link rel=\"stylesheet\" type=\"text/css\" media=\"print\" href=\"https://a1.nyt.com/assets/article/20180119-120611/css/article/story/styles-print.css\" />\\n                <!--  begin abra  -->\\n<script>\\nvar NYTD=NYTD||{};NYTD.Abra=function(t){\"use strict\";function n(t){var n=i[t];return n&&n[1]||null}function e(t,n){if(t){var e,o,r=n[0],i=n[1],u=0,c=0;if(1!==i.length||4294967296!==i[0])for(e=a(t+\" \"+r)>>>0,u=0,c=0;o=i[u++];)if(e<(c+=o[0]))return o}}function o(n,e,o,a){s+=\"subject=\"+n+\"&test=\"+encodeURIComponent(e)+\"&variant=\"+encodeURIComponent(o||0)+\"&url=\"+encodeURIComponent(t.location.href)+\"&instant=1&skipAugment=true\\\\n\",a&&f.push(a),c||(c=t.setTimeout(r,0))}function r(){var n=new t.XMLHttpRequest,e=f;n.withCredentials=!0,n.open(\"POST\",u),n.onreadystatechange=function(){var t,o;if(4==n.readyState)for(t=200==n.status?null:new Error(n.statusText);o=e.shift();)o(t)},n.send(s),s=\"\",f=[],c=null}function a(t){for(var n,e,o,r,a,i,u,c=0,s=0,f=[],l=[n=1732584193,e=4023233417,~n,~e,3285377520],h=[],p=t.length;s<=p;)h[s>>2]|=(s<p?t.charCodeAt(s):128)<<8*(3-s++%4);for(h[u=p+8>>2|15]=p<<3;c<=u;c+=16){for(n=l,s=0;s<80;n=[0|[(i=((t=n[0])<<5|t>>>27)+n[4]+(f[s]=s<16?~~h[c+s]:i<<1|i>>>31)+1518500249)+((e=n[1])&(o=n[2])|~e&(r=n[3])),a=i+(e^o^r)+341275144,i+(e&o|e&r|o&r)+882459459,a+1535694389][0|s++/20],t,e<<30|e>>>2,o,r])i=f[s-3]^f[s-8]^f[s-14]^f[s-16];for(s=5;s;)l[--s]=l[s]+n[s]|0}return l[0]}var i,u,c,s=\"\",f=[];return n.init=function(n,r){var a,c,s,f,l,h=[],p=(t.document.cookie.match(/(^|;) *nyt-a=([^;]*)/)||[])[2],d=(t.document.cookie.match(/(^|;) *ab7=([^;]*)/)||[])[2],m=new RegExp(\"[?&]abra(=([^&#]*))\"),g=m.exec(t.location.search);if(g&&g[2]&&(d=d?g[2]+\"&\"+d:g[2]),i)throw new Error(\"can\\'t init twice\");if(u=r,i={},d)for(d=decodeURIComponent(d).split(\"&\"),a=0;a<d.length;a++)l=d[a].split(\"=\"),l[0]in i||(i[l[0]]=[,l[1],1],o(\"ab-alloc\",l[0],l[1]),l[1]&&h.push(l[0]+\"=\"+l[1]));for(a=0;a<n.length;a++)s=n[a],(c=s[0])in i||(f=e(p,s)||[],i[c]=f,f[1]&&h.push(c.replace(/[^\\\\w-]/g)+\"=\"+(\"\"+f[1]).replace(/[^\\\\w-]/g)),f[2]&&o(\"ab-alloc\",c,f[1]));h.length&&t.document.documentElement.setAttribute(\"data-nyt-ab\",h.join(\" \"))},n.reportExposure=function(n,e){var r=i[n];r&&r[2]?o(\"ab-expose\",n,r[1],e):e&&t.setTimeout(function(){e(null)},0)},n}(this);\\n</script>\\n<script>NYTD.Abra.init([[\"www-story-reader-satisfaction\",[[21474837,\"Control\",1],[21474836,\"VariantA\",1],[4252017623,null,0]]],[\"www-signup-favor-test\",[[2147483648,\"0\",1],[2147483648,\"1\",1]]],[\"www-fixed-nav-subscribe-test\",[[4294967296,\"1\",1]]],[\"www-ad-diagnostic\",[[21474837,\"1\",0],[4273492459,null,0]]],[\"www-fabrik-off\",[[4294967296,\"1\",1]]],[\"www-auto-newsletter\",[[4294967296,\"1\",1]]],[\"www-STORY_3bundlePayflow-v3\",[[4294967296,\"1\",1]]],[\"www-STRIK-nl-regi\",[[1434519077,\"control\",1],[1430224110,\"1\",1],[1430224109,\"2\",1],[0,null,0]]],[\"www-indexAsHeaderBidder\",[[4294967296,\"2\",1]]],[\"EC_SampleTest\",[[2147483648,\"variantA\",0],[2147483648,\"variantB\",0]]]], \\'//et.nytimes.com/\\')</script>\\n<!--  end abra  -->\\n\\n<script>\\n/* ABRA reporting for Vi rollout. Please don\\'t hand-edit this minified snippet. <https://github.com/nytm/vi-rollout-abra-reporting-js> (67c2140 @ Mon Dec 11 17:51:59 EST 2017) */ function reportViRolloutToABRA(t,e,o){\"use strict\";var i,a,n,r,s=\"\";if(e&&(/^mobile\\\\./.test(window.location.hostname)?(i=(document.cookie.match(/(?:^|;) *vi=([^;]*)/)||[,\"\"])[1],a=(document.cookie.match(/(?:^|;) *nyt\\\\.np\\\\.vi=([^;]*)/)||[,\"\"])[1],n=/^b1/.test(i)?\"WP_ProjectVi&variant=vi\":/^z1/.test(i)?\"WP_ProjectVi&variant=0\":/^a2/.test(i)?\"WP_ProjectVi2&variant=hp-st\":/^b2/.test(i)?\"WP_ProjectVi2&variant=hp\":/^c2/.test(i)?\"WP_ProjectVi2&variant=st\":/^z2/.test(i)?\"WP_ProjectVi2&variant=0\":/^1\\\\|/.test(a)?\"WP_ProjectVi&variant=vi\":/^2\\\\|/.test(a)?\"WP_ProjectVi&variant=0\":null):/^www\\\\./.test(window.location.hostname)&&(i=(document.cookie.match(/(?:^|;) *vi_www_hp=([^;]*)/)||[,\"\"])[1],n=/^a2/.test(i)?\"WP_ProjectVi_www_hp&variant=hp-st\":/^b2/.test(i)?\"WP_ProjectVi_www_hp&variant=hp\":/^c2/.test(i)?\"WP_ProjectVi_www_hp&variant=st\":/^d2/.test(i)?\"WP_ProjectVi_www_hp&variant=hp-2\":/^y2/.test(i)?\"WP_ProjectVi_www_hp&variant=0-2\":/^z2/.test(i)?\"WP_ProjectVi_www_hp&variant=0\":null),n&&(s+=\"subject=ab-alloc&test=\"+n+\"&url=\"+encodeURIComponent(window.location.href)+\"&instant=1&skipAugment=true\\\\n\")),o&&(/^mobile\\\\./.test(window.location.hostname)?(i=(document.cookie.match(/(?:^|;) *vistorymobile=([^;]*)/)||[,\"\"])[1],r=/^a/.test(i)?\"WP_ProjectVi_Story_Mobile&variant=st\":/^b/.test(i)?\"WP_ProjectVi_Story_Mobile&variant=sth\":/^c/.test(i)?\"WP_ProjectVi_Story_Mobile&variant=mw\":/^z/.test(i)?\"WP_ProjectVi_Story_Mobile&variant=mwh\":null):/^www\\\\./.test(window.location.hostname)&&(i=(document.cookie.match(/(?:^|;) *vistory=([^;]*)/)||[,\"\"])[1],r=/^a/.test(i)?\"WP_ProjectVi_story_desktop&variant=sd\":/^b/.test(i)?\"WP_ProjectVi_story_desktop&variant=sdh\":/^c/.test(i)?\"WP_ProjectVi_story_desktop&variant=nyt5\":/^z/.test(i)?\"WP_ProjectVi_story_desktop&variant=nyt5h\":null),r&&(s+=\"subject=ab-alloc&test=\"+r+\"&url=\"+encodeURIComponent(window.location.href)+\"&instant=1&skipAugment=true\\\\n\")),s){var c=new XMLHttpRequest;c.withCredentials=!0,c.open(\"POST\",t),c.send(s)}}\\n</script>\\n<script>\\n  reportViRolloutToABRA(\\n    \\'//et.nytimes.com/\\',\\n    false,\\n    true  );\\n</script>\\n                <script id=\"page-config-data\" type=\"text/json\">\\n{\"pageconfig\":{\"ledeMediaSize\":\"full_bleed\",\"keywords\":[\"Feature\",\"article-extra-long\",\"has-embedded-interactive\"],\"collections\":{\"sections\":[\"thenewyorktimesmagazine\",\"us\",\"politics\",\"technology\"],\"syndicated\":[\"apple\",\"facebook\"]}}}</script>\\n<script id=\"display_overrides\">\\n            [\"INCLUDE_TRANSPARENT_MASTHEAD_WITH_BLACK_ICONS\",\"HIDE_RIBBON\",\"HIDE_TOP_AD\",\"HIDE_NAVIGATION-EDGE\",\"HIDE_KICKER\",\"HIDE_STORY-META_COMMUNITY_BUTTON\",\"HIDE_RIBBON\"]    </script>\\n\\n\\t\\t\\t    <script type=\"text/javascript\">\\n        (function() {\\n            var s = document.getElementsByTagName(\"script\")[0];\\n            var mediaDotNet = \\'https://contextual.media.net/bidexchange.js?cid=8CU2553YN&amp;https=1\\';\\n            var indexBid = \\'https://js-sec.indexww.com/ht/p/183760-203795517182556.js\\';\\n            var timeout = 300;\\n\\n            function loadScript(tagSrc) {\\n                if (tagSrc.substr(0, 4) !== \\'http\\') {\\n                    var isSSL = \\'https:\\' == document.location.protocol;\\n                    tagSrc = (isSSL ? \\'https:\\' : \\'\\') + tagSrc;\\n                }\\n                var scriptTag = document.createElement(\\'script\\'),\\n                    placeTag = document.getElementsByTagName(\"script\")[0];\\n                scriptTag.type = \\'text/javascript\\';\\n                scriptTag.async = true;\\n                scriptTag.src = tagSrc;\\n                s.parentNode.insertBefore(scriptTag, s);\\n            }\\n\\n            function loadGPT() {\\n                if (!window.advBidxc.isAdServerLoaded) {\\n                    loadScript(\\'//www.googletagservices.com/tag/js/gpt.js\\');\\n                    window.advBidxc.isAdServerLoaded = true;\\n                }\\n            }\\n\\n            window.advBidxc = window.advBidxc || {};\\n            window.advBidxc.renderAd = function () {};\\n            window.advBidxc.startTime = new Date().getTime();\\n            window.advBidxc.customerId = \"8CU2553YN\"; //Media.net Customer ID\\n            window.advBidxc.timeout = 300;\\n            window.advBidxc.loadGPT = setTimeout(loadGPT, window.advBidxc.timeout);\\n\\n            // append index\\n            var a = document.createElement(\"script\");\\n            a.type = \"text/javascript\";\\n            a.async = true;\\n            a.src = indexBid;\\n            s.parentNode.insertBefore(a, s);\\n\\n            // append media.net\\n            var b = document.createElement(\"script\");\\n            b.type = \"text/javascript\";\\n            b.async = true;\\n            b.src = mediaDotNet;\\n            s.parentNode.insertBefore(b, s);\\n        })();\\n    </script>\\n\\n    <!-- Amazon Bidder version 2 Initialization Script -->\\n    <script type=\"text/javascript\">\\n        //Load the ApsTag JavaScript Library\\n        !function(a9,a,p,s,t,A,g){if(a[a9])return;function q(c,r){a[a9]._Q.push([c,r])}a[a9]={init:function(){q(\"i\",arguments)},fetchBids:function(){q(\"f\",arguments)},setDisplayBids:function(){},targetingKeys:function(){return[]},_Q:[]};A=p.createElement(s);A.async=!0;A.src=t;g=p.getElementsByTagName(s)[0];g.parentNode.insertBefore(A,g)}(\"apstag\",window,document,\"script\",\"//c.amazon-adsystem.com/aax2/apstag.js\");\\n\\n        apstag.init({\\n            pubID: \\'3030\\',\\n            adServer: \\'googletag\\'\\n        });\\n    </script>\\n\\n\\n\\t<script type=\"text/json\" id=\"trending-link-json\">\\n\\t</script>\\n\\n<!--esi\\n<script id=\"user-info-data\" type=\"application/json\">\\n<esi:include src=\"/svc/web-products/userinfo-v3.json\" />\\n</script>\\n-->\\n<script id=\"magnum-feature-flags\" type=\"application/json\">[\"limitFabrikSave\",\"moreFollowSuggestions\",\"unfollowComments\",\"scoopTool\",\"videoVHSCover\",\"videoVHSShareTools\",\"videoVHSLive\",\"videoVHSNewControls\",\"videoVHSEmbeddedOnly\",\"allTheEmphases\",\"freeTrial\",\"dedupeWhatsNext\",\"trendingPageLinks\",\"sprinklePaidPost\",\"headerBidder\",\"standardizeWhatsNextCollection\",\"onlyLayoutA\",\"simple\",\"simpleExtendedByline\",\"collectionsWhatsNext\",\"mobileMediaViewer\",\"podcastInLede\",\"MovieTickets\",\"MoreInSubsectionFix\",\"seriesIssueMarginalia\",\"serverSideCollectionUrls\",\"multipleBylines\",\"fabrikWebsocketsOnly\",\"translationLinks\",\"papihttps\",\"verticalFullBleed\",\"updateRestaurantReservations\",\"mapDining\",\"newsletterInlineModule\",\"PersonalizationApiUpdate\",\"apsTagEnabled\",\"removeInternationalEdition\",\"headlineBalancer\",\"clientSideABRA\",\"newsletterTitleTracking\",\"surveyInterstitial\",\"removeFBMessengerPromo\",\"removeMarginaliaAbTest\",\"paidpostSprinklingFix\",\"abraOverrideVersion\",\"headlineBalancerEverywhere\",\"signupFavor\",\"lazyloadOakImages\",\"mapleFreeTrial\",\"adQuerySupportForMultipleUserAddedKeywords\",\"removeSectionDependentAdLogicForJanuary\",\"oakUpdateAdStride\",\"autoPlaceNewsletter\",\"piiBlockDFP\",\"adExclusiveIERibbonCheck\",\"FlexAdDoubleHeightTracking\",\"didScroll\",\"supportedByAdFullBleed\",\"anchorsHttps\",\"oakBylineMargin\",\"TopFlexAdSiteWide\",\"BundlePayFlow\",\"loadArticleOptimizely\",\"oakStyleTouchups\",\"oakBasicHeader\",\"serveOakOnVI\",\"opinionHeadline\",\"indexAsHeaderBidder\",\"newsletterRegiTest\",\"bookReviewBuyButton\",\"caslOpt\",\"sectionBasedAmp\",\"abraInCustomParams\",\"jkiddScript\",\"blueKai\",\"showNewDealbookLogo\",\"commentsUserDataUpdateDisabled\"]</script>\\n<script>\\nvar require = {\\n    baseUrl: \\'https://a1.nyt.com/assets/\\',\\n    waitSeconds: 20,\\n    paths: {\\n        \\'foundation\\': \\'article/20180119-120611/js/foundation\\',\\n        \\'shared\\': \\'article/20180119-120611/js/shared\\',\\n        \\'article\\': \\'article/20180119-120611/js/article\\',\\n        \\'application\\': \\'article/20180119-120611/js/article/story\\',\\n        \\'videoFactory\\': \\'https://static01.nyt.com/js2/build/video/2.0/videofactoryrequire\\',\\n        \\'videoPlaylist\\': \\'https://static01.nyt.com/js2/build/video/players/extended/2.0/appRequire\\',\\n        \\'auth/mtr\\': \\'https://static01.nyt.com/js/mtr\\',\\n        \\'auth/growl\\': \\'https://static01.nyt.com/js/auth/growl/default\\',\\n        \\'vhs\\': \\'https://static01.nyt.com/video/vhs/build/vhs-2.x.min\\',\\n        \\'vhs3\\': \\'https://static01.nyt.com/video-static/vhs3/vhs.min\\'\\n    },\\n    map: {\\n        \\'*\\': {\\n            \\'story/main\\': \\'article/story/main\\'\\n        }\\n    }\\n};\\n</script>\\n<!--[if (gte IE 9)|!(IE)]> <!-->\\n<script data-main=\"foundation/main\" src=\"https://a1.nyt.com/assets/article/20180119-120611/js/foundation/lib/framework.js\"></script>\\n<!--<![endif]-->\\n<!--[if lt IE 9]>\\n<script>\\n    require.map[\\'*\\'][\\'foundation/main\\'] = \\'foundation/legacy_main\\';\\n</script>\\n<script data-main=\"foundation/legacy_main\" src=\"https://a1.nyt.com/assets/article/20180119-120611/js/foundation/lib/framework.js\"></script>\\n<![endif]-->\\n    <script>\\n    require([\\'foundation/main\\'], function () {\\n        require([\\'auth/mtr\\', \\'auth/growl\\']);\\n    });\\n    </script>\\n</head>\\n\\n<body>\\n    \\n    <style>\\n    .lt-ie10 .messenger.suggestions {\\n        display: block !important;\\n        height: 50px;\\n    }\\n\\n    .lt-ie10 .messenger.suggestions .message-bed {\\n        background-color: #f8e9d2;\\n        border-bottom: 1px solid #ccc;\\n    }\\n\\n    .lt-ie10 .messenger.suggestions .message-container {\\n        padding: 11px 18px 11px 30px;\\n    }\\n\\n    .lt-ie10 .messenger.suggestions .action-link {\\n        font-family: \"nyt-franklin\", arial, helvetica, sans-serif;\\n        font-size: 10px;\\n        font-weight: bold;\\n        color: #a81817;\\n        text-transform: uppercase;\\n    }\\n\\n    .lt-ie10 .messenger.suggestions .alert-icon {\\n        background: url(\\'https://static01.nyt.com/images/icons/icon-alert-12x12-a81817.png\\') no-repeat;\\n        width: 12px;\\n        height: 12px;\\n        display: inline-block;\\n        margin-top: -2px;\\n        float: none;\\n    }\\n\\n    .lt-ie10 .masthead,\\n    .lt-ie10 .navigation,\\n    .lt-ie10 .comments-panel {\\n        margin-top: 50px !important;\\n    }\\n\\n    .lt-ie10 .ribbon {\\n        margin-top: 97px !important;\\n    }\\n</style>\\n<div id=\"suggestions\" class=\"suggestions messenger nocontent robots-nocontent\" style=\"display:none;\">\\n    <div class=\"message-bed\">\\n        <div class=\"message-container last-message-container\">\\n            <div class=\"message\">\\n                <span class=\"message-content\">\\n                    <i class=\"icon alert-icon\"></i><span class=\"message-title\">NYTimes.com no longer supports Internet Explorer 9 or earlier. Please upgrade your browser.</span>\\n                    <a href=\"http://www.nytimes.com/content/help/site/ie9-support.html\" class=\"action-link\">LEARN MORE »</a>\\n                </span>\\n            </div>\\n        </div>\\n    </div>\\n</div>\\n\\n    <div id=\"shell\" class=\"shell\">\\n    <header id=\"masthead\" class=\"masthead masthead-theme-transparent\" role=\"banner\">\\n    <div class=\"container\">\\n        <div class=\"quick-navigation button-group\">\\n            <button class=\"button sections-button\"><i class=\"icon sprite-icon\"></i><span class=\"button-text\">Sections</span></button>\\n            <button class=\"button home-button\" data-href=\"https://www.nytimes.com/\"><i class=\"icon sprite-icon\"></i><span class=\"button-text\">Home</span></button>\\n            <button class=\"button search-button\"><i class=\"icon sprite-icon\"></i><span class=\"button-text\">Search</span></button>\\n            <a class=\"button skip-button skip-to-content visually-hidden focusable\" href=\"#story-header\">Skip to content</a>\\n                        <a class=\"button skip-button skip-to-navigation visually-hidden focusable\" href=\"#site-index-navigation\">Skip to navigation</a>\\n                                    <a class=\"button skip-button skip-to-mobile visually-hidden focusable\" href=\"http://mobile.nytimes.com/2016/08/28/magazine/inside-facebooks-totally-insane-unintentionally-gigantic-hyperpartisan-political-media-machine.html\">View mobile version</a>\\n                    </div><!-- close button-group -->\\n        <div class=\"branding\">\\n            <h2 class=\"branding-heading\">\\n                <a id=\"branding-heading-link\" href=\"https://www.nytimes.com/section/magazine\">\\n                    <span class=\"visually-hidden\">The New York Times</span>\\n                </a>\\n            </h2>\\n            <script>window.magnum.writeLogo(\\'small\\', \\'https://a1.nyt.com/assets/article/20180119-120611/images/foundation/logos/\\', \\'magazine\\', \\'masthead-theme-transparent\\', \\'standard\\', \\'branding-heading-link\\', \\'article\\');</script>\\n                    </div><!-- close branding -->\\n                <div class=\"story-meta\">\\n            <h6 class=\"kicker\"><span class=\"kicker-label\"><a href=\"https://www.nytimes.com/section/magazine\">Magazine</a></span><span class=\"pipe\">|</span>Inside Facebook’s (Totally Insane, Unintentionally Gigantic, Hyperpartisan) Political-Media Machine</h6>\\n        </div><!-- close story-meta -->\\n        <div class=\"user-tools\">\\n            <div id=\"sharetools-masthead\" aria-label=\"tools\" role=\"group\" class=\"sharetools theme-classic  sharetools-masthead  \"\\ndata-shares=\"facebook,twitter,pinterest,email,show-all,save,More\"\\ndata-url=\"https://www.nytimes.com/2016/08/28/magazine/inside-facebooks-totally-insane-unintentionally-gigantic-hyperpartisan-political-media-machine.html\"\\ndata-title=\"Inside Facebook’s (Totally Insane, Unintentionally Gigantic, Hyperpartisan) Political-Media Machine\"\\ndata-author=\"By JOHN HERRMAN\"\\ndata-media=\"https://static01.nyt.com/images/2016/08/28/magazine/28facebook1/28facebook1-jumbo-v2.jpg\"\\ndata-description=\"How a strange new class of media outlet has arisen to take over our news feeds.\"\\n\\tdata-publish-date=\"August 24, 2016\"\\n>\\n<div class=\"ad sharetools-inline-article-ad hidden nocontent robots-nocontent\">\\n</div>\\n</div><!-- close shareTools -->\\n            <div class=\"user-tools-button-group button-group\">\\n                <button class=\"button comments-button  theme-speech-bubble-x-small\" data-skip-to-para-id=\"\">\\n</button>\\n                <!-- <button class=\"button notifications-button hidden\"><span class=\"button-text\">0</span></button> -->\\n            </div><!-- close user-tools-button-group -->\\n        </div><!-- close user-tools -->\\n    </div><!-- close container -->\\n    <div class=\"search-flyout-panel flyout-panel\">\\n    <button class=\"button close-button\" type=\"button\"><i class=\"icon\"></i><span class=\"visually-hidden\">Close search</span></button>\\n    <nav class=\"search-form-control form-control layout-horizontal\">\\n    <h2 class=\"visually-hidden\">Site Search Navigation</h2>\\n    <form class=\"search-form\" role=\"search\">\\n        <div class=\"control\">\\n            <div class=\"label-container visually-hidden\">\\n                                <label for=\"search-input\">Search NYTimes.com</label>\\n                            </div>\\n            <div class=\"field-container\">\\n                                <input id=\"search-input\" name=\"search-input\" type=\"text\" class=\"search-input text\" autocomplete=\"off\" placeholder=\"Search NYTimes.com\" />\\n                \\n                <button type=\"button\" class=\"button clear-button\" tabindex=\"-1\" aria-describedby=\"clear-search-input\"><i class=\"icon\"></i><span id=\"clear-search-input\" class=\"visually-hidden\">Clear this text input</span></button>\\n                <div class=\"auto-suggest\" style=\"display: none;\">\\n                    <ol></ol>\\n                </div>\\n                <button class=\"button submit-button\" type=\"submit\">Go</button>\\n            </div>\\n        </div><!-- close control -->\\n    </form>\\n</nav>\\n\\n\\n</div><!-- close flyout-panel -->\\n    <div id=\"notification-modals\" class=\"notification-modals\"></div>\\n<span class=\"story-short-url\"><a href=\"https://nyti.ms/2bzePnO\">https://nyti.ms/2bzePnO</a></span></header>\\n            \\n<script type=\"text/javascript\">\\n(function () {\\n    var ribbon;\\n    if (window.magnum.getFlags().indexOf(\\'adAggro\\') !== -1 &&\\n        (window.NYTD.Abra(\\'www-story-pro-agro\\') !== \\'control\\' &&\\n        window.NYTD.Abra(\\'www-story-pro-agro\\') !== null &&\\n        window.NYTD.Abra(\\'www-story-pro-agro\\') !== \\'null\\' &&\\n        window.NYTD.Abra(\\'www-story-pro-agro\\') !== \\'\\')) {\\n        ribbon = document.querySelector(\\'#ribbon\\');\\n        if (ribbon && ribbon.parentNode) {\\n            ribbon.parentNode.removeChild(ribbon);\\n        }\\n    }\\n})();\\n</script>\\n        <nav id=\"navigation\" class=\"navigation\">\\n    <h2 class=\"visually-hidden\">Site Navigation</h2>\\n</nav><!-- close navigation -->\\n\\n<nav id=\"mobile-navigation\" class=\"mobile-navigation hidden\">\\n    <h2 class=\"visually-hidden\">Site Mobile Navigation</h2>\\n</nav><!-- close mobile-navigation -->\\n\\n    <div id=\"page\" class=\"page\">\\n                <main id=\"main\" class=\"main\" role=\"main\">\\n        <article id=\"story\" class=\"story theme-main has-vertical-full-bleed bleed-align-right transparent-vertical-full-bleed\">\\n\\n    <div id=\\'TragedyAd\\' class=\\'ad tragedy-ad nocontent robots-nocontent\\'></div>\\n\\n    \\n    <header id=\"story-header\" class=\"story-header\">\\n                    <figure id=\"media-100000004602749\" class=\"media cover photo media-orientation-vertical layout-vertical-full-bleed\" data-bleed-style=\"vertical-full-bleed\" itemid=\"https://static01.nyt.com/images/2016/08/28/magazine/28facebook1/28facebook1-articleLarge-v2.jpg\" itemtype=\"http://schema.org/ImageObject\" aria-label=\"media\" role=\"presentation\">\\n    <span class=\"visually-hidden\">Cover Photo</span>\\n    <div class=\"image\">\\n        <img id=\"media-image-100000004602749\" src=\"https://static01.nyt.com/images/2016/08/28/magazine/28facebook1/28facebook1-articleLarge-v2.jpg\" alt=\"\" data-jumbosrc=\"https://static01.nyt.com/images/2016/08/28/magazine/28facebook1/28facebook1-jumbo-v2.jpg\" data-superjumbosrc=\"https://static01.nyt.com/images/2016/08/28/magazine/28facebook1/28facebook1-superJumbo-v2.jpg\" />\\n    </div>\\n        <figcaption id=\"media-caption-100000004602749\" class=\"caption\" itemprop=\"caption description\">\\n                        <span class=\"credit\" itemprop=\"copyrightHolder\">\\n            <span class=\"visually-hidden\">Credit</span>\\n            Illustration by Pablo Delcan        </span>\\n            </figcaption>\\n        <meta itemprop=\"height\" content=\"790\">\\n    <meta itemprop=\"width\" content=\"600\">\\n</figure>\\n                                <div id=\"story-meta\" class=\"story-meta \">\\n                                                <h1 id=\"headline\" class=\"headline balance-text\">Inside Facebook’s (Totally Insane, Unintentionally Gigantic, Hyperpartisan) Political-Media Machine</h1>\\n        <p itemprop=\"headline\" id=\"story-deck\" class=\"deck balance-text\">How a strange new class of media outlet has arisen to take over our news feeds.</p>\\n                                                    <div id=\"story-meta-footer\" class=\"story-meta-footer\">\\n                                                                                                    \\n\\n<p class=\"byline-dateline\"><span class=\"byline\" itemprop=\"author creator\" itemscope itemtype=\"http://schema.org/Person\"  itemid=\"https://www.nytimes.com/by/john-herrman\">By <a href=\"https://www.nytimes.com/by/john-herrman\" title=\"More Articles by JOHN HERRMAN\"><span class=\"byline-author\" data-byline-name=\"JOHN HERRMAN\" itemprop=\"name\" data-twitter-handle=\"jwherrman\">JOHN HERRMAN</span></a></span><time class=\"dateline\" datetime=\"2017-10-28T14:18:22-04:00\" itemprop=\"dateModified\" content=\"2017-10-28T14:18:22-04:00\">AUG. 24, 2016</time>\\n</p>\\n\\n                                    <div class=\"story-meta-footer-sharetools\">\\n                        <div id=\"sharetools-story-meta-footer\" aria-label=\"tools\" role=\"group\" class=\"sharetools theme-classic  sharetools-story-meta-footer  \"\\ndata-shares=\"facebook,twitter,pinterest,email,show-all,save\"\\ndata-url=\"https://www.nytimes.com/2016/08/28/magazine/inside-facebooks-totally-insane-unintentionally-gigantic-hyperpartisan-political-media-machine.html\"\\ndata-title=\"Inside Facebook’s (Totally Insane, Unintentionally Gigantic, Hyperpartisan) Political-Media Machine\"\\ndata-author=\"By JOHN HERRMAN\"\\ndata-media=\"https://static01.nyt.com/images/2016/08/28/magazine/28facebook1/28facebook1-jumbo-v2.jpg\"\\ndata-description=\"How a strange new class of media outlet has arisen to take over our news feeds.\"\\n\\tdata-publish-date=\"August 24, 2016\"\\n>\\n<a class=\"visually-hidden skip-to-text-link\" href=\"#story-continues-1\">Continue reading the main story</a>\\n<span class=\"sharetools-label visually-hidden\">Share This Page</span>\\n<div class=\"ad sharetools-inline-article-ad hidden nocontent robots-nocontent\">\\n<a class=\"visually-hidden skip-to-text-link\" href=\"#story-continues-1\">Continue reading the main story</a>\\n</div>\\n</div><!-- close shareTools -->\\n                                            </div>\\n                            </div><!-- close story-meta-footer -->\\n        </div><!-- close story-meta -->\\n    </header>\\n\\n    <script type=\"text/javascript\">\\n        if (\\n            window.magnum\\n            && window.magnum.getFlags().indexOf(\\'headlineBalancer\\') > 0\\n            && window.magnum.headlineBalancer\\n            && window.magnum.headlineBalancer.initialize\\n            && window.magnum.headlineBalancer.shouldRun()\\n        ) {\\n            window.magnum.headlineBalancer.initialize();\\n        }\\n    </script>\\n\\n        \\n    <div class=\"story-body-supplemental\">\\n    <div class=\"story-body story-body-1\">\\n        <script>\\n\\tif (window.magnum && window.magnum.responsiveImages && window.magnum.responsiveImages.setCoverImage) {\\n\\t\\twindow.magnum.responsiveImages.setCoverImage(\\'100000004602749\\',\\'vertical-full-bleed\\',790,600,2.0663404023926,6.0171919770774,2.5013594344753,5.945558739255,\\'#FFFFFF\\');\\n\\t}\\n</script>\\n<p class=\"story-body-text story-content\" data-para-count=\"485\" data-total-count=\"485\"><span class=\"dropcap\">O</span>pen your Facebook feed. What do you see? A photo of a close friend’s child. An automatically generated slide show commemorating six years of friendship between two acquaintances. An eerily on-target ad for something you’ve been meaning to buy. A funny video. A sad video. A recently live video. Lots of video; more video than you remember from before. A somewhat less-on-target ad. Someone you saw yesterday feeling blessed. Someone you haven’t seen in 10 years feeling worried.</p><p class=\"story-body-text story-content\" data-para-count=\"734\" data-total-count=\"1219\">And then: A family member who loves politics asking, “Is this really who we want to be president?” A co-worker, whom you’ve never heard talk about politics, asking the same about a different candidate. A story about Donald Trump that “just can’t be true” in a figurative sense. A story about Donald Trump that “just can’t be true” in a literal sense. A video of Bernie Sanders speaking, overlaid with text, shared from a source you’ve never seen before, viewed 15 million times. An article questioning Hillary Clinton’s honesty; a headline questioning Donald Trump’s sanity. A few shares that go a bit too far: headlines you would never pass along yourself but that you might tap, read and probably not forget.</p><p class=\"story-body-text story-content\" data-para-count=\"637\" data-total-count=\"1856\">Maybe you’ve noticed your feed becoming bluer; maybe you’ve felt it becoming redder. Either way, in the last year, it has almost certainly become more intense. You’ve seen a lot of media sources you don’t recognize and a lot of posts bearing no memorable brand at all. You’ve seen politicians and celebrities and corporations weigh in directly; you’ve probably seen posts from the candidates themselves. You’ve seen people you’re close to and people you’re not, with increasing levels of urgency, declare it is now time to speak up, to take a stand, to set aside allegiances or hangups or political correctness or hate.</p><p class=\"story-body-text story-content\" data-para-count=\"622\" data-total-count=\"2478\">Facebook, in the years leading up to this election, hasn’t just become nearly ubiquitous among American internet users; it has centralized online news consumption in an unprecedented way. According to the company, its site is used by more than 200 million people in the United States each month, out of a total population of 320 million. A 2016 Pew study found that <a href=\"http://www.journalism.org/2016/05/26/news-use-across-social-media-platforms-2016/\">44 percent of Americans</a> read or watch news on Facebook. These are approximate exterior dimensions and can tell us only so much. But we can know, based on these facts alone, that Facebook is hosting a huge portion of the political conversation in America.</p>        <a class=\"visually-hidden skip-to-text-link\" href=\"#story-continues-1\">Continue reading the main story</a>\\n    </div><!-- close story-body -->\\n    <div class=\"supplemental first\" id=\"supplemental-1\">\\n    </div><!-- close supplemental -->\\n</div><!-- close story-body-supplemental -->\\n<div class=\"story-interrupter\" id=\"story-continues-1\">\\n    <div id=\"FlexAd\" class=\"ad flex-ad nocontent robots-nocontent\">\\n    <div class=\"accessibility-ad-header visually-hidden\">\\n    <p>Advertisement</p>\\n</div>\\n<a class=\"visually-hidden skip-to-text-link\" href=\"#story-continues-2\">Continue reading the main story</a>\\n    <div class=\"flex-ad-creative\"></div>\\n</div>\\n</div>\\n<div class=\"story-body-supplemental\">\\n    <div class=\"story-body story-body-2\">\\n        <script>\\n\\tif (window.magnum && window.magnum.responsiveImages && window.magnum.responsiveImages.setCoverImage) {\\n\\t\\twindow.magnum.responsiveImages.setCoverImage(\\'100000004602749\\',\\'vertical-full-bleed\\',790,600,2.0663404023926,6.0171919770774,2.5013594344753,5.945558739255,\\'#FFFFFF\\');\\n\\t}\\n</script>\\n<p class=\"story-body-text story-content\" data-para-count=\"906\" data-total-count=\"3384\" id=\"story-continues-2\">The Facebook product, to users in 2016, is familiar yet subtly expansive. Its algorithms have their pick of text, photos and video produced and posted by established media organizations large and small, local and national, openly partisan or nominally unbiased. But there’s also a new and distinctive sort of operation that has become hard to miss: political news and advocacy pages made specifically for Facebook, uniquely positioned and cleverly engineered to reach audiences exclusively in the context of the news feed. These are news sources that essentially do not exist outside of Facebook, and you’ve probably never heard of them. They have names like Occupy Democrats; The Angry Patriot; US Chronicle; Addicting Info; RightAlerts; Being Liberal; Opposing Views; Fed-Up Americans; American News; and hundreds more. Some of these pages have millions of followers; many have hundreds of thousands.</p><div class=\"newsletter-signup variant-1-hidden \" id=\"newsletter-promo\" data-newsletter-productCode=\"MA\" data-newsletter-productTitle=\"The New York Times Magazine\" aria-labeledby=\"newsletter-promo-heading\">\\n    <h2 class=\"visually-hidden\" id=\"newsletter-promo-heading\">Newsletter Sign Up</h2>\\n    <a class=\"visually-hidden skip-to-text-link\" href=\"#continues-post-newsletter\">Continue reading the main story</a>\\n        <h3 class=\"headline\">Sign Up for the Magazine Newsletter</h3>    <p class=\"summary\">Get the best of the Magazine delivered to your inbox every week, including exclusive feature stories, photography, columns and more.</p>    <form name=\"regilite\" class=\"newsletter-form\" method=\"post\" autocomplete=\"off\">\\n        <div class=\"control input-control\">\\n            <div class=\"form-errors\">\\n                <p class=\"error captcha-error hidden\">Please verify you\\'re not a robot by clicking the box.</p>\\n                <p class=\"error invalid-email-error hidden\">Invalid email address. Please re-enter.</p>\\n                <p class=\"error buffet-error hidden\">You must select a newsletter to subscribe to.</p>\\n            </div>\\n            <div class=\"field-container\">\\n                <input id=\"email\" name=\"email\" class=\"email-input\" type=\"email\" aria-required=\"true\" placeholder=\"Enter your email address\" value=\"\">\\n                <button id=\"submit-button\" type=\"submit\" class=\"button submit-button\">Sign Up</button>\\n            </div>\\n        </div><!-- close control -->\\n        <div class=\"control checkbox-control\">\\n            <div class=\"field-container\">\\n                <input id=\"special-offers\" class=\"checkbox\" type=\"checkbox\" name=\"special-offers\" value=\"MM\">\\n            </div>\\n            <div class=\"label-container\">\\n                <label class=\"checkbox-label\" for=\"special-offers\">You agree to receive occasional updates and special offers for The New York Times\\'s products and services.</label>\\n            </div>\\n        </div><!-- close control -->\\n        <div class=\"g-recaptcha\" id=\"captcha-container\" data-sitekey=\"6LeN0R4TAAAAACwPa5WX2QYE0npOf2-2veTOm2Tp\"></div>\\n    </form>\\n    <div class=\"messages\">\\n        <h3 class=\"success-message hidden\">Thank you for subscribing.</h3>\\n        <h3 class=\"error submit-error hidden\">An error has occurred. Please try again later.</h3>\\n        <h3 class=\"subscriber hidden\">You are already subscribed to this email.</h3>\\n        <p class=\"view-all-link hidden\"><a href=\"/newsletters\" target=\"_blank\">View all New York Times newsletters.</a></p>\\n    </div><!-- close messages -->\\n    <ul class=\"footer\">\\n                <li id=\"sample-newsletter-link\" class=\"sample\"><a href=\"http://www.nytimes.com/newsletters/sample/magazine?pgtype=subscriptionspage&version=new&contentId=MA&eventName=sample&module=newsletter-sign-up\" target=\"_blank\">See Sample</a></li>\\n                <li class=\"manage-email\"><a href=\"/mem/email.html\" target=\"_blank\">Manage Email Preferences</a></li>\\n        <li class=\"logout hidden\"><a href=\"/logout\" target=\"_blank\">Not you?</a></li>\\n        <li class=\"privacy\"><a href=\"/privacy\" target=\"_blank\">Privacy Policy</a></li>\\n        <li class=\"contact\">Opt out or <a href=\"/help/index.html\" target=\"_blank\">contact us</a> anytime</li>\\n    </ul><!-- close footer -->\\n    <script src=\"https://www.google.com/recaptcha/api.js\" async=\"async\" defer=\"defer\"></script>\\n</div>\\n<div id=\"#continues-post-newsletter\"></div>\\n<p class=\"story-body-text story-content\" data-para-count=\"452\" data-total-count=\"3836\">Using a tool called CrowdTangle, which tracks engagement for Facebook pages across the network, you can see which pages are most shared, liked and commented on, and which pages dominate the conversation around election topics. Using this data, I was able to speak to a wide array of the activists and entrepreneurs, advocates and opportunists, reporters and hobbyists who together make up 2016’s most disruptive, and least understood, force in media.</p><p class=\"story-body-text story-content\" data-para-count=\"970\" data-total-count=\"4806\">Individually, these pages have meaningful audiences, but cumulatively, their audience is gigantic: tens of millions of people. On Facebook, they rival the reach of their better-funded counterparts in the political media, whether corporate giants like CNN or The New York Times, or openly ideological web operations like Breitbart or Mic. And unlike traditional media organizations, which have spent years trying to figure out how to lure readers out of the Facebook ecosystem and onto their sites, these new publishers are happy to live inside the world that Facebook has created. Their pages are accommodated but not actively courted by the company and are not a major part of its public messaging about media. But they are, perhaps, the purest expression of Facebook’s design and of the incentives coded into its algorithm — a system that has already reshaped the web and has now inherited, for better or for worse, a great deal of America’s political discourse.</p><div id=\"story-ad-1\" class=\"story-ad ad ad-placeholder nocontent robots-nocontent \">\\n    <div class=\"accessibility-ad-header visually-hidden\">\\n    <p>Advertisement</p>\\n</div>\\n<a class=\"visually-hidden skip-to-text-link\" href=\"#story-continues-3\">Continue reading the main story</a>\\n</div>\\n<p class=\"story-body-text story-content\" data-para-count=\"639\" data-total-count=\"5445\" id=\"story-continues-3\"><strong>In 2006,</strong> when Mark Zuckerberg dropped out of college to run his rapidly expanding start-up, Mark Provost was a student at Rogers State University in Claremore, Okla., and going through a rough patch. He had transferred restlessly between schools, and he was taking his time to graduate; a stock-picking hobby that grew into a promising source of income had fallen apart. His outlook was further darkened by the financial crisis and by the years of personal unemployment that followed. When the Occupy movement began, he quickly got on board. It was only then, when Facebook was closing in on its billionth user, that he joined the network.</p><p class=\"story-body-text story-content\" data-para-count=\"467\" data-total-count=\"5912\">Now 36, Provost helps run US Uncut, a left-leaning Facebook page and website with more than 1.5 million followers, about as many as MSNBC has, from his apartment in Philadelphia. (Sample headlines: <a href=\"https://www.facebook.com/usauncut/posts/1254899871211158\">“Bernie Delegates Want You to See This DNC Scheme to Silence Them”</a> and “This Sanders Delegate Unleashing on Hillary Clinton Is Going Absolutely Viral.”) He frequently contributes to another popular page, The Other 98%, which has more than 2.7 million followers.</p><p class=\"story-body-text story-content\" data-para-count=\"494\" data-total-count=\"6406\">Occupy got him on Facebook, but it was the 2012 election that showed him its potential. As he saw it, that election was defined by social media. He mentioned a set of political memes that now feel generationally distant: Clint Eastwood’s empty chair at the 2012 Republican National Convention and Mitt Romney’s debate gaffe about “binders full of women.” He thought it was a bit silly, but he saw in these viral moments a language in which activists like him could spread their message.</p><p class=\"story-body-text story-content\" data-para-count=\"898\" data-total-count=\"7304\">Provost’s page now communicates frequently in memes, images with overlaid text. “May I suggest,” began one, posted in May 2015, when opposition to the Trans-Pacific Partnership was gaining traction, <a href=\"https://www.facebook.com/usauncut/photos/a.190167221017767.44131.186219261412563/976953659005782/?type=3&amp;theater\">“the first 535 jobs we ship overseas?”</a> Behind the text was a photo of Congress. Many are more earnest. In an image posted shortly thereafter, a photo of Bernie Sanders was overlaid with a quote: “If Germany, Denmark, Sweden and many more provide tuition-free college,” read the setup, before declaring in larger text, <a href=\"https://www.facebook.com/usauncut/photos/a.190167221017767.44131.186219261412563/979689148732233/?type=3&amp;theater\">“we should be doing the same.”</a> It has been shared more than 84,000 times and liked 75,000 more. Not infrequently, this level of zeal can cross into wishful thinking. A post headlined “Did Hillary Clinton Just Admit on LIVE TV That Her Iraq War Vote Was a Bribe?” was shared widely enough to merit <a href=\"http://www.snopes.com/hillary-clinton-iraq-vote-bribe/\">a response from Snopes</a>, which called it “quite a stretch.”</p><p class=\"story-body-text story-content\" data-para-count=\"814\" data-total-count=\"8118\">This year, political content has become more popular all across the platform: on homegrown Facebook pages, through media companies with a growing Facebook presence and through the sharing habits of users in general. But truly Facebook-native political pages have begun to create and refine a new approach to political news: cherry-picking and reconstituting the most effective tactics and tropes from activism, advocacy and journalism into a potent new mixture. This strange new class of media organization slots seamlessly into the news feed and is especially notable in what it asks, or doesn’t ask, of its readers. The point is not to get them to click on more stories or to engage further with a brand. The point is to get them to share the post that’s right in front of them. Everything else is secondary.</p><p class=\"story-body-text story-content\" data-para-count=\"499\" data-total-count=\"8617\">While web publishers have struggled to figure out how to take advantage of Facebook’s audience, these pages have thrived. Unburdened of any allegiance to old forms of news media and the practice, or performance, of any sort of ideological balance, native Facebook page publishers have a freedom that more traditional publishers don’t: to engage with Facebook purely on its terms. These are professional Facebook users straining to build media companies, in other words, not the other way around.</p><p class=\"story-body-text story-content\" data-para-count=\"605\" data-total-count=\"9222\">From a user’s point of view, every share, like or comment is both an act of speech and an accretive piece of a public identity. Maybe some people want to be identified among their networks as news junkies, news curators or as some sort of objective and well-informed reader. Many more people simply want to share specific beliefs, to tell people what they think or, just as important, what they don’t. A newspaper-style story or a dry, matter-of-fact headline is adequate for this purpose. But even better is a headline, or meme, that skips straight to an ideological conclusion or rebuts an argument.</p><p class=\"story-body-text story-content\" data-para-count=\"1176\" data-total-count=\"10398\">Rafael Rivero is an acquaintance of Provost’s who, with his twin brother, Omar, runs a page called Occupy Democrats, which passed three million followers in June. This accelerating growth is attributed by Rivero, and by nearly every left-leaning page operator I spoke with, not just to interest in the election but especially to one campaign in particular: “Bernie Sanders is the Facebook candidate,” Rivero says. The rise of Occupy Democrats essentially mirrored the rise of Sanders’s primary run. On his page, Rivero started quoting text from Sanders’s frequent email blasts, turning them into Facebook-ready memes with a consistent aesthetic: colors that pop, yellow on black. Rivero says that it’s clear what his audience wants. “I’ve probably made 10,000 graphics, and it’s like running 10,000 focus groups,” he said. (Clinton was and is, of course, widely discussed by Facebook users: According to the company, in the last month 40.8 million people “generated interactions” around the candidate. But Rivero says that in the especially engaged, largely oppositional left-wing-page ecosystem, Clinton’s message and cautious brand didn’t carry.)</p><div id=\"story-ad-2\" class=\"story-ad ad ad-placeholder nocontent robots-nocontent \">\\n    <div class=\"accessibility-ad-header visually-hidden\">\\n    <p>Advertisement</p>\\n</div>\\n<a class=\"visually-hidden skip-to-text-link\" href=\"#story-continues-4\">Continue reading the main story</a>\\n</div>\\n<p class=\"story-body-text story-content\" data-para-count=\"442\" data-total-count=\"10840\" id=\"story-continues-4\">Because the Sanders campaign has come to an end, these sites have been left in a peculiar position, having lost their unifying figure as well as their largest source of engagement. Audiences grow quickly on Facebook but can disappear even more quickly; in the case of left-leaning pages, many had accumulated followings not just by speaking to Sanders supporters but also by being intensely critical, and often utterly dismissive, of Clinton.</p>        <a class=\"visually-hidden skip-to-text-link\" href=\"#story-continues-5\">Continue reading the main story</a>\\n    </div><!-- close story-body -->\\n    <div class=\"supplemental \" id=\"supplemental-2\">\\n    </div><!-- close supplemental -->\\n</div><!-- close story-body-supplemental -->\\n<div class=\"story-interrupter\" id=\"story-continues-5\">\\n    <figure id=\"media-100000004602750\" class=\"media photo embedded layout-jumbo-horizontal media-100000004602750 ratio-tall\" data-media-action=\"modal\" itemprop=\"associatedMedia\" itemscope itemid=\"https://static01.nyt.com/images/2016/08/28/magazine/28facebook2/28mag-28facebook-t_CA1-superJumbo.jpg\" itemtype=\"http://schema.org/ImageObject\" aria-label=\"media\" role=\"group\">\\n    <span class=\"visually-hidden\">Photo</span>\\n    <div class=\"image\">\\n            <img src=\"https://static01.nyt.com/images/2016/08/28/magazine/28facebook2/28mag-28facebook-t_CA1-superJumbo.jpg\" alt=\"\" class=\"media-viewer-candidate\" data-mediaviewer-src=\"https://static01.nyt.com/images/2016/08/28/magazine/28facebook2/28mag-28facebook-t_CA1-superJumbo.jpg\" data-mediaviewer-caption=\"\" data-mediaviewer-credit=\"Screenshots from Facebook\"  itemprop=\"url\" itemid=\"https://static01.nyt.com/images/2016/08/28/magazine/28facebook2/28mag-28facebook-t_CA1-superJumbo.jpg\"/>\\n            <meta itemprop=\"height\" content=\"1761\" />\\n            <meta itemprop=\"width\" content=\"2048\" />\\n    </div>\\n        <figcaption class=\"caption\" itemprop=\"caption description\">\\n                        <span class=\"credit\" itemprop=\"copyrightHolder\">\\n            <span class=\"visually-hidden\">Credit</span>\\n            Screenshots from Facebook        </span>\\n            </figcaption>\\n    </figure>\\n</div>\\n<div class=\"story-body-supplemental\">\\n    <div class=\"story-body story-body-3\">\\n        <script>\\n\\tif (window.magnum && window.magnum.responsiveImages && window.magnum.responsiveImages.setCoverImage) {\\n\\t\\twindow.magnum.responsiveImages.setCoverImage(\\'100000004602749\\',\\'vertical-full-bleed\\',790,600,2.0663404023926,6.0171919770774,2.5013594344753,5.945558739255,\\'#FFFFFF\\');\\n\\t}\\n</script>\\n<p class=\"story-body-text story-content\" data-para-count=\"258\" data-total-count=\"11098\" id=\"story-continues-6\">Now that the nomination contest is over, Rivero has turned to making anti-Trump content. A post from earlier this month got straight to the point: <a href=\"https://www.facebook.com/OccupyDemocrats/photos/a.347907068635687.81180.346937065399354/1199602690132783/?type=3&amp;theater\">“Donald Trump is unqualified, unstable and unfit to lead. Share if you agree!”</a> More than 40,000 people did.</p><p class=\"story-body-text story-content\" data-para-count=\"100\" data-total-count=\"11198\">“It’s like a meme war,” Rivero says, “and politics is being won and lost on social media.”</p><p class=\"story-body-text story-content\" data-para-count=\"915\" data-total-count=\"12113\"><strong>In retrospect, Facebook’s </strong>takeover of online media looks rather like a slow-motion coup. Before social media, web publishers could draw an audience one of two ways: through a dedicated readership visiting its home page or through search engines. By 2009, this had started to change. Facebook had more than 300 million users, primarily accessing the service through desktop browsers, and publishers soon learned that a widely shared link could produce substantial traffic. In 2010, Facebook released widgets that publishers could embed on their sites, reminding readers to share, and these tools were widely deployed. By late 2012, when Facebook passed a billion users, referrals from the social network were sending visitors to publishers’ websites at rates sometimes comparable to Google, the web’s previous de facto distribution hub. Publishers took note of what worked on Facebook and adjusted accordingly.</p><p class=\"story-body-text story-content\" data-para-count=\"486\" data-total-count=\"12599\">This was, for most news organizations, a boon. The flood of visitors aligned with two core goals of most media companies: to reach people and to make money. But as Facebook’s growth continued, its influence was intensified by broader trends in internet use, primarily the use of smartphones, on which Facebook became more deeply enmeshed with users’ daily routines. Soon, it became clear that Facebook wasn’t just a source of readership; it was, increasingly, where readers lived.</p><p class=\"story-body-text story-content\" data-para-count=\"583\" data-total-count=\"13182\">Facebook, from a publisher’s perspective, had seized the web’s means of distribution by popular demand. A new reality set in, as a social-media network became an intermediary between publishers and their audiences. For media companies, the ability to reach an audience is fundamentally altered, made greater in some ways and in others more challenging. For a dedicated Facebook user, a vast array of sources, spanning multiple media and industries, is now processed through the same interface and sorting mechanism, alongside updates from friends, family, brands and celebrities.</p><p class=\"story-body-text story-content\" data-para-count=\"779\" data-total-count=\"13961\">From the start, some publishers cautiously regarded Facebook as a resource to be used only to the extent that it supported their existing businesses, wary of giving away more than they might get back. Others embraced it more fully, entering into formal partnerships for revenue sharing and video production, as The New York Times has done. Some new-media start-ups, most notably BuzzFeed, have pursued a comprehensively Facebook-centric production-and-distribution strategy. All have eventually run up against the same reality: A company that can claim nearly every internet-using adult as a user is less a partner than a context — a self-contained marketplace to which you have been granted access but which functions according to rules and incentives that you cannot control.</p><p class=\"story-body-text story-content\" data-para-count=\"575\" data-total-count=\"14536\">The news feed is designed, in Facebook’s public messaging, to “show people the stories most relevant to them” and ranks stories “so that what’s most important to each person shows up highest in their news feeds.” It is a framework built around personal connections and sharing, where value is both expressed and conferred through the concept of engagement. Of course, engagement, in one form or another, is what media businesses have always sought, and provocation has always sold news. But now the incentives are literalized in buttons and written into software.</p><p class=\"story-body-text story-content\" data-para-count=\"883\" data-total-count=\"15419\">Any sufficiently complex system will generate a wide variety of results, some expected, some not; some desired, others less so. On July 31, a Facebook page called Make America Great posted its final story of the day. “No Media Is Telling You About the Muslim Who Attacked Donald Trump, So We Will ...,” read the headline, next to <a href=\"https://www.facebook.com/makeamericagreattoday/posts/1778543319091148\">a small avatar of a pointing and yelling Trump.</a> The story was accompanied by a photo of Khizr Khan, the father of a slain American soldier. Khan spoke a few days earlier at the Democratic National Convention, delivering a searing speech admonishing Trump for his comments about Muslims. Khan, pocket Constitution in hand, was juxtaposed with the logo of the Muslim Brotherhood in Egypt. “It is a sad day in America,” the caption read, “where we the people must expose the TRUTH because the media is in the tank for 1 Presidential Candidate!”</p><div id=\"story-ad-3\" class=\"story-ad ad ad-placeholder nocontent robots-nocontent \">\\n    <div class=\"accessibility-ad-header visually-hidden\">\\n    <p>Advertisement</p>\\n</div>\\n<a class=\"visually-hidden skip-to-text-link\" href=\"#story-continues-7\">Continue reading the main story</a>\\n</div>\\n<p class=\"story-body-text story-content\" data-para-count=\"801\" data-total-count=\"16220\" id=\"story-continues-7\">Readers who clicked through to the story were led to an external website, called Make America Great Today, where they were presented with a brief write-up blended almost seamlessly into a solid wall of fleshy ads. Khan, the story said — between ads for “(1) Odd Trick to ‘Kill’ Herpes Virus for Good” and “22 Tank Tops That Aren’t Covering Anything” — is an agent of the Muslim Brotherhood and a “promoter of Islamic Shariah law.” His late son, the story suggests, could have been a “Muslim martyr” working as a double agent. A credit link beneath the story led to a similar-looking site called Conservative Post, from which the story’s text was pulled verbatim. Conservative Post had apparently sourced its story from a longer post on a right-wing site called Shoebat.com.</p><p class=\"story-body-text story-content\" data-para-count=\"560\" data-total-count=\"16780\">Within 24 hours, the post was shared more than 3,500 times, collecting a further 3,000 reactions — thumbs-up likes, frowning emoji, angry emoji — as well as 850 comments, many lengthy and virtually all impassioned. A modest success. Each day, according to Facebook’s analytics, posts from the Make America Great page are seen by 600,000 to 1.7 million people. In July, articles posted to the page, which has about 450,000 followers, were shared, commented on or liked more than four million times, edging out, for example, the Facebook page of USA Today.</p><p class=\"story-body-text story-content\" data-para-count=\"629\" data-total-count=\"17409\"><strong>Make America Great,</strong> which inhabits the fuzzy margins of the political Facebook page ecosystem, is owned and operated by a 35-year-old online marketer named Adam Nicoloff. He started the page in August 2015 and runs it from his home outside St. Louis. Previously, Nicoloff provided web services and marketing help for local businesses; before that, he worked in restaurants. Today he has shifted his focus to Facebook pages and websites that he administers himself. Make America Great was his first foray into political pages, and it quickly became the most successful in a portfolio that includes men’s lifestyle and parenting.</p><p class=\"story-body-text story-content\" data-para-count=\"860\" data-total-count=\"18269\">Nicoloff’s business model is not dissimilar from the way most publishers use Facebook: build a big following, post links to articles on an outside website covered in ads and then hope the math works out in your favor. For many, it doesn’t: Content is expensive, traffic is unpredictable and website ads are both cheap and alienating to readers. But as with most of these Facebook-native pages, Nicoloff’s content costs comparatively little, and the sheer level of interest in Trump and in the type of inflammatory populist rhetoric he embraces has helped tip Nicoloff’s system of advertising arbitrage into serious profitability. In July, visitors arriving to Nicoloff’s website produced a little more than $30,000 in revenue. His costs, he said, total around $8,000, partly split between website hosting fees and advertising buys on Facebook itself.</p><figure id=\"28mag-facebook-pullquote1\" class=\"interactive interactive-embedded  limit-small layout-small\">\\n    \\n    \\n    <figcaption class=\"interactive-caption\">\\n            </figcaption>\\n\\n        <div class=\"interactive-graphic\">\\n                <script>function getFlexData() { return {\"data\":{\"quote\":\"Such news exists primarily within users’ feeds, its authorship obscured, its provenance unclear, its veracity questionable. It exists so far outside the normal channels of news production and distribution that its claims will go unchallenged.\",\"attribution\":\"\"}}; }var NYTD=NYTD || {}; NYTD.FlexTypes = NYTD.FlexTypes || []; NYTD.FlexTypes.push({\"target\":\"FT100000004607131\",\"type\":\"Pull Quote\",\"data\":{\"quote\":\"Such news exists primarily within users’ feeds, its authorship obscured, its provenance unclear, its veracity questionable. It exists so far outside the normal channels of news production and distribution that its claims will go unchallenged.\",\"attribution\":\"\"}});</script><link href=\"https://static01.nyt.com/newsgraphics/2015/02/10/mag-pullquote-redesign/assets/style.css\" type=\"text/css\" rel=\"stylesheet\">\\r\\n\\r\\n<script>\\r\\n  var NYTG_ASSETS = \"https://static01.nyt.com/newsgraphics/2015/02/10/mag-pullquote-redesign/b585ac490ed3103c57423bc4f581ffac30ebc5df/\",\\r\\n      NYTG_BIG_ASSETS = \"https://static01.nyt.com/newsgraphics/2015/02/10/mag-pullquote-redesign/assets/\",\\r\\n      _gaq = _gaq || [];\\r\\n  require([\\'foundation/main\\'], function() {\\r\\n    require([\"https://static01.nyt.com/newsgraphics/2015/02/10/mag-pullquote-redesign/assets/build.js\"]); // generated from src/script.js\\r\\n  });\\r\\n</script><div id=\"FT100000004607131\"></div>            </div>\\n    \\n    <div class=\"footer\">\\n\\n        \\n        \\n        \\n    </div>\\n</figure>\\n<p class=\"story-body-text story-content\" data-para-count=\"1128\" data-total-count=\"19397\">Then, of course, there’s the content, which, at a few dozen posts a day, Nicoloff is far too busy to produce himself. “I have two people in the Philippines who post for me,” Nicoloff said, “a husband-and-wife combo.” From 9 a.m. Eastern time to midnight, the contractors scour the internet for viral political stories, many explicitly pro-Trump. If something seems to be going viral elsewhere, it is copied to their site and promoted with an urgent headline. (The Khan story was posted at the end of the shift, near midnight Eastern time, or just before noon in Manila.) The resulting product is raw and frequently jarring, even by the standards of this campaign. <a href=\"https://www.facebook.com/makeamericagreattoday/posts/1784379945174152\">“There’s No Way I’ll Send My Kids to Public School to Be Brainwashed by the LGBT Lobby,”</a> read one headline, linking to an essay ripped from Glenn Beck’s The Blaze; “Alert: UN Backs Secret Obama Takeover of Police; Here’s What We Know ...,” read another, copied from a site called The Federalist Papers Project. In the end, Nicoloff takes home what he jokingly described as a “doctor’s salary” — in a good month, more than $20,000.</p><p class=\"story-body-text story-content\" data-para-count=\"548\" data-total-count=\"19945\">Terry Littlepage, an internet marketer based in Las Cruces, N.M., has taken this model even further. He runs a collection of about 50 politically themed Facebook pages with names like The American Patriot and My Favorite Gun, which push visitors to a half-dozen external websites, stocked with content aggregated by a team of freelancers. He estimates that he spends about a thousand dollars a day advertising his pages on Facebook; as a result, they have more than 10 million followers. In a good month, Littlepage’s properties bring in $60,000.</p><p class=\"story-body-text story-content\" data-para-count=\"460\" data-total-count=\"20405\">Nicoloff and Littlepage say that Trump has been good for business, but each admits to some discomfort. Nicoloff, a conservative, says that there were other candidates he preferred during the Republican primaries but that he had come around to the nominee. Littlepage is also a recent convert. During the primaries, he was a Cruz supporter, and he even tried making some left-wing pages on Facebook but discovered that they just didn’t make him as much money.</p><p class=\"story-body-text story-content\" data-para-count=\"574\" data-total-count=\"20979\">In their angry, cascading comment threads, Make America Great’s followers express no such ambivalence. Nearly every page operator I spoke to was astonished by the tone their commenters took, comparing them to things like torch-wielding mobs and sharks in a feeding frenzy. No doubt because of the page’s name, some Trump supporters even mistake Nicoloff’s page for an official organ of the campaign. Nicoloff says that he receives dozens of messages a day from Trump supporters, expecting or hoping to reach the man himself. Many, he says, are simply asking for money.</p><div id=\"story-ad-4\" class=\"story-ad ad ad-placeholder nocontent robots-nocontent \">\\n    <div class=\"accessibility-ad-header visually-hidden\">\\n    <p>Advertisement</p>\\n</div>\\n<a class=\"visually-hidden skip-to-text-link\" href=\"#story-continues-8\">Continue reading the main story</a>\\n</div>\\n<p class=\"story-body-text story-content\" data-para-count=\"1241\" data-total-count=\"22220\" id=\"story-continues-8\"><strong>Many of these </strong>political news pages will likely find their cachet begin to evaporate after Nov. 8. But one company, the Liberty Alliance, may have found a way to create something sustainable and even potentially transformational, almost entirely within the ecosystem of Facebook. The Georgia-based firm was founded by Brandon Vallorani, formerly of Answers in Genesis, the organization that opened a museum in Kentucky promoting a literal biblical creation narrative. Today the Liberty Alliance has around 100 sites in its network, and about 150 Facebook pages, according to Onan Coca, the company’s 36-year-old editor in chief. He estimates their cumulative follower count to be at least 50 million. Among the company’s partners are the former congressman Allen West, the 2008 election personality Joe the Plumber, the conservative actor Kirk Cameron and the former “Saturday Night Live” cast member Victoria Jackson. Then there are Liberty’s countless news-oriented pages, which together have become an almost ubiquitous presence on right-leaning political Facebook in the last few years. Their names are instructive and evocative: Eagle Rising; Fighting for Trump; Patriot Tribune; Revive America; US Herald; The Last Resistance.</p><p class=\"story-body-text story-content\" data-para-count=\"551\" data-total-count=\"22771\">A dozen or so of the sites are published in-house, but posts from the company’s small team of writers are free to be shared among the entire network. The deal for a would-be Liberty Alliance member is this: You bring the name and the audience, and the company will build you a prefab site, furnish it with ads, help you fill it with content and keep a cut of the revenue. Coca told me the company brought in $12 million in revenue last year. (The company declined to share documentation further corroborating his claims about followers and revenue.)</p><p class=\"story-body-text story-content\" data-para-count=\"780\" data-total-count=\"23551\">Because the pages are run independently, the editorial product is varied. But it is almost universally tuned to the cadences and styles that seem to work best on partisan Facebook. It also tracks closely to conservative Facebook media’s big narratives, which, in turn, track with the Trump campaign’s messaging: Hillary Clinton is a crook and possibly mentally unfit; ISIS is winning; Black Lives Matter is the real racist movement; Donald Trump alone can save us; the system — all of it — is rigged. Whether the Liberty Alliance succeeds or fails will depend, at least in part, on Facebook’s algorithm. Systemic changes to the ecosystem arrive through algorithmic adjustments, and the company recently adjusted the news feed to “further reduce clickbait headlines.”</p><p class=\"story-body-text story-content\" data-para-count=\"753\" data-total-count=\"24304\">For now, the network hums along, mostly beneath the surface. A post from a Liberty Alliance page might find its way in front of a left-leaning user who might disagree with it or find it offensive, and who might choose to engage with the friend who posted it directly. But otherwise, such news exists primarily within the feeds of the already converted, its authorship obscured, its provenance unclear, its veracity questionable. It’s an environment that’s at best indifferent and at worst hostile to traditional media brands; but for this new breed of page operator, it’s mostly upside. In front of largely hidden and utterly sympathetic audiences, incredible narratives can take shape, before emerging, mostly formed, into the national discourse.</p><p class=\"story-body-text story-content\" data-para-count=\"817\" data-total-count=\"25121\">Consider the trajectory of a post from August, from a Facebook page called Patriotic Folks, the headline of which read, <a href=\"https://www.facebook.com/patrioticfolks/posts/844065465730567\">“Spread This: Media Rigging the Polls, Hiding New Evidence Proving Trump Is Winning.”</a> The article cited a litany of social-media statistics highlighting Trump’s superior engagement numbers, among them Trump’s Facebook following, which is nearly twice as large as Clinton’s. “Don’t listen to the lying media — the only legitimate attack they have left is Trump’s poll numbers,” it said. “Social media proves the GOP nominee has strong foundation and a firm backing.” The story spread across this right-wing Facebook ecosystem, eventually finding its way to Breitbart and finally to Sean Hannity’s “Morning Minute,” where he read through the statistics to his audience.</p><button class=\"button comments-button  theme-speech-bubble-large\" data-skip-to-para-id=\"\">\\n</button>\\n<p class=\"story-body-text story-content\" data-para-count=\"599\" data-total-count=\"25720\">Before Hannity signed off, he posed a question: “So, does that mean anything?” It’s a version of the question that everyone wants to answer about Facebook and politics, which is whether the site’s churning political warfare is actually changing minds — or, for that matter, beginning to change the political discourse as a whole. How much of what happens on the platform is a reflection of a political mood and widely held beliefs, simply captured in a new medium, and how much of it might be created, or intensified, by the environment it provides? What is Facebook doing to our politics?</p><p class=\"story-body-text story-content\" data-para-count=\"755\" data-total-count=\"26475\">Appropriately, the answer to this question can be chosen and shared on Facebook in whichever way you prefer. You might share this story from The New York Times Magazine, wondering aloud to your friends whether our democracy has been fundamentally altered by this publishing-and-advertising platform of unprecedented scale. Or you might just relax and find some memes to share from one of countless pages that will let you air your political id. But for the page operators, the question is irrelevant to the task at hand. Facebook’s primacy is a foregone conclusion, and the question of Facebook’s relationship to political discourse is absurd — they’re one and the same. As Rafael Rivero put it to me, “Facebook is where it’s all happening.”<span class=\"tombstone\"><i class=\"icon\"></i></span></p><footer class=\"story-footer story-content\">\\n    <div class=\"story-meta\">\\n                <div class=\"story-notes\"><p>John Herrman is a David Carr fellow at The New York Times.</p></div>\\n        <div class=\"story-info\"><p><i>Sign up for </i><a href=\"http://www.nytimes.com/newsletters/magazine\"><i>our newsletter</i></a><i> to get the best of The New York Times Magazine delivered to your inbox every week. </i></p></div>\\n\\n        \\n        <p class=\"story-print-citation\">A version of this article appears in print on August 28, 2016, on Page MM50 of the <span itemprop=\"printEdition\">Sunday Magazine</span> with the headline: Blue State. <span class=\"story-footer-links\">  <span><a href=\"http://www.nytimes.com/pages/todayspaper/index.html\" target=\"_blank\">Today\\'s Paper</a><span class=\"pipe\">|</span></span><span><a href=\"http://www.nytimes.com/subscriptions/Multiproduct/lp839RF.html?campaignId=48JQY\" target=\"_blank\">Subscribe</a></span>\\n</span>\\n</p>\\n\\n    </div><!-- close story-meta -->\\n    </footer>\\n        <a class=\"visually-hidden skip-to-text-link\" href=\"#whats-next\">Continue reading the main story</a>\\n    </div><!-- close story-body -->\\n    <div class=\"supplemental \" id=\"supplemental-3\">\\n    </div><!-- close supplemental -->\\n</div><!-- close story-body-supplemental -->\\n\\n    \\n    <div class=\"reader-satisfaction-survey prompt feedback-prompt story-content hidden\">\\n<a class=\"feedback-link\" href=\"https://docs.google.com/forms/d/e/1FAIpQLSfLW30xgZodF1qRAg80oWEGuDpW-1HHaL0g42G3SmvB2f4lCw/viewform?entry.8537735=https://www.nytimes.com/2016/08/28/magazine/inside-facebooks-totally-insane-unintentionally-gigantic-hyperpartisan-political-media-machine.html\" target=\"_blank\">\\n    <p class=\"feedback-message\">We&#8217;re interested in your feedback on this page. <strong>Tell us what you think.</strong></p>\\n</a>\\n</div>\\n\\n    <div id=\"storage-drawer\" class=\"hidden\">\\n        <div class=\"supplemental-sub-item\" data-attribute-position=\"0\" data-attribute-name=\"CombinedMarginalia\" data-attribute-type=\"Related\" data-attribute-subtype=\"\">\\n    <aside class=\"marginalia related-combined-coverage-marginalia marginalia-item nocontent robots-nocontent\" data-marginalia-type=\"sprinkled\" role=\"complementary\" module=\"Related-CombinedMarginalia\">\\n    <div class=\"nocontent robots-nocontent\">\\n                <header>\\n            <h2 class=\"module-heading\">Related Coverage</h2>\\n        </header>\\n        <ul>\\n                                                <li><article class=\"story theme-summary \">\\n    <a class=\"story-link\" href=\"https://www.nytimes.com/2016/08/24/us/politics/facebook-ads-politics.html\">\\n\\n                    <div class=\"thumb\">\\n                <img src=\"https://static01.nyt.com/images/2016/08/23/us/23FACEBOOKweb1/23FACEBOOKweb1-thumbStandard.jpg\" role=\"presentation\" alt=\"\" />\\n                <div class=\"media-action-overlay\"></div>\\n            </div>\\n        \\n        <div class=\"story-body\">\\n                        <h2 class=\"headline\">\\n                <span class=\"title\">Liberal, Moderate or Conservative? See How Facebook Labels You</span>\\n                                    <time class=\"dateline\">AUG. 23, 2016</time>\\n                                            </h2>\\n        </div>\\n    </a>\\n</article>\\n</li>\\n                                    </ul>\\n    </div>\\n</aside>\\n</div>\\n<div class=\"supplemental-sub-item\" data-attribute-position=\"1\" data-attribute-name=\"PaidPost\" data-attribute-type=\"PaidPost\" data-attribute-subtype=\"\">\\n    <aside id=\\'middle-right-paid-post-container\\' class=\\'ad middle-right-ad paid-post-ad marginalia-item hidden nocontent robots-nocontent\\'>\\n    <h2 class=\\'marginalia-heading\\'></h2>\\n    <ul class=\\'story-menu\\'>\\n        <li id=\\'MiddleRightPaidPost1\\' class=\\'story-menu-item ad\\'></li>\\n        <li id=\\'MiddleRightPaidPost2\\' class=\\'story-menu-item ad\\'></li>\\n        <li id=\\'MiddleRightPaidPost3\\' class=\\'story-menu-item ad\\'></li>\\n        <li id=\\'MiddleRightPaidPost4\\' class=\\'story-menu-item ad\\'></li>\\n    </ul>\\n</aside>\\n</div>\\n<div class=\"supplemental-sub-item\" data-attribute-position=\"2\" data-attribute-name=\"Peek\" data-attribute-type=\"Community\" data-attribute-subtype=\"Recent\">\\n    <aside class=\"marginalia comments-marginalia  selected-comment-marginalia\" data-marginalia-type=\"sprinkled\" data-skip-to-para-id=\"\">\\n</aside>\\n</div>\\n<div class=\"supplemental-sub-item\" data-attribute-position=\"3\" data-attribute-name=\"Peek\" data-attribute-type=\"Community\" data-attribute-subtype=\"Featured\">\\n    <aside class=\"marginalia comments-marginalia  featured-comment-marginalia\" data-marginalia-type=\"sprinkled\" data-skip-to-para-id=\"\">\\n</aside>\\n</div>\\n<div class=\"supplemental-sub-item\" data-attribute-position=\"4\" data-attribute-name=\"Peek\" data-attribute-type=\"Community\" data-attribute-subtype=\"Prompt\">\\n    <aside class=\"marginalia comments-marginalia  comment-prompt-marginalia\" data-marginalia-type=\"sprinkled\" data-skip-to-para-id=\"\">\\n</aside>\\n</div>\\n    </div>\\n\\n</article>\\n<section id=\"related-combined-coverage\" class=\"related-combined-coverage nocontent robots-nocontent\">\\n    <header class=\"section-header\">\\n        <h2 class=\"section-heading\">Related Coverage</h2>\\n    </header>\\n    <div class=\"section-body\">\\n        <ol class=\"story-menu menu\">\\n                                                <li><article class=\"story theme-summary \">\\n    <a class=\"story-link\" href=\"https://www.nytimes.com/2016/08/24/us/politics/facebook-ads-politics.html\">\\n        <div class=\"story-body\">\\n                        <h2 class=\"headline\">\\n                <span class=\"title\">Liberal, Moderate or Conservative? See How Facebook Labels You</span>\\n                                    <time class=\"dateline\">AUG. 23, 2016</time>\\n                                            </h2>\\n        </div>\\n\\n                    <div class=\"thumb\">\\n                <img src=\"https://static01.nyt.com/images/2016/08/23/us/23FACEBOOKweb1/23FACEBOOKweb1-thumbStandard.jpg\" role=\"presentation\" alt=\"\" />\\n                <div class=\"media-action-overlay\"></div>\\n            </div>\\n            </a>\\n</article>\\n</li>\\n                                    </ol>\\n            </div>\\n</section>\\n\\n<!-- While running BundlePayFlow test, hide this module if user is in test) -->\\n<script type=\"text/javascript\">\\n            if (window.NYTD && window.NYTD.Abra && window.NYTD.Abra(\\'www-STORY_3bundlePayflow-v3\\') === \\'1\\') {\\n            (function() {\\n                require([\\'foundation/main\\'], function () {\\n                    require([\\'jquery/nyt\\', \\'foundation/models/user-data\\'], function ($, userData) {\\n                        if (!userData.hasSynced) {\\n                            userData.on(\\'change\\', function() {\\n                               checkSubStatus();\\n                            });\\n                        } else {\\n                            checkSubStatus();\\n                        }\\n\\n                        function checkSubStatus() {\\n                            if (!userData.isHomeDeliverySubscriber() &&\\n                                !userData.isWebSubscriber() &&\\n                                !userData.isMobileSubscriber() &&\\n                                !userData.isTabletSubscriber()) {\\n                                    var relatedCoverage = document.querySelector(\\'.related-combined-coverage\\');\\n                                    if (relatedCoverage && relatedCoverage.parentNode) {\\n                                        relatedCoverage.parentNode.removeChild(relatedCoverage);\\n                                    }\\n                            }\\n                        }\\n                    });\\n                });\\n            })();\\n        }\\n    </script>\\n<aside class=\"module trending-module hidden nocontent robots-nocontent\" data-truncate-enabled=\"true\"></aside><section id=\"whats-next\" class=\"whats-next nocontent robots-nocontent\">\\n    <h2 class=\"visually-hidden\">What\\'s Next</h2>\\n    <div class=\"nocontent robots-nocontent\">\\n        <div class=\"loader-container\">\\n            <div class=\"loader loader-t-logo-32x32-ecedeb-ffffff\"><span class=\"visually-hidden\">Loading...</span></div>\\n        </div>\\n    </div><!-- close nocontent -->\\n</section>\\n<div id=\"TopAd1\" class=\"text-ad bottom-left-ad nocontent robots-nocontent\"></div>\\n<div id=\"Top5\" class=\"ad top5-ad hidden nocontent robots-nocontent\"></div>\\n       <section class=\"module bundle-payflow-module\">    <div class=\"bundle-payflow hidden\"></div> <!-- end bundle-payflow -->\\n</section>\\n\\n\\n                    <div class=\"search-overlay\"></div>\\n            </main><!-- close main -->\\n            <section id=\"site-index\" class=\"site-index\">\\n    <header class=\"section-header\">\\n        <p class=\"user-action\"><a href=\"https://www.nytimes.com/\">Go to Home Page &raquo;</a></p>\\n        <h2 class=\"section-heading\">\\n            <span class=\"visually-hidden\">Site Index</span>\\n            <a id=\"site-index-branding-link\" href=\"https://www.nytimes.com/\">\\n                <span class=\"visually-hidden\">The New York Times</span>\\n            </a>\\n        </h2>\\n        <script>window.magnum.writeLogo(\\'small\\', \\'https://a1.nyt.com/assets/article/20180119-120611/images/foundation/logos/\\', \\'\\', \\'\\', \\'standard\\', \\'site-index-branding-link\\', \\'\\');</script>\\n    </header>\\n\\n    <nav id=\"site-index-navigation\" class=\"site-index-navigation\" role=\"navigation\">\\n        <h2 class=\"visually-hidden\">Site Index Navigation</h2>\\n        <div class=\"split-6-layout layout\">\\n\\n                                                        \\n                    <div class=\"column\">\\n                        <h3 class=\"menu-heading\">News</h3>\\n                        <ul class=\"menu\">\\n\\n                                                                                                                                                                                    \\n                                    <li>\\n                                        <a href=\"https://www.nytimes.com/section/world\">World</a>\\n                                    </li>\\n\\n                                                                                            \\n                                    <li>\\n                                        <a href=\"https://www.nytimes.com/section/us\">U.S.</a>\\n                                    </li>\\n\\n                                                                                            \\n                                    <li>\\n                                        <a href=\"https://www.nytimes.com/section/politics\">Politics</a>\\n                                    </li>\\n\\n                                                                                            \\n                                    <li>\\n                                        <a href=\"https://www.nytimes.com/section/nyregion\">N.Y.</a>\\n                                    </li>\\n\\n                                                                                            \\n                                    <li>\\n                                        <a href=\"https://www.nytimes.com/section/business\">Business</a>\\n                                    </li>\\n\\n                                                                                            \\n                                    <li>\\n                                        <a href=\"https://www.nytimes.com/section/technology\">Tech</a>\\n                                    </li>\\n\\n                                                                                            \\n                                    <li>\\n                                        <a href=\"https://www.nytimes.com/section/science\">Science</a>\\n                                    </li>\\n\\n                                                                                            \\n                                    <li>\\n                                        <a href=\"https://www.nytimes.com/section/health\">Health</a>\\n                                    </li>\\n\\n                                                                                            \\n                                    <li>\\n                                        <a href=\"https://www.nytimes.com/section/sports\">Sports</a>\\n                                    </li>\\n\\n                                                                                            \\n                                    <li>\\n                                        <a href=\"https://www.nytimes.com/section/education\">Education</a>\\n                                    </li>\\n\\n                                                                                            \\n                                    <li>\\n                                        <a href=\"https://www.nytimes.com/section/obituaries\">Obituaries</a>\\n                                    </li>\\n\\n                                                                                            \\n                                    <li>\\n                                        <a href=\"https://www.nytimes.com/pages/todayspaper/index.html\">Today\\'s Paper</a>\\n                                    </li>\\n\\n                                                                                            \\n                                    <li>\\n                                        <a href=\"https://www.nytimes.com/section/corrections\">Corrections</a>\\n                                    </li>\\n\\n                                                            \\n                        </ul>\\n                    </div><!-- close column -->\\n\\n                                            \\n                    <div class=\"column\">\\n                        <h3 class=\"menu-heading\">Opinion</h3>\\n                        <ul class=\"menu\">\\n\\n                                                            \\n                                    <li>\\n                                        <a href=\"https://www.nytimes.com/pages/opinion/index.html\">Today\\'s Opinion</a>\\n                                    </li>\\n\\n                                                                                            \\n                                    <li>\\n                                        <a href=\"https://www.nytimes.com/section/opinion/columnists\">Op-Ed Columnists</a>\\n                                    </li>\\n\\n                                                                                            \\n                                    <li>\\n                                        <a href=\"https://www.nytimes.com/section/opinion/editorials\">Editorials</a>\\n                                    </li>\\n\\n                                                                                            \\n                                    <li>\\n                                        <a href=\"https://www.nytimes.com/section/opinion/contributors\">Op-Ed Contributors</a>\\n                                    </li>\\n\\n                                                                                            \\n                                    <li>\\n                                        <a href=\"https://www.nytimes.com/section/opinion/letters\">Letters</a>\\n                                    </li>\\n\\n                                                                                            \\n                                    <li>\\n                                        <a href=\"https://www.nytimes.com/section/opinion/sunday\">Sunday Review</a>\\n                                    </li>\\n\\n                                                                                            \\n                                    <li>\\n                                        <a href=\"https://www.nytimes.com/video/opinion\">Video: Opinion</a>\\n                                    </li>\\n\\n                                                            \\n                        </ul>\\n                    </div><!-- close column -->\\n\\n                                            \\n                    <div class=\"column\">\\n                        <h3 class=\"menu-heading\">Arts</h3>\\n                        <ul class=\"menu\">\\n\\n                                                            \\n                                    <li>\\n                                        <a href=\"https://www.nytimes.com/section/arts\">Today\\'s Arts</a>\\n                                    </li>\\n\\n                                                                                            \\n                                    <li>\\n                                        <a href=\"https://www.nytimes.com/section/arts/design\">Art & Design</a>\\n                                    </li>\\n\\n                                                                                            \\n                                    <li>\\n                                        <a href=\"https://www.nytimes.com/section/books\">Books</a>\\n                                    </li>\\n\\n                                                                                            \\n                                    <li>\\n                                        <a href=\"https://www.nytimes.com/section/arts/dance\">Dance</a>\\n                                    </li>\\n\\n                                                                                            \\n                                    <li>\\n                                        <a href=\"https://www.nytimes.com/section/movies\">Movies</a>\\n                                    </li>\\n\\n                                                                                            \\n                                    <li>\\n                                        <a href=\"https://www.nytimes.com/section/arts/music\">Music</a>\\n                                    </li>\\n\\n                                                                                            \\n                                    <li>\\n                                        <a href=\"https://www.nytimes.com/events/\">N.Y.C. Events Guide</a>\\n                                    </li>\\n\\n                                                                                            \\n                                    <li>\\n                                        <a href=\"https://www.nytimes.com/section/arts/television\">Television</a>\\n                                    </li>\\n\\n                                                                                            \\n                                    <li>\\n                                        <a href=\"https://www.nytimes.com/section/theater\">Theater</a>\\n                                    </li>\\n\\n                                                                                            \\n                                    <li>\\n                                        <a href=\"https://www.nytimes.com/video/arts\">Video: Arts</a>\\n                                    </li>\\n\\n                                                            \\n                        </ul>\\n                    </div><!-- close column -->\\n\\n                                            \\n                    <div class=\"column\">\\n                        <h3 class=\"menu-heading\">Living</h3>\\n                        <ul class=\"menu\">\\n\\n                                                            \\n                                    <li>\\n                                        <a href=\"https://www.nytimes.com/section/automobiles\">Automobiles</a>\\n                                    </li>\\n\\n                                                                                            \\n                                    <li>\\n                                        <a href=\"https://www.nytimes.com/crosswords\">Crossword</a>\\n                                    </li>\\n\\n                                                                                            \\n                                    <li>\\n                                        <a href=\"https://www.nytimes.com/pages/dining/index.html\">Food</a>\\n                                    </li>\\n\\n                                                                                            \\n                                    <li>\\n                                        <a href=\"https://www.nytimes.com/section/education\">Education</a>\\n                                    </li>\\n\\n                                                                                            \\n                                    <li>\\n                                        <a href=\"https://www.nytimes.com/section/fashion\">Fashion & Style</a>\\n                                    </li>\\n\\n                                                                                            \\n                                    <li>\\n                                        <a href=\"https://www.nytimes.com/section/health\">Health</a>\\n                                    </li>\\n\\n                                                                                            \\n                                    <li>\\n                                        <a href=\"https://www.nytimes.com/section/jobs\">Jobs</a>\\n                                    </li>\\n\\n                                                                                            \\n                                    <li>\\n                                        <a href=\"https://www.nytimes.com/section/magazine\">Magazine</a>\\n                                    </li>\\n\\n                                                                                            \\n                                    <li>\\n                                        <a href=\"https://www.nytimes.com/events/\">N.Y.C. Events Guide</a>\\n                                    </li>\\n\\n                                                                                            \\n                                    <li>\\n                                        <a href=\"https://www.nytimes.com/section/realestate\">Real Estate</a>\\n                                    </li>\\n\\n                                                                                            \\n                                    <li>\\n                                        <a href=\"https://www.nytimes.com/section/t-magazine\">T Magazine</a>\\n                                    </li>\\n\\n                                                                                            \\n                                    <li>\\n                                        <a href=\"https://www.nytimes.com/section/travel\">Travel</a>\\n                                    </li>\\n\\n                                                                                            \\n                                    <li>\\n                                        <a href=\"https://www.nytimes.com/section/fashion/weddings\">Weddings & Celebrations</a>\\n                                    </li>\\n\\n                                                            \\n                        </ul>\\n                    </div><!-- close column -->\\n\\n                                            \\n                    <div class=\"column\">\\n                        <h3 class=\"menu-heading\">Listings & More</h3>\\n                        <ul class=\"menu\">\\n\\n                                                            \\n                                    <li>\\n                                        <a href=\"https://www.nytimes.com/section/reader-center\">Reader Center</a>\\n                                    </li>\\n\\n                                                                                            \\n                                    <li>\\n                                        <a href=\"https://www.nytimes.com/ref/classifieds/\">Classifieds</a>\\n                                    </li>\\n\\n                                                                                            \\n                                    <li>\\n                                        <a href=\"https://www.nytimes.com/marketing/tools-and-services/\">Tools & Services</a>\\n                                    </li>\\n\\n                                                                                            \\n                                    <li>\\n                                        <a href=\"https://www.nytimes.com/events/\">N.Y.C. Events Guide</a>\\n                                    </li>\\n\\n                                                                                            \\n                                    <li>\\n                                        <a href=\"https://www.nytimes.com/section/multimedia\">Multimedia</a>\\n                                    </li>\\n\\n                                                                                            \\n                                    <li>\\n                                        <a href=\"https://lens.blogs.nytimes.com/\">Photography</a>\\n                                    </li>\\n\\n                                                                                            \\n                                    <li>\\n                                        <a href=\"https://www.nytimes.com/video\">Video</a>\\n                                    </li>\\n\\n                                                                                            \\n                                    <li>\\n                                        <a href=\"https://store.nytimes.com/?action=click&contentCollection=NYT%20Store&contentPlacement=2&module=SectionsNav&pgtype=Homepage&region=TopBar&t=qry542&utm_campaign=NYT-HP&utm_content=hp_browsetree&utm_medium=HPB&utm_source=nytimes&version=BrowseTree\">NYT Store</a>\\n                                    </li>\\n\\n                                                                                            \\n                                    <li>\\n                                        <a href=\"https://www.nytimes.com/times-journeys/?utm_source=nytimes&utm_medium=HPLink&utm_content=hp_browsetree&utm_campaign=NYT-HP\">Times Journeys</a>\\n                                    </li>\\n\\n                                                                                            \\n                                    <li>\\n                                        <a href=\"https://www.nytimes.com/seeallnav\">Subscribe</a>\\n                                    </li>\\n\\n                                                                                            \\n                                    <li>\\n                                        <a href=\"https://www.nytimes.com/membercenter\">Manage My Account</a>\\n                                    </li>\\n\\n                                                                                            \\n                                    <li>\\n                                        <a href=\"http://www.nytco.com\">NYTCo</a>\\n                                    </li>\\n\\n                                                            \\n                        </ul>\\n                    </div><!-- close column -->\\n\\n                            \\n            <div class=\"column last-column\">\\n                \\n<h3 class=\"menu-heading\">Subscribe</h3>\\n\\n<ul class=\"menu primary-menu\">\\n    <li class=\"menu-label\">Subscribe</li>\\n    <li class=\"home-delivery\">\\n        <i class=\"icon sprite-icon\"></i>\\n                    <a class=\"nyt-home-delivery\" href=\"https://www.nytimes.com/hdleftnav\">Home Delivery</a>\\n            </li>\\n    <li class=\"digital-subscriptions\">\\n        <i class=\"icon sprite-icon\"></i>\\n                    <a class=\"digital-subscription\" href=\"https://www.nytimes.com/digitalleftnav\">Digital Subscriptions</a>\\n            </li>\\n    <li class=\"nyt-crossword last-item\">\\n        <i class=\"icon sprite-icon\"></i>\\n        <a id=\"nyt-crossword\" href=\"https://www.nytimes.com/crosswords/index.html\">Crossword</a>\\n    </li>\\n</ul>\\n\\n<ul class=\"menu secondary-menu\">\\n\\n    <li class=\"email-newsletters\">\\n        <a href=\"https://www.nytimes.com/marketing/newsletters\">Email Newsletters</a>\\n    </li>\\n    <li>\\n        <a href=\"https://myaccount.nytimes.com/mem/tnt.html\">Alerts</a>\\n    </li>\\n    <li class=\"gift-subscription\">\\n                    <a href=\"https://www.nytimes.com/giftleftnav\">Gift Subscriptions</a>\\n            </li>\\n    <li>\\n                    <a href=\"https://www.nytimes.com/corporateleftnav\">Group Subscriptions</a>\\n            </li>\\n    <li>\\n                    <a href=\"https://www.nytimes.com/educationleftnav\">Education Rate</a>\\n            </li>\\n\\n</ul>\\n<ul class=\"menu secondary-menu\">\\n    <li>\\n        <a href=\"https://www.nytimes.com/services/mobile/index.html\">Mobile Applications</a>\\n    </li>\\n    <li>\\n                    <a href=\"http://eedition.nytimes.com/cgi-bin/signup.cgi?cc=37FYY\">Replica Edition</a>\\n            </li>\\n    \\n</ul>\\n            </div><!-- close column -->\\n\\n        </div><!-- close split-6-layout -->\\n\\n    </nav><!-- close nav -->\\n\\n</section><!-- close site-index -->\\n\\n            <footer id=\"page-footer\" class=\"page-footer\" role=\"contentinfo\">\\n    <nav>\\n        <h2 class=\"visually-hidden\">Site Information Navigation</h2>\\n         <ul>\\n             <li>\\n                <a href=\"https://www.nytimes.com/content/help/rights/copyright/copyright-notice.html\" itemprop=\"copyrightNotice\">\\n                    &copy; <span itemprop=\"copyrightYear\">2018</span><span itemprop=\"copyrightHolder provider sourceOrganization\" itemscope itemtype=\"http://schema.org/Organization\" itemid=\"http://www.nytimes.com\"><span itemprop=\"name\"> The New York Times Company</span><meta itemprop=\"tickerSymbol\" content=\"NYSE NYT\"/></span>\\n                </a>\\n            </li>\\n            <li class=\"visually-hidden\"><a href=\"https://www.nytimes.com\">Home</a></li>\\n            <li class=\"visually-hidden\"><a href=\"http://query.nytimes.com/search/sitesearch/#/\">Search</a></li>\\n            <li class=\"visually-hidden\">Accessibility concerns? Email us at <a href=\"mailto:accessibility@nytimes.com\">accessibility@nytimes.com</a>. We would love to hear from you.</li>\\n            <li class=\"wide-viewport-item\"><a href=\"https://www.nytimes.com/ref/membercenter/help/infoservdirectory.html\">Contact Us</a></li>\\n            <li class=\"wide-viewport-item\"><a href=\"http://www.nytco.com/careers\">Work With Us</a></li>\\n            <li class=\"wide-viewport-item\"><a href=\"http://nytmediakit.com/\">Advertise</a></li>\\n            <li class=\"wide-viewport-item\"><a href=\"https://www.nytimes.com/content/help/rights/privacy/policy/privacy-policy.html#pp\">Your Ad Choices</a></li>\\n            <li><a href=\"https://www.nytimes.com/privacy\">Privacy</a></li>\\n            <li><a href=\"https://www.nytimes.com/ref/membercenter/help/agree.html\" itemprop=\"usageTerms\">Terms of Service</a></li>\\n            <li class=\"wide-viewport-item last-item\"><a href=\"https://www.nytimes.com/content/help/rights/sale/terms-of-sale.html\">Terms of Sale</a></li>\\n         </ul>\\n    </nav>\\n    <nav class=\"last-nav\">\\n        <h2 class=\"visually-hidden\">Site Information Navigation</h2>\\n        <ul>\\n            <li><a href=\"http://spiderbites.nytimes.com\">Site Map</a></li>\\n            <li><a href=\"https://www.nytimes.com/membercenter/sitehelp.html\">Help</a></li>\\n            <li><a href=\"https://myaccount.nytimes.com/membercenter/feedback.html\">Site Feedback</a></li>\\n            <li class=\"wide-viewport-item last-item\"><a href=\"https://www.nytimes.com/subscriptions/Multiproduct/lp5558.html?campaignId=37WXW\">Subscriptions</a></li>\\n        </ul>\\n    </nav>\\n</footer>\\n        </div><!-- close page -->\\n    </div><!-- close shell -->\\n        <script src=\"https://tags.bluekai.com/site/50550?ret=js&limit=1\" type=\"text/javascript\" async></script>\\n            <script src=\"https://cdn.optimizely.com/public/3013110282/s/article_prod.js\" type=\"text/javascript\" async></script>\\n    <script>\\nrequire([\\'foundation/main\\'], function () {\\n    require([\\'story/main\\']);\\n\\n\\n         \\n\\n    require([\\'jquery/nyt\\', \\'foundation/views/page-manager\\'], function ($, pageManager) {\\n        if (window.location.search.indexOf(\\'disable_tagx\\') > 0) {\\n            return;\\n        }\\n        $(document).ready(function () {\\n            require([\\'https://a1.nyt.com/analytics/json-kidd.min.js\\'], function () {\\n                pageManager.trackingFireEventQueue();\\n            });\\n        });\\n    });\\n});\\n</script>\\n<!--esi                                                                                                                    \\n<esi:include src=\"/appconfig/https/show-modal.js\" />                                                                       \\n-->\\n\\n    <div id=\"Inv1\" class=\"ad inv1-ad hidden\"></div>\\n<div id=\"Inv2\" class=\"ad inv2-ad hidden\"></div>\\n<div id=\"Inv3\" class=\"ad inv3-ad hidden\"></div>\\n<div id=\"ab1\" class=\"ad ab1-ad hidden\"></div>\\n<div id=\"ab2\" class=\"ad ab2-ad hidden\"></div>\\n<div id=\"ab3\" class=\"ad ab3-ad hidden\"></div>\\n<div id=\"prop1\" class=\"ad prop1-ad hidden\"></div>\\n<div id=\"prop2\" class=\"ad prop2-ad hidden\"></div>\\n<div id=\"Anchor\" class=\"ad anchor-ad hidden\"></div>\\n<div id=\"ADX_CLIENTSIDE\" class=\"ad adx-clientside-ad hidden\"></div>\\n</body>\\n</html>\\n')\n"
     ]
    }
   ],
   "source": [
    "print(facebook_article)"
   ]
  },
  {
   "cell_type": "code",
   "execution_count": 19,
   "metadata": {
    "collapsed": true
   },
   "outputs": [],
   "source": [
    "def read_api_key(filepath):\n",
    "    \"\"\"\n",
    "    Read the Yelp API Key from file.\n",
    "    \n",
    "    Args:\n",
    "        filepath (string): File containing API Key\n",
    "    Returns:\n",
    "        api_key (string): The API Key\n",
    "    \"\"\"\n",
    "    \n",
    "    # feel free to modify this function if you are storing the API Key differently\n",
    "    with open('api_key.txt', 'r') as f:\n",
    "        return f.read().replace('\\n','')"
   ]
  },
  {
   "cell_type": "code",
   "execution_count": 20,
   "metadata": {
    "collapsed": true
   },
   "outputs": [],
   "source": [
    "api_key = read_api_key('api_key.txt')"
   ]
  },
  {
   "cell_type": "code",
   "execution_count": 21,
   "metadata": {},
   "outputs": [
    {
     "data": {
      "text/plain": [
       "'Ils-A9CTL2ffFryB7twfwN9X0bd6NWw5BCIxLIR8X7pLfmlmA1VlTB5t_djsN0Pqe5dI_2fcC_Q8fV0OfnKd0fWK2dXkCWm2YqpFAmkBd2TtDZPePelv0dposO1sWnYx'"
      ]
     },
     "execution_count": 21,
     "metadata": {},
     "output_type": "execute_result"
    }
   ],
   "source": [
    "api_key"
   ]
  },
  {
   "cell_type": "code",
   "execution_count": 23,
   "metadata": {},
   "outputs": [
    {
     "name": "stdout",
     "output_type": "stream",
     "text": [
      "2900  total businesses\n"
     ]
    }
   ],
   "source": [
    "import requests\n",
    "#example using Yelp API\n",
    "headers = {\n",
    "    \"authorization\": 'Bearer %s' % api_key, # for the yelp API \n",
    "}\n",
    "params = { #parameters are case sensitive!\n",
    "    \"location\": \"Pittsburgh\",    \n",
    "}\n",
    "\n",
    "response = requests.get('https://api.yelp.com/v3/businesses/search',\n",
    "                        headers=headers, params=params)\n",
    "result = response.json() #converts json into a python dictionary\n",
    "print(result['total'],\" total businesses\")\n",
    "#print([i['name'] for i in result['businesses']]) \n",
    "#oh wait, this only returns at max 20 businesses. Any idea why?"
   ]
  },
  {
   "cell_type": "code",
   "execution_count": 18,
   "metadata": {},
   "outputs": [
    {
     "data": {
      "text/plain": [
       "{'error': {'code': 'TOKEN_INVALID',\n",
       "  'description': 'Invalid access token or authorization header.'}}"
      ]
     },
     "execution_count": 18,
     "metadata": {},
     "output_type": "execute_result"
    }
   ],
   "source": [
    "result"
   ]
  },
  {
   "cell_type": "code",
   "execution_count": 10,
   "metadata": {},
   "outputs": [],
   "source": [
    "import requests\n",
    "from bs4 import BeautifulSoup\n",
    "course_webpage = requests.get(\"http://www.datasciencecourse.org/2016\").text"
   ]
  },
  {
   "cell_type": "code",
   "execution_count": 12,
   "metadata": {},
   "outputs": [
    {
     "name": "stdout",
     "output_type": "stream",
     "text": [
      "<!DOCTYPE html>\n",
      "<html lang=\"en\">\n",
      " <head>\n",
      "  <meta charset=\"utf-8\"/>\n",
      "  <meta content=\"IE=edge\" http-equiv=\"X-UA-Compatible\"/>\n",
      "  <meta content=\"width=device-width, initial-scale=1\" name=\"viewport\"/>\n",
      "  <meta content=\"\" name=\"description\"/>\n",
      "  <meta content=\"\" name=\"author\"/>\n",
      "  <title>\n",
      "   15-388/688 Practical Data Science\n",
      "  </title>\n",
      "  <!-- Bootstrap Core CSS -->\n",
      "  <link href=\"css/bootstrap.min.css\" rel=\"stylesheet\"/>\n",
      "  <!-- Custom CSS -->\n",
      "  <link href=\"css/agency.css\" rel=\"stylesheet\"/>\n",
      "  <!-- Eric's CSS -->\n",
      "  <link href=\"css/eric.css\" rel=\"stylesheet\"/>\n",
      "  <!-- Custom Fonts -->\n",
      "  <link href=\"font-awesome/css/font-awesome.min.css\" rel=\"stylesheet\" type=\"text/css\"/>\n",
      "  <link href=\"https://fonts.googleapis.com/css?family=Montserrat:400,700\" rel=\"stylesheet\" type=\"text/css\"/>\n",
      "  <link href=\"https://fonts.googleapis.com/css?family=Kaushan+Script\" rel=\"stylesheet\" type=\"text/css\"/>\n",
      "  <link href=\"https://fonts.googleapis.com/css?family=Droid+Serif:400,700,400italic,700italic\" rel=\"stylesheet\" type=\"text/css\"/>\n",
      "  <link href=\"https://fonts.googleapis.com/css?family=Roboto+Slab:400,100,300,700\" rel=\"stylesheet\" type=\"text/css\"/>\n",
      "  <!-- HTML5 Shim and Respond.js IE8 support of HTML5 elements and media queries -->\n",
      "  <!-- WARNING: Respond.js doesn't work if you view the page via file:// -->\n",
      "  <!--[if lt IE 9]>\n",
      "        <script src=\"https://oss.maxcdn.com/libs/html5shiv/3.7.0/html5shiv.js\"></script>\n",
      "        <script src=\"https://oss.maxcdn.com/libs/respond.js/1.4.2/respond.min.js\"></script>\n",
      "    <![endif]-->\n",
      " </head>\n",
      " <body class=\"index\" id=\"page-top\">\n",
      "  <!-- Navigation -->\n",
      "  <nav class=\"navbar navbar-default navbar-fixed-top\">\n",
      "   <div class=\"container\">\n",
      "    <!-- Brand and toggle get grouped for better mobile display -->\n",
      "    <div class=\"navbar-header page-scroll\">\n",
      "     <button class=\"navbar-toggle\" data-target=\"#bs-example-navbar-collapse-1\" data-toggle=\"collapse\" type=\"button\">\n",
      "      <span class=\"sr-only\">\n",
      "       Toggle navigation\n",
      "      </span>\n",
      "      <span class=\"icon-bar\">\n",
      "      </span>\n",
      "      <span class=\"icon-bar\">\n",
      "      </span>\n",
      "      <span class=\"icon-bar\">\n",
      "      </span>\n",
      "     </button>\n",
      "     <a class=\"navbar-brand page-scroll\" href=\"#page-top\">\n",
      "      15-388/688\n",
      "                 Practical Data Science\n",
      "     </a>\n",
      "    </div>\n",
      "    <!-- Collect the nav links, forms, and other content for toggling -->\n",
      "    <div class=\"collapse navbar-collapse\" id=\"bs-example-navbar-collapse-1\">\n",
      "     <ul class=\"nav navbar-nav navbar-right\">\n",
      "      <li class=\"hidden\">\n",
      "       <a href=\"#page-top\">\n",
      "       </a>\n",
      "      </li>\n",
      "      <li>\n",
      "       <a class=\"page-scroll\" href=\"#overview\">\n",
      "        Overview\n",
      "       </a>\n",
      "      </li>\n",
      "      <li>\n",
      "       <a class=\"page-scroll\" href=\"#schedule\">\n",
      "        Schedule\n",
      "       </a>\n",
      "      </li>\n",
      "      <li>\n",
      "       <a class=\"page-scroll\" href=\"#assignments\">\n",
      "        Assignments\n",
      "       </a>\n",
      "      </li>\n",
      "      <li>\n",
      "       <a class=\"page-scroll\" href=\"#instructors\">\n",
      "        Instructors\n",
      "       </a>\n",
      "      </li>\n",
      "      <li>\n",
      "       <a class=\"page-scroll\" href=\"#faq\">\n",
      "        FAQ\n",
      "       </a>\n",
      "      </li>\n",
      "     </ul>\n",
      "    </div>\n",
      "    <!-- /.navbar-collapse -->\n",
      "   </div>\n",
      "   <!-- /.container-fluid -->\n",
      "  </nav>\n",
      "  <!-- Header -->\n",
      "  <header>\n",
      "   <div class=\"container\">\n",
      "    <div class=\"intro-text\">\n",
      "     <div class=\"intro-lead-in\">\n",
      "      CMU 15-388/688, Fall 2016\n",
      "     </div>\n",
      "     <div class=\"intro-heading\">\n",
      "      Practical Data Science\n",
      "     </div>\n",
      "     <a class=\"page-scroll btn btn-xl\" href=\"#overview\">\n",
      "      Course\n",
      "                    Information\n",
      "     </a>\n",
      "    </div>\n",
      "   </div>\n",
      "  </header>\n",
      "  <!-- Overview Section -->\n",
      "  <section class=\"bg-light-gray\" id=\"overview\">\n",
      "   <div class=\"container\">\n",
      "    <div class=\"row\">\n",
      "     <div class=\"col-lg-10 col-lg-offset-1\">\n",
      "      <h2 class=\"section-heading text-center\">\n",
      "       Course Overview\n",
      "      </h2>\n",
      "      <p class=\"large text-muted\">\n",
      "       Data science is the study and practice of how we can extract insight and knowledge from large amounts of data.  It is a burgeoning field, currently attracting substantial demand from both academia and industry.\n",
      "      </p>\n",
      "      <p class=\"large text-muted\">\n",
      "       This course provides a practical introduction to the \"full stack\" of data science analysis, including data collection and processing, data visualization and presentation, statistical model building using machine learning, and big data techniques for scaling these methods.  Topics covered include: collecting and processing data using relational methods, time series approaches, graph and network models, free text analysis, and spatial geographic methods; analyzing the data using a variety of statistical and machine learning methods include linear and non-linear regression and classification, unsupervised learning and anomaly detection, plus advanced machine learning methods like kernel approaches, boosting, or deep learning; visualizing and presenting data, particularly focusing the case of high-dimensional data; and applying these methods to big data settings, where multiple machines and distributed computation are needed to fully leverage the data.\n",
      "      </p>\n",
      "      <p class=\"large text-muted\">\n",
      "       As the course name suggests, this course will focus on the\n",
      "       <em>\n",
      "        practical\n",
      "       </em>\n",
      "       aspects of data science, with a focus on implementing and making use of the above techniques.  Students will complete weekly programming homework that emphasize practical understanding of the methods described in the course.  In addition, students will develop a tutorial on an advanced topic, and will complete a group project that applies these data science techniques to a practical application chosen by the team; these two longer assignments will be done in lieu of a midterm or final.\n",
      "      </p>\n",
      "     </div>\n",
      "    </div>\n",
      "    <div class=\"row text-center\">\n",
      "     <div class=\"col-md-4\">\n",
      "      <span class=\"fa-stack fa-5x\">\n",
      "       <i class=\"fa fa-circle fa-stack-2x text-primary\">\n",
      "       </i>\n",
      "       <i class=\"fa fa-database fa-stack-1x fa-inverse\">\n",
      "       </i>\n",
      "      </span>\n",
      "      <h4 class=\"service-heading\">\n",
      "       Data collection and processing\n",
      "      </h4>\n",
      "      <p class=\"text-muted large\">\n",
      "       Ingest data from unstructured and structured sources, and use relational models, time series algorithms, graph and network processing, natural language processing, geographic information system processes to store and manage the data.\n",
      "      </p>\n",
      "     </div>\n",
      "     <div class=\"col-md-4\">\n",
      "      <span class=\"fa-stack fa-5x\">\n",
      "       <i class=\"fa fa-circle fa-stack-2x text-primary\">\n",
      "       </i>\n",
      "       <i class=\"fa fa-bar-chart fa-stack-1x fa-inverse\">\n",
      "       </i>\n",
      "      </span>\n",
      "      <h4 class=\"service-heading\">\n",
      "       Statistical modeling\n",
      "      </h4>\n",
      "      <p class=\"text-muted large\">\n",
      "       Apply basic statistical techniques and analyses to understand properties of the data and to design experimental setups for testing hypotheses or collecting new data.\n",
      "      </p>\n",
      "     </div>\n",
      "     <div class=\"col-md-4\">\n",
      "      <span class=\"fa-stack fa-5x\">\n",
      "       <i class=\"fa fa-circle fa-stack-2x text-primary\">\n",
      "       </i>\n",
      "       <i class=\"fa fa-gears fa-stack-1x fa-inverse\">\n",
      "       </i>\n",
      "      </span>\n",
      "      <h4 class=\"service-heading\">\n",
      "       Advanced ML techniques\n",
      "      </h4>\n",
      "      <p class=\"text-muted large\">\n",
      "       Apply advanced machine learning algorithms such as kernel methods, boosting, deep learning, anomaly detection, factorization models, and probabilistic modeling to analyze and extract insights from data.\n",
      "      </p>\n",
      "     </div>\n",
      "    </div>\n",
      "    <div class=\"row text-center\">\n",
      "     <div class=\"col-md-4 col-md-offset-2\">\n",
      "      <span class=\"fa-stack fa-5x\">\n",
      "       <i class=\"fa fa-circle fa-stack-2x text-primary\">\n",
      "       </i>\n",
      "       <i class=\"fa fa-eye fa-stack-1x fa-inverse\">\n",
      "       </i>\n",
      "      </span>\n",
      "      <h4 class=\"service-heading\">\n",
      "       Data visualization\n",
      "      </h4>\n",
      "      <p class=\"text-muted large\">\n",
      "       Visualize the data and results from analysis, particularly focusing on visualizing and understanding high-dimensional structured data and the results of statistical and machine learning analysis.\n",
      "      </p>\n",
      "     </div>\n",
      "     <div class=\"col-md-4\">\n",
      "      <span class=\"fa-stack fa-5x\">\n",
      "       <i class=\"fa fa-circle fa-stack-2x text-primary\">\n",
      "       </i>\n",
      "       <i class=\"fa fa-cloud fa-stack-1x fa-inverse\">\n",
      "       </i>\n",
      "      </span>\n",
      "      <h4 class=\"service-heading\">\n",
      "       Big data\n",
      "      </h4>\n",
      "      <p class=\"text-muted large\">\n",
      "       Scale the methods to big data regimes, where distributed storage and computation are needed to fully realize capabilities of data analysis techniques.\n",
      "      </p>\n",
      "     </div>\n",
      "    </div>\n",
      "    <div class=\"col-lg-12\" style=\"height:50px;\">\n",
      "    </div>\n",
      "    <div class=\"row\">\n",
      "     <div class=\"col-lg-10 col-lg-offset-1 well\">\n",
      "      <h3 class=\"service-heading\">\n",
      "       Key information\n",
      "      </h3>\n",
      "      <p class=\"large\">\n",
      "       <strong>\n",
      "        Course number:\n",
      "       </strong>\n",
      "       15-388 (undergraduate) / 15-688 (masters)\n",
      "       <br/>\n",
      "       Both courses will have the same lectures, but on each assignment there will be additional advanced problems for the 600 level course.\n",
      "      </p>\n",
      "      <p class=\"large\">\n",
      "       <strong>\n",
      "        Course location and time:\n",
      "       </strong>\n",
      "       Doherty Hall A302, MW 12:00-1:20\n",
      "      </p>\n",
      "      <p class=\"large\">\n",
      "       <strong>\n",
      "        Units:\n",
      "       </strong>\n",
      "       9 (15-388), 12 (15-688)\n",
      "       <br/>\n",
      "      </p>\n",
      "      <p class=\"large\">\n",
      "       <strong>\n",
      "        Prequisites:\n",
      "       </strong>\n",
      "       Programming experience is necessary for the course (assignments are in Python).  For CS undergraduates, either 15-112 or 15-122 is required; undergraduates from other departments who have programming background but have not taken the course require instructor approval to enroll.  Experience with linear algebra, probability, and statistic is recommended, but not strictly required (courses like 21-240/241/242 for linear algebra or 36-201 for probability/statistics are more than sufficient).  Students concerned about whether they have a proper background should contact the course instructors to discuss.\n",
      "      </p>\n",
      "      <p class=\"large\">\n",
      "       <strong>\n",
      "        Grading:\n",
      "       </strong>\n",
      "       55% homeworks, 15% tutorial, 25% final project, 5% class participation.\n",
      "      </p>\n",
      "     </div>\n",
      "    </div>\n",
      "   </div>\n",
      "  </section>\n",
      "  <!-- Schedule Section -->\n",
      "  <section id=\"schedule\">\n",
      "   <div class=\"container\">\n",
      "    <div class=\"row\">\n",
      "     <div class=\"col-lg-10 col-lg-offset-1\">\n",
      "      <h2 class=\"section-heading text-center\">\n",
      "       Schedule\n",
      "      </h2>\n",
      "      <p class=\"large text-muted\">\n",
      "       This schedule is tentative and subject to change, and precise dates will be added closer to the course start date.  All course material, including slides, lecture videos, and assignments, will be publicly available.\n",
      "      </p>\n",
      "     </div>\n",
      "    </div>\n",
      "    <div class=\"col-lg-12\" style=\"height:50px;\">\n",
      "    </div>\n",
      "    <div class=\"row\">\n",
      "     <div class=\"col-lg-10 col-lg-offset-1\">\n",
      "      <div class=\"table-responsive\" style=\"font-size:16px\">\n",
      "       <table class=\"table table-hover table-striped large\">\n",
      "        <thead>\n",
      "         <tr>\n",
      "          <th>\n",
      "           Date\n",
      "          </th>\n",
      "          <th>\n",
      "           Topic\n",
      "          </th>\n",
      "          <th>\n",
      "           Lecture\n",
      "          </th>\n",
      "          <th>\n",
      "           Assignments\n",
      "          </th>\n",
      "         </tr>\n",
      "        </thead>\n",
      "        <tbody>\n",
      "         <tr>\n",
      "          <td>\n",
      "           8/29\n",
      "          </td>\n",
      "          <td>\n",
      "           <a href=\"intro.pdf\">\n",
      "            Introduction\n",
      "           </a>\n",
      "          </td>\n",
      "          <td>\n",
      "           <a href=\"https://scs.hosted.panopto.com/Panopto/Pages/Viewer.aspx?id=3f116819-0e26-4f79-bcee-f4cb7e745773\">\n",
      "            video\n",
      "           </a>\n",
      "          </td>\n",
      "          <td>\n",
      "          </td>\n",
      "         </tr>\n",
      "         <tr>\n",
      "          <th colspan=\"4\">\n",
      "           Data collection and management\n",
      "          </th>\n",
      "         </tr>\n",
      "         <tr>\n",
      "          <td>\n",
      "           8/31\n",
      "          </td>\n",
      "          <td>\n",
      "           <a href=\"data_collection.pdf\">\n",
      "            Data collection and scraping\n",
      "           </a>\n",
      "          </td>\n",
      "          <td>\n",
      "           <a href=\"https://scs.hosted.panopto.com/Panopto/Pages/Viewer.aspx?id=0d70cc6d-acbc-4895-a4da-8932dc323723\">\n",
      "            video\n",
      "           </a>\n",
      "          </td>\n",
      "          <td>\n",
      "           HW1 Out\n",
      "           <a href=\"hw/1/hw1.pdf\">\n",
      "            (pdf)\n",
      "           </a>\n",
      "           <a href=\"hw/1/handout.tar\">\n",
      "            (notebooks)\n",
      "           </a>\n",
      "          </td>\n",
      "         </tr>\n",
      "         <tr>\n",
      "          <td>\n",
      "           9/7\n",
      "          </td>\n",
      "          <td>\n",
      "           <a href=\"jupyter.pdf\">\n",
      "            Jupyter notebook lab\n",
      "           </a>\n",
      "           <a href=\"jupyter.tar\">\n",
      "            (notebook and data files)\n",
      "           </a>\n",
      "          </td>\n",
      "          <td>\n",
      "           <a href=\"https://scs.hosted.panopto.com/Panopto/Pages/Viewer.aspx?id=08d57ec4-058f-476d-9962-356b3c39af37\">\n",
      "            video\n",
      "           </a>\n",
      "          </td>\n",
      "          <td>\n",
      "          </td>\n",
      "         </tr>\n",
      "         <tr>\n",
      "          <td>\n",
      "           9/12\n",
      "          </td>\n",
      "          <td>\n",
      "           <a href=\"relational_data.pdf\">\n",
      "            Relational Data\n",
      "           </a>\n",
      "          </td>\n",
      "          <td>\n",
      "           <a href=\"https://scs.hosted.panopto.com/Panopto/Pages/Viewer.aspx?id=d3f716a3-a874-415d-8b6b-5c0af4efd4c6\">\n",
      "            video\n",
      "           </a>\n",
      "          </td>\n",
      "          <td>\n",
      "          </td>\n",
      "         </tr>\n",
      "         <tr>\n",
      "          <td>\n",
      "           9/14\n",
      "          </td>\n",
      "          <td>\n",
      "           <a href=\"visualization.pdf\">\n",
      "            Visualization and data exploration\n",
      "           </a>\n",
      "           <a href=\"Visualization.ipynb\">\n",
      "            (notebook)\n",
      "           </a>\n",
      "          </td>\n",
      "          <td>\n",
      "           <a href=\"https://scs.hosted.panopto.com/Panopto/Pages/Viewer.aspx?id=c0e02818-c252-49a9-83b9-b5c52f01b12f\">\n",
      "            video\n",
      "           </a>\n",
      "          </td>\n",
      "          <td>\n",
      "           HW1 Due, HW 2 Out\n",
      "           <a href=\"http://www.datasciencecourse.org/hw/2/handout.tar\">\n",
      "            (notebooks)\n",
      "           </a>\n",
      "          </td>\n",
      "         </tr>\n",
      "         <tr>\n",
      "          <td>\n",
      "           9/19\n",
      "          </td>\n",
      "          <td>\n",
      "           <a href=\"matrices.pdf\">\n",
      "            Vector, matrices, and linear algebra\n",
      "           </a>\n",
      "           <a href=\"NumpyBasics.ipynb\">\n",
      "            (notebook)\n",
      "           </a>\n",
      "          </td>\n",
      "          <td>\n",
      "           <a href=\"https://scs.hosted.panopto.com/Panopto/Pages/Viewer.aspx?id=70d8ac29-2865-4d71-a1f4-59127ec04c2c\">\n",
      "            video\n",
      "           </a>\n",
      "          </td>\n",
      "          <td>\n",
      "           Tutorial Out\n",
      "           <a href=\"tutorial.pdf\">\n",
      "            (instructions)\n",
      "           </a>\n",
      "          </td>\n",
      "         </tr>\n",
      "         <tr>\n",
      "          <td>\n",
      "           9/21\n",
      "          </td>\n",
      "          <td>\n",
      "           <a href=\"graphs.pdf\">\n",
      "            Graph and network processing\n",
      "           </a>\n",
      "           <a href=\"NetworkXBasics.ipynb\">\n",
      "            (notebook)\n",
      "           </a>\n",
      "          </td>\n",
      "          <td>\n",
      "           <a href=\"https://scs.hosted.panopto.com/Panopto/Pages/Viewer.aspx?id=0071471a-c880-4390-aa0d-3709f3d37776\">\n",
      "            video\n",
      "           </a>\n",
      "          </td>\n",
      "          <td>\n",
      "          </td>\n",
      "         </tr>\n",
      "         <tr>\n",
      "          <td>\n",
      "           9/26\n",
      "          </td>\n",
      "          <td>\n",
      "           <a href=\"free_text.pdf\">\n",
      "            Free text and natural language processing\n",
      "           </a>\n",
      "          </td>\n",
      "          <td>\n",
      "           <a href=\"https://scs.hosted.panopto.com/Panopto/Pages/Viewer.aspx?id=a69cc2ff-1f38-4843-b64d-d9c68cfee9c9\">\n",
      "            video\n",
      "           </a>\n",
      "          </td>\n",
      "          <td>\n",
      "          </td>\n",
      "         </tr>\n",
      "         <tr>\n",
      "          <td>\n",
      "           9/28\n",
      "          </td>\n",
      "          <td>\n",
      "           <a href=\"free_text.pdf\">\n",
      "            Free text, continued\n",
      "           </a>\n",
      "          </td>\n",
      "          <td>\n",
      "           <a href=\"https://scs.hosted.panopto.com/Panopto/Pages/Viewer.aspx?id=69561aa9-7d9f-44f5-a5a7-14e4b78686ba\">\n",
      "            video\n",
      "           </a>\n",
      "          </td>\n",
      "          <td>\n",
      "           HW3 Out\n",
      "           <a href=\"http://www.datasciencecourse.org/hw/3/handout.tar.gz\">\n",
      "            (notebooks)\n",
      "           </a>\n",
      "          </td>\n",
      "         </tr>\n",
      "         <tr>\n",
      "          <th colspan=\"4\">\n",
      "           Statistical modeling and machine learning\n",
      "          </th>\n",
      "         </tr>\n",
      "         <tr>\n",
      "          <td>\n",
      "           10/3\n",
      "          </td>\n",
      "          <td>\n",
      "           <a href=\"linear_regression.pdf\">\n",
      "            Linear regression\n",
      "           </a>\n",
      "           <a href=\"linear_reg_code_data.tar.gz\">\n",
      "            (notebook + data)\n",
      "           </a>\n",
      "          </td>\n",
      "          <td>\n",
      "           <a href=\"https://scs.hosted.panopto.com/Panopto/Pages/Viewer.aspx?id=97af9d3b-529b-41f4-aa54-db2b2eed14b5\">\n",
      "            video\n",
      "           </a>\n",
      "          </td>\n",
      "          <td>\n",
      "           HW2 Due\n",
      "          </td>\n",
      "         </tr>\n",
      "         <tr>\n",
      "          <td>\n",
      "           10/5\n",
      "          </td>\n",
      "          <td>\n",
      "           <a href=\"linear_classification.pdf\">\n",
      "            Linear classification\n",
      "           </a>\n",
      "          </td>\n",
      "          <td>\n",
      "           <a href=\"https://scs.hosted.panopto.com/Panopto/Pages/Viewer.aspx?id=83e43dbe-1922-4c4a-a3af-3bb24dd89c9f\">\n",
      "            video\n",
      "           </a>\n",
      "          </td>\n",
      "          <td>\n",
      "          </td>\n",
      "         </tr>\n",
      "         <tr>\n",
      "          <td>\n",
      "           10/10\n",
      "          </td>\n",
      "          <td>\n",
      "           <a href=\"nonlinear_modeling.pdf\">\n",
      "            Nonlinear modeling, cross-validation, regularization\n",
      "           </a>\n",
      "          </td>\n",
      "          <td>\n",
      "           <a href=\"https://scs.hosted.panopto.com/Panopto/Pages/Viewer.aspx?id=00cc9cfb-e77a-4242-bd74-6587965b63bc\">\n",
      "            video\n",
      "           </a>\n",
      "          </td>\n",
      "          <td>\n",
      "           <a href=\"GIS%20Tutorial.ipynb\">\n",
      "            Geospatial Analysis Tutorial\n",
      "           </a>\n",
      "           <br/>\n",
      "           <a href=\"project.pdf\">\n",
      "            Final Project Out\n",
      "           </a>\n",
      "          </td>\n",
      "         </tr>\n",
      "         <tr>\n",
      "          <td>\n",
      "           10/12\n",
      "          </td>\n",
      "          <td>\n",
      "           <a href=\"nonlinear_modeling.pdf\">\n",
      "            Model regularization and evaluation\n",
      "           </a>\n",
      "          </td>\n",
      "          <td>\n",
      "           <a href=\"https://scs.hosted.panopto.com/Panopto/Pages/Viewer.aspx?id=56707206-e441-421e-897b-3b900494a94c\">\n",
      "            video\n",
      "           </a>\n",
      "          </td>\n",
      "          <td>\n",
      "           HW3 Due, HW4 Out\n",
      "           <a href=\"http://www.datasciencecourse.org/hw/4/handout.tar.gz\">\n",
      "            (notebooks)\n",
      "           </a>\n",
      "           <a href=\"http://www.datasciencecourse.org/hw/4/data.tar.gz\">\n",
      "            (data)\n",
      "           </a>\n",
      "          </td>\n",
      "         </tr>\n",
      "         <tr>\n",
      "          <td>\n",
      "           10/17\n",
      "          </td>\n",
      "          <td>\n",
      "           <a href=\"probability.pdf\">\n",
      "            Basic probability and statistics: basics of probability\n",
      "           </a>\n",
      "          </td>\n",
      "          <td>\n",
      "           <a href=\"https://scs.hosted.panopto.com/Panopto/Pages/Viewer.aspx?id=9e45f2fa-d796-42bd-9383-44f88408859a\">\n",
      "            video\n",
      "           </a>\n",
      "          </td>\n",
      "          <td>\n",
      "           <a href=\"tutorial.pdf\">\n",
      "            Detailed tutorial instructions\n",
      "           </a>\n",
      "           <br/>\n",
      "           <a href=\"count_length.py\">\n",
      "            Length checker script\n",
      "           </a>\n",
      "          </td>\n",
      "         </tr>\n",
      "         <tr>\n",
      "          <td>\n",
      "           10/19\n",
      "          </td>\n",
      "          <td>\n",
      "           <a href=\"probability.pdf\">\n",
      "            Maximum likelihood estimation, naive Bayes\n",
      "           </a>\n",
      "          </td>\n",
      "          <td>\n",
      "           <a href=\"https://scs.hosted.panopto.com/Panopto/Pages/Viewer.aspx?id=98349dc6-6435-4b7b-b2ea-be8a174464e6\">\n",
      "            video\n",
      "           </a>\n",
      "          </td>\n",
      "          <td>\n",
      "           Tutorial Check-in Due\n",
      "          </td>\n",
      "         </tr>\n",
      "         <tr>\n",
      "          <td>\n",
      "           10/21\n",
      "          </td>\n",
      "          <td>\n",
      "           Recitation (Numpy, Scipy.sparse, Scipy.stats)\n",
      "          </td>\n",
      "          <td>\n",
      "           <a href=\"https://scs.hosted.panopto.com/Panopto/Pages/Viewer.aspx?id=ad540a28-5ba6-45cc-bf69-9ff55880174f\">\n",
      "            video\n",
      "           </a>\n",
      "          </td>\n",
      "          <td>\n",
      "           <a href=\"rec/rec4.ipynb\">\n",
      "            (notebook)\n",
      "           </a>\n",
      "          </td>\n",
      "         </tr>\n",
      "         <tr>\n",
      "          <td>\n",
      "           10/24\n",
      "          </td>\n",
      "          <td>\n",
      "           <a href=\"hypothesis_testing.pdf\">\n",
      "            Hypothesis testing and experimental design\n",
      "           </a>\n",
      "          </td>\n",
      "          <td>\n",
      "           <a href=\"https://scs.hosted.panopto.com/Panopto/Pages/Viewer.aspx?id=2caa5e96-8180-4743-81eb-463caa311da3\">\n",
      "            video\n",
      "           </a>\n",
      "          </td>\n",
      "          <td>\n",
      "          </td>\n",
      "         </tr>\n",
      "         <tr>\n",
      "          <th colspan=\"4\">\n",
      "           Advanced modeling techniques\n",
      "          </th>\n",
      "         </tr>\n",
      "         <tr>\n",
      "          <td>\n",
      "           10/26\n",
      "          </td>\n",
      "          <td>\n",
      "           <a href=\"decision_trees_boosting.pdf\">\n",
      "            Decision trees and boosting\n",
      "           </a>\n",
      "          </td>\n",
      "          <td>\n",
      "           <a href=\"https://scs.hosted.panopto.com/Panopto/Pages/Viewer.aspx?id=1ff026e7-0f0e-4e11-ba7f-6001d5b5d132\">\n",
      "            video\n",
      "           </a>\n",
      "          </td>\n",
      "          <td>\n",
      "           HW4 Due\n",
      "          </td>\n",
      "         </tr>\n",
      "         <tr>\n",
      "          <td>\n",
      "           10/31\n",
      "          </td>\n",
      "          <td>\n",
      "           <a href=\"unsupervised.pdf\">\n",
      "            Unsupervised learning: clustering and dimensionality reduction\n",
      "           </a>\n",
      "          </td>\n",
      "          <td>\n",
      "           <a href=\"https://scs.hosted.panopto.com/Panopto/Pages/Viewer.aspx?id=89defcbc-953a-4c30-81ac-c09ed9736a4f\">\n",
      "            video\n",
      "           </a>\n",
      "          </td>\n",
      "          <td>\n",
      "          </td>\n",
      "         </tr>\n",
      "         <tr>\n",
      "          <td>\n",
      "           11/2\n",
      "          </td>\n",
      "          <td>\n",
      "           <a href=\"anomaly_detection.pdf\">\n",
      "            Anomaly detection and mixture of Gaussians\n",
      "           </a>\n",
      "          </td>\n",
      "          <td>\n",
      "           <a href=\"https://scs.hosted.panopto.com/Panopto/Pages/Viewer.aspx?id=af33f634-e6a3-4e2f-8fde-8e4f3e05b9f1\">\n",
      "            video\n",
      "           </a>\n",
      "          </td>\n",
      "          <td>\n",
      "           Tutorial Due, HW5 Out\n",
      "           <a href=\"http://www.datasciencecourse.org/hw/5/handout.tar.gz\">\n",
      "            (notebooks)\n",
      "           </a>\n",
      "          </td>\n",
      "         </tr>\n",
      "         <tr>\n",
      "          <td>\n",
      "           10/21\n",
      "          </td>\n",
      "          <td>\n",
      "           Recitation, HW5\n",
      "          </td>\n",
      "          <td>\n",
      "           <a href=\"https://scs.hosted.panopto.com/Panopto/Pages/Viewer.aspx?id=f8ce6ae6-5152-4a4c-b87d-ae16ee62fdae\">\n",
      "            video\n",
      "           </a>\n",
      "          </td>\n",
      "          <td>\n",
      "           <a href=\"rec/rec5.ipynb\">\n",
      "            (notebook)\n",
      "           </a>\n",
      "          </td>\n",
      "         </tr>\n",
      "         <tr>\n",
      "          <td>\n",
      "           11/7\n",
      "          </td>\n",
      "          <td>\n",
      "           <a href=\"recommender_systems.pdf\">\n",
      "            Recommender systems\n",
      "           </a>\n",
      "          </td>\n",
      "          <td>\n",
      "           <a href=\"https://scs.hosted.panopto.com/Panopto/Pages/Viewer.aspx?id=b2438f26-f300-4990-889c-96c7285276a1\">\n",
      "            video\n",
      "           </a>\n",
      "          </td>\n",
      "          <td>\n",
      "          </td>\n",
      "         </tr>\n",
      "         <tr>\n",
      "          <td>\n",
      "           11/9\n",
      "          </td>\n",
      "          <td>\n",
      "           <a href=\"deep_learning.pdf\">\n",
      "            Deep learning\n",
      "           </a>\n",
      "          </td>\n",
      "          <td>\n",
      "           <a href=\"https://scs.hosted.panopto.com/Panopto/Pages/Viewer.aspx?id=19cca3dd-8b63-4e30-9aab-fbbd9099f2b1\">\n",
      "            video\n",
      "           </a>\n",
      "          </td>\n",
      "          <td>\n",
      "           Student Tutorial Evaluation Due\n",
      "          </td>\n",
      "         </tr>\n",
      "         <tr>\n",
      "          <td>\n",
      "           11/11\n",
      "          </td>\n",
      "          <td>\n",
      "          </td>\n",
      "          <td>\n",
      "          </td>\n",
      "          <td>\n",
      "           Midterm Report\n",
      "          </td>\n",
      "         </tr>\n",
      "         <tr>\n",
      "          <td>\n",
      "           11/14\n",
      "          </td>\n",
      "          <td>\n",
      "           <a href=\"InfoViz.pdf\">\n",
      "            Guest lecture (Jen Mankoff, HCI): information visualization\n",
      "           </a>\n",
      "          </td>\n",
      "          <td>\n",
      "           <a href=\"https://scs.hosted.panopto.com/Panopto/Pages/Viewer.aspx?id=c5dcb54c-f8c5-4792-9db5-a5c274eae1f7\">\n",
      "            video\n",
      "           </a>\n",
      "          </td>\n",
      "          <td>\n",
      "          </td>\n",
      "         </tr>\n",
      "         <tr>\n",
      "          <th colspan=\"4\">\n",
      "           Additional topics\n",
      "          </th>\n",
      "         </tr>\n",
      "         <tr>\n",
      "          <td>\n",
      "           11/16\n",
      "          </td>\n",
      "          <td>\n",
      "           <a href=\"probabilistic_modeling.pdf\">\n",
      "            Probabilistic modeling\n",
      "           </a>\n",
      "          </td>\n",
      "          <td>\n",
      "           <a href=\"https://scs.hosted.panopto.com/Panopto/Pages/Viewer.aspx?id=288e893c-62bb-4e79-aec3-2f1c5e92ec92\">\n",
      "            video\n",
      "           </a>\n",
      "          </td>\n",
      "          <td>\n",
      "           HW5 Due, HW6 Out\n",
      "           <a href=\"hw/6/handout.tar.gz\">\n",
      "            (notebooks)\n",
      "           </a>\n",
      "           <a href=\"hw/6/\">\n",
      "            (data)\n",
      "           </a>\n",
      "          </td>\n",
      "         </tr>\n",
      "         <tr>\n",
      "          <td>\n",
      "           11/21\n",
      "          </td>\n",
      "          <td>\n",
      "           <a href=\"mapreduce.pdf\">\n",
      "            Big data and MapReduce methods\n",
      "           </a>\n",
      "          </td>\n",
      "          <td>\n",
      "           <a href=\"https://scs.hosted.panopto.com/Panopto/Pages/Viewer.aspx?id=fdaef430-f88c-4ac0-89a1-9fe30c300519\">\n",
      "            video\n",
      "           </a>\n",
      "          </td>\n",
      "          <td>\n",
      "          </td>\n",
      "         </tr>\n",
      "         <tr>\n",
      "          <td>\n",
      "           11/22\n",
      "          </td>\n",
      "          <td>\n",
      "           HW 6 Recitation\n",
      "          </td>\n",
      "          <td>\n",
      "           <a href=\"https://scs.hosted.panopto.com/Panopto/Pages/Viewer.aspx?id=56b8ad3e-48fe-40a6-acb4-3d0512783728\">\n",
      "            video\n",
      "           </a>\n",
      "          </td>\n",
      "          <td>\n",
      "           <a href=\"rec/rec6.ipynb\">\n",
      "            (notebook)\n",
      "           </a>\n",
      "          </td>\n",
      "         </tr>\n",
      "         <tr>\n",
      "          <td>\n",
      "           11/28\n",
      "          </td>\n",
      "          <td>\n",
      "           <a href=\"debugging.pdf\">\n",
      "            Debugging data science\n",
      "           </a>\n",
      "           <a href=\"debugging_data_science.pdf\">\n",
      "            (working notes)\n",
      "           </a>\n",
      "          </td>\n",
      "          <td>\n",
      "           <a href=\"https://scs.hosted.panopto.com/Panopto/Pages/Viewer.aspx?id=924f01c5-8a76-4248-8971-03d7e21b3219\">\n",
      "            video\n",
      "           </a>\n",
      "          </td>\n",
      "          <td>\n",
      "          </td>\n",
      "         </tr>\n",
      "         <tr>\n",
      "          <td>\n",
      "           11/30\n",
      "          </td>\n",
      "          <td>\n",
      "           A data science walkthrough\n",
      "           <a href=\"Data Science Walkthrough.ipynb\">\n",
      "            (notebook)\n",
      "           </a>\n",
      "          </td>\n",
      "          <td>\n",
      "           <a href=\"https://scs.hosted.panopto.com/Panopto/Pages/Viewer.aspx?id=7e0fad6a-520e-4bb7-9dc3-44498d3be26a\">\n",
      "            video\n",
      "           </a>\n",
      "          </td>\n",
      "          <td>\n",
      "          </td>\n",
      "         </tr>\n",
      "         <tr>\n",
      "          <td>\n",
      "           12/5\n",
      "          </td>\n",
      "          <td>\n",
      "           <a href=\"data_science_positions.pdf\">\n",
      "            Data scientist positions\n",
      "           </a>\n",
      "          </td>\n",
      "          <td>\n",
      "           <a href=\"https://scs.hosted.panopto.com/Panopto/Pages/Viewer.aspx?id=30711db7-9dde-4135-ad17-6652c3432ab2\">\n",
      "            video\n",
      "           </a>\n",
      "          </td>\n",
      "          <td>\n",
      "          </td>\n",
      "         </tr>\n",
      "         <tr>\n",
      "          <td>\n",
      "           12/6\n",
      "          </td>\n",
      "          <td>\n",
      "          </td>\n",
      "          <td>\n",
      "          </td>\n",
      "          <td>\n",
      "           HW6 Due\n",
      "          </td>\n",
      "         </tr>\n",
      "         <tr>\n",
      "          <td>\n",
      "           12/7\n",
      "          </td>\n",
      "          <td>\n",
      "           <a href=\"future_of_data_science.pdf\">\n",
      "            Future of data science\n",
      "           </a>\n",
      "          </td>\n",
      "          <td>\n",
      "          </td>\n",
      "          <td>\n",
      "          </td>\n",
      "         </tr>\n",
      "         <tr>\n",
      "          <td>\n",
      "           12/9\n",
      "          </td>\n",
      "          <td>\n",
      "          </td>\n",
      "          <td>\n",
      "          </td>\n",
      "          <td>\n",
      "           Final project report due\n",
      "          </td>\n",
      "         </tr>\n",
      "        </tbody>\n",
      "       </table>\n",
      "      </div>\n",
      "     </div>\n",
      "    </div>\n",
      "   </div>\n",
      "  </section>\n",
      "  <!-- Workbooks Section -->\n",
      "  <section class=\"bg-light-gray\" id=\"assignments\">\n",
      "   <div class=\"container\">\n",
      "    <div class=\"row\">\n",
      "     <div class=\"col-lg-10 col-lg-offset-1\">\n",
      "      <h2 class=\"section-heading text-center\">\n",
      "       Assignments\n",
      "      </h2>\n",
      "      <p class=\"large text-muted\">\n",
      "       The course will consist of three main types of assignments.  First, there will be biweekly homes that work through the  material presented in class, and require students to implement or evaluate relevant algorithms.  These workbooks will be distributed as Jupyter notebooks, and will be submitted for the course via Autolab.  In addition to these assignments, students will themselves develop a new tutorial workbook to teach an advanced topic, and will also work through the content developed by at least two other students.  Finally, students will complete a final class project (in groups), which will be a chance to apply these data science techniques to a problem of the group's choosing.\n",
      "      </p>\n",
      "      <p class=\"large text-muted\">\n",
      "       There is no midterm or final in the course.  All assignments will be posted to this page as they are available.\n",
      "      </p>\n",
      "     </div>\n",
      "    </div>\n",
      "   </div>\n",
      "  </section>\n",
      "  <!-- Instructors Grid Section -->\n",
      "  <section id=\"instructors\">\n",
      "   <div class=\"container\">\n",
      "    <div class=\"row\">\n",
      "     <div class=\"col-lg-12 text-center\">\n",
      "      <h2 class=\"section-heading\">\n",
      "       Instructors\n",
      "      </h2>\n",
      "     </div>\n",
      "    </div>\n",
      "    <div class=\"row row-eq-height\">\n",
      "     <div class=\"col-sm-6\">\n",
      "      <div class=\"team-member\">\n",
      "       <img alt=\"\" class=\"img-responsive img-circle\" src=\"img/team/zkolter.png\"/>\n",
      "       <h4>\n",
      "        <a href=\"http://www.zicokolter.com/\">\n",
      "         Zico Kolter\n",
      "        </a>\n",
      "       </h4>\n",
      "       <p class=\"text-muted\">\n",
      "        Assistant Professor\n",
      "       </p>\n",
      "       <p class=\"text-muted\">\n",
      "        Office lunches: See Piazza\n",
      "       </p>\n",
      "      </div>\n",
      "     </div>\n",
      "     <div class=\"col-sm-6\">\n",
      "      <div class=\"team-member\">\n",
      "       <img alt=\"\" class=\"img-responsive img-circle\" src=\"img/team/ericwong.png\"/>\n",
      "       <h4>\n",
      "        <a href=\"http://cs.cmu.edu/~ericwong/\">\n",
      "         Eric\n",
      "                            Wong\n",
      "        </a>\n",
      "       </h4>\n",
      "       <p class=\"text-muted\">\n",
      "        Teaching Assistant\n",
      "       </p>\n",
      "       <p class=\"text-muted\">\n",
      "        Office hours: Tuesday and Thursday 3-4pm Gates 8th Floor Kitchen area\n",
      "       </p>\n",
      "      </div>\n",
      "     </div>\n",
      "    </div>\n",
      "    <div class=\"row row-eq-height\">\n",
      "     <div class=\"col-sm-6\">\n",
      "      <div class=\"team-member\">\n",
      "       <img alt=\"\" class=\"img-responsive img-circle\" src=\"img/team/dhivya.png\"/>\n",
      "       <h4>\n",
      "        <a href=\"http://www.cs.cmu.edu/~deswaran/\">\n",
      "         Dhivya Eswaran\n",
      "        </a>\n",
      "       </h4>\n",
      "       <p class=\"text-muted\">\n",
      "        Teaching Assistant\n",
      "       </p>\n",
      "       <p class=\"text-muted\">\n",
      "        Office hours: Monday 3:30pm-4:30pm, Fridays 9am-10am GHC 6008\n",
      "       </p>\n",
      "      </div>\n",
      "     </div>\n",
      "    </div>\n",
      "   </div>\n",
      "  </section>\n",
      "  <!-- FAQ Section -->\n",
      "  <section class=\"bg-light-gray\" id=\"faq\">\n",
      "   <div class=\"container\">\n",
      "    <div class=\"row\">\n",
      "     <div class=\"col-lg-10 col-lg-offset-1\">\n",
      "      <h2 class=\"section-heading text-center\">\n",
      "       FAQ\n",
      "      </h2>\n",
      "      <p class=\"large text-muted\">\n",
      "       <b>\n",
      "        Q: What is the situation will all the different course numbers and sections (15-388, 15-688 A/B)?\n",
      "       </b>\n",
      "       <br/>\n",
      "       A: The demand for this course has been very right: as of the start of classes there are more than 250 people registered or on the waitlist for the course.  We're thrilled about the level of interest, but unfortunately the only available classroom during this time fits at most 136 students.\n",
      "       <br/>\n",
      "       To accomodate as many as people as possible, we created a section DNM (Does Not Meet) section of the 600 level course, which is the B section of the 15-688 course.  This version is identical to the A section, except that\n",
      "       <emph>\n",
      "        students are expected to watch the lectures online\n",
      "       </emph>\n",
      "       (all lectures will be available online within a few hours after the end of class).  We expect that attendance will shake out significantly during the first few weeks of the course, and our strong suspicious is that after the first month, there will be space in the lecture hall for anyone (from any section), to attend lectures, but we ask that until we make this clear, students in the B section not regularly attend lecture.\n",
      "      </p>\n",
      "      <p class=\"large text-muted\">\n",
      "       <b>\n",
      "        Q: I really want to take the in-person 15-688 Section A.  Will I be able to get off the waitlist?\n",
      "       </b>\n",
      "       <br/>\n",
      "       See above.  We want to accomodate absolutely as many people as possible, but are ultimately limited by the classroom size (and following university policy, the undergraduate lectures have priority for in-class attendence).  However, we really want to emphasize that the courses are\n",
      "       <emph>\n",
      "        exactly\n",
      "       </emph>\n",
      "       the same except for the in-class lecture and DNM section (same credit, same homeworks, same office hours, same access to TAs/professor, same tutorial and final project assigments, etc), and there is a good chance that Section B students will end up even being able to attend lectures by the middle of the semester.  So please consider enrolling in Section B if you are in this position.\n",
      "      </p>\n",
      "      <p class=\"large text-muted\">\n",
      "       <b>\n",
      "        Q: I'm on the waitlist for the 15-388 version.  Will I be able to get off the waitlist?\n",
      "       </b>\n",
      "       <br/>\n",
      "       Yes, almost definitely.  There is a relatively small waitlist for the 300 version currently, and we absolutely expect all students who stick around a few weeks to get off the waitlist.\n",
      "      </p>\n",
      "      <p class=\"large text-muted\">\n",
      "       <b>\n",
      "        Q: How does the 5% class participation grade work for students in the DNM section?\n",
      "       </b>\n",
      "       <br/>\n",
      "       Given the size of this course, for all students (including 15-388/15-688A students) the class participation grade will be based upon participating in the course forums on\n",
      "       <a href=\"https://piazza.com/class/is8ghyly8um4ew\">\n",
      "        Piazza\n",
      "       </a>\n",
      "       , not upon speaking up in class.\n",
      "      </p>\n",
      "      <p class=\"large text-muted\">\n",
      "       <b>\n",
      "        Q: Is there a pointer to materials from a previous year?\n",
      "       </b>\n",
      "       <br/>\n",
      "       A: No, Fall 2016 is the first time this course is being offered, so we don't have past materials to look over.  Feel free to contact the instructors if you have questions about the content of the course which aren't answered here.\n",
      "      </p>\n",
      "      <p class=\"large text-muted\">\n",
      "       <b>\n",
      "        Q: Does this course count toward the MSCS AI requirement?\n",
      "       </b>\n",
      "       <br/>\n",
      "       A: (Corrected version).  We still need to confirm whether this will be the case or not.  We'll update the website and soon as we know, and please email us if this situation affects you.\n",
      "      </p>\n",
      "      <p class=\"large text-muted\">\n",
      "       <b>\n",
      "        Q: Will the course be offered during the spring semester?\n",
      "       </b>\n",
      "       <br/>\n",
      "       A: No, the soonest the course will be offered again is during Fall 2017.\n",
      "      </p>\n",
      "      <p class=\"large text-muted\">\n",
      "       <b>\n",
      "        Q: Will this course focus mainly on applying techniques from existing libraries to practical data science problems, or writing the underlying algorithms from scratch?\n",
      "       </b>\n",
      "       <br/>\n",
      "       A: Both, to a certain extent.  There will be plenty of focus on applying algorithms (often best used through existing libraries) to practical problems, but these libraries can be used more effectively when you understand the underlying algorithms well enough to implement them yourself.  So, at least for the more straightforward algorithms that we cover, you will be implementing these yourselves.  The 688 level course assignment will do a bit more of this underlying implementation than the 388 level course.\n",
      "      </p>\n",
      "      <p class=\"large text-muted\">\n",
      "       <b>\n",
      "        Q: I have a question that wasn't asked here.\n",
      "       </b>\n",
      "       <br/>\n",
      "       A: Come to office hours, or ask on the course\n",
      "       <a href=\"https://piazza.com/class/is8ghyly8um4ew\">\n",
      "        Piazza\n",
      "       </a>\n",
      "       .\n",
      "      </p>\n",
      "     </div>\n",
      "    </div>\n",
      "   </div>\n",
      "  </section>\n",
      "  <footer class=\"bg-light-gray\">\n",
      "   <div class=\"container\">\n",
      "    <div class=\"row\">\n",
      "     <div class=\"col-lg-12\">\n",
      "      <span class=\"copyright\">\n",
      "       Copyright © Carnegie\n",
      "                        Mellon University 2016\n",
      "      </span>\n",
      "     </div>\n",
      "    </div>\n",
      "   </div>\n",
      "  </footer>\n",
      "  <!-- jQuery -->\n",
      "  <script src=\"js/jquery.js\">\n",
      "  </script>\n",
      "  <!-- Bootstrap Core JavaScript -->\n",
      "  <script src=\"js/bootstrap.min.js\">\n",
      "  </script>\n",
      "  <!-- Plugin JavaScript -->\n",
      "  <script src=\"https://cdnjs.cloudflare.com/ajax/libs/jquery-easing/1.3/jquery.easing.min.js\">\n",
      "  </script>\n",
      "  <script src=\"js/classie.js\">\n",
      "  </script>\n",
      "  <script src=\"js/cbpAnimatedHeader.js\">\n",
      "  </script>\n",
      "  <!-- Contact Form JavaScript -->\n",
      "  <script src=\"js/jqBootstrapValidation.js\">\n",
      "  </script>\n",
      "  <script src=\"js/contact_me.js\">\n",
      "  </script>\n",
      "  <!-- Custom Theme JavaScript -->\n",
      "  <script src=\"js/agency.js\">\n",
      "  </script>\n",
      " </body>\n",
      "</html>\n",
      "\n"
     ]
    }
   ],
   "source": [
    "soup = BeautifulSoup(course_webpage, 'html.parser') \n",
    "print(soup.prettify())"
   ]
  },
  {
   "cell_type": "code",
   "execution_count": 17,
   "metadata": {},
   "outputs": [],
   "source": [
    "import re\n",
    "ng_present = re.compile(\"ng\")\n",
    "res=\"The orange is the fruit of the citrus species Citrus x sinensis in the family Rutaceae. It is also called sweet orange, to distinguish it from the related Citrus x aurantium, referred to as bitter orange. The sweet orange reproduces asexually (apomixis through nucellar embryony); varieties of sweet orange arise through mutations. The orange is a hybrid between pomelo (Citrus maxima) and mandarin (Citrus reticulata). It has genes that are ~25% pomelo and ~75% mandarin; however, it is not a simple backcrossed BC1 hybrid, but hybridized over multiple generations. The chloroplast genes, and therefore the maternal line, seem to be pomelo. The sweet orange has had its full genome sequenced. Earlier estimates of the percentage of pomelo genes varying from ~50% to 6% have been reported. Sweet oranges were mentioned in Chinese literature in 314 BC. As of 1987, orange trees were found to be the most cultivated fruit tree in the world. Orange trees are widely grown in tropical and subtropical climates for their sweet fruit. The fruit of the orange tree can be eaten fresh, or processed for its juice or fragrant peel. As of 2012, sweet oranges accounted for approximately 70% of citrus production. In 2014, 70.9 million tonnes of oranges were grown worldwide, with Brazil producing 24% of the world total followed by China and India.\""
   ]
  },
  {
   "cell_type": "code",
   "execution_count": 18,
   "metadata": {},
   "outputs": [
    {
     "data": {
      "text/plain": [
       "16"
      ]
     },
     "execution_count": 18,
     "metadata": {},
     "output_type": "execute_result"
    }
   ],
   "source": [
    "len(ng_present.findall(res))"
   ]
  },
  {
   "cell_type": "code",
   "execution_count": 21,
   "metadata": {},
   "outputs": [
    {
     "data": {
      "text/plain": [
       "115"
      ]
     },
     "execution_count": 21,
     "metadata": {},
     "output_type": "execute_result"
    }
   ],
   "source": [
    "res.find(\"ng\", res.find(\"ng\")+1)"
   ]
  },
  {
   "cell_type": "code",
   "execution_count": 25,
   "metadata": {},
   "outputs": [
    {
     "name": "stdout",
     "output_type": "stream",
     "text": [
      "None\n"
     ]
    }
   ],
   "source": [
    "res.find"
   ]
  },
  {
   "cell_type": "code",
   "execution_count": 27,
   "metadata": {},
   "outputs": [
    {
     "data": {
      "text/plain": [
       "[7,\n",
       " 115,\n",
       " 128,\n",
       " 200,\n",
       " 218,\n",
       " 303,\n",
       " 339,\n",
       " 655,\n",
       " 751,\n",
       " 799,\n",
       " 867,\n",
       " 942,\n",
       " 1049,\n",
       " 1144,\n",
       " 1238,\n",
       " 1284]"
      ]
     },
     "execution_count": 27,
     "metadata": {},
     "output_type": "execute_result"
    }
   ],
   "source": [
    "[m.start() for m in re.finditer('ng', res)]"
   ]
  },
  {
   "cell_type": "code",
   "execution_count": 28,
   "metadata": {},
   "outputs": [
    {
     "data": {
      "text/plain": [
       "<!DOCTYPE html>\n",
       "\n",
       "<html lang=\"en\">\n",
       "<head>\n",
       "<meta charset=\"utf-8\"/>\n",
       "<meta content=\"IE=edge\" http-equiv=\"X-UA-Compatible\"/>\n",
       "<meta content=\"width=device-width, initial-scale=1\" name=\"viewport\"/>\n",
       "<meta content=\"\" name=\"description\"/>\n",
       "<meta content=\"\" name=\"author\"/>\n",
       "<title>15-388/688 Practical Data Science</title>\n",
       "<!-- Bootstrap Core CSS -->\n",
       "<link href=\"css/bootstrap.min.css\" rel=\"stylesheet\"/>\n",
       "<!-- Custom CSS -->\n",
       "<link href=\"css/agency.css\" rel=\"stylesheet\"/>\n",
       "<!-- Eric's CSS -->\n",
       "<link href=\"css/eric.css\" rel=\"stylesheet\"/>\n",
       "<!-- Custom Fonts -->\n",
       "<link href=\"font-awesome/css/font-awesome.min.css\" rel=\"stylesheet\" type=\"text/css\"/>\n",
       "<link href=\"https://fonts.googleapis.com/css?family=Montserrat:400,700\" rel=\"stylesheet\" type=\"text/css\"/>\n",
       "<link href=\"https://fonts.googleapis.com/css?family=Kaushan+Script\" rel=\"stylesheet\" type=\"text/css\"/>\n",
       "<link href=\"https://fonts.googleapis.com/css?family=Droid+Serif:400,700,400italic,700italic\" rel=\"stylesheet\" type=\"text/css\"/>\n",
       "<link href=\"https://fonts.googleapis.com/css?family=Roboto+Slab:400,100,300,700\" rel=\"stylesheet\" type=\"text/css\"/>\n",
       "<!-- HTML5 Shim and Respond.js IE8 support of HTML5 elements and media queries -->\n",
       "<!-- WARNING: Respond.js doesn't work if you view the page via file:// -->\n",
       "<!--[if lt IE 9]>\n",
       "        <script src=\"https://oss.maxcdn.com/libs/html5shiv/3.7.0/html5shiv.js\"></script>\n",
       "        <script src=\"https://oss.maxcdn.com/libs/respond.js/1.4.2/respond.min.js\"></script>\n",
       "    <![endif]-->\n",
       "</head>\n",
       "<body class=\"index\" id=\"page-top\">\n",
       "<!-- Navigation -->\n",
       "<nav class=\"navbar navbar-default navbar-fixed-top\">\n",
       "<div class=\"container\">\n",
       "<!-- Brand and toggle get grouped for better mobile display -->\n",
       "<div class=\"navbar-header page-scroll\">\n",
       "<button class=\"navbar-toggle\" data-target=\"#bs-example-navbar-collapse-1\" data-toggle=\"collapse\" type=\"button\">\n",
       "<span class=\"sr-only\">Toggle navigation</span>\n",
       "<span class=\"icon-bar\"></span>\n",
       "<span class=\"icon-bar\"></span>\n",
       "<span class=\"icon-bar\"></span>\n",
       "</button>\n",
       "<a class=\"navbar-brand page-scroll\" href=\"#page-top\">15-388/688\n",
       "                 Practical Data Science</a>\n",
       "</div>\n",
       "<!-- Collect the nav links, forms, and other content for toggling -->\n",
       "<div class=\"collapse navbar-collapse\" id=\"bs-example-navbar-collapse-1\">\n",
       "<ul class=\"nav navbar-nav navbar-right\">\n",
       "<li class=\"hidden\">\n",
       "<a href=\"#page-top\"></a>\n",
       "</li>\n",
       "<li>\n",
       "<a class=\"page-scroll\" href=\"#overview\">Overview</a>\n",
       "</li>\n",
       "<li>\n",
       "<a class=\"page-scroll\" href=\"#schedule\">Schedule</a>\n",
       "</li>\n",
       "<li>\n",
       "<a class=\"page-scroll\" href=\"#assignments\">Assignments</a>\n",
       "</li>\n",
       "<li>\n",
       "<a class=\"page-scroll\" href=\"#instructors\">Instructors</a>\n",
       "</li>\n",
       "<li>\n",
       "<a class=\"page-scroll\" href=\"#faq\">FAQ</a>\n",
       "</li>\n",
       "</ul>\n",
       "</div>\n",
       "<!-- /.navbar-collapse -->\n",
       "</div>\n",
       "<!-- /.container-fluid -->\n",
       "</nav>\n",
       "<!-- Header -->\n",
       "<header>\n",
       "<div class=\"container\">\n",
       "<div class=\"intro-text\">\n",
       "<div class=\"intro-lead-in\">CMU 15-388/688, Fall 2016</div>\n",
       "<div class=\"intro-heading\">Practical Data Science</div>\n",
       "<a class=\"page-scroll btn btn-xl\" href=\"#overview\">Course\n",
       "                    Information</a>\n",
       "</div>\n",
       "</div>\n",
       "</header>\n",
       "<!-- Overview Section -->\n",
       "<section class=\"bg-light-gray\" id=\"overview\">\n",
       "<div class=\"container\">\n",
       "<div class=\"row\">\n",
       "<div class=\"col-lg-10 col-lg-offset-1\">\n",
       "<h2 class=\"section-heading text-center\">Course Overview</h2>\n",
       "<p class=\"large text-muted\">Data science is the study and practice of how we can extract insight and knowledge from large amounts of data.  It is a burgeoning field, currently attracting substantial demand from both academia and industry.</p>\n",
       "<p class=\"large text-muted\">This course provides a practical introduction to the \"full stack\" of data science analysis, including data collection and processing, data visualization and presentation, statistical model building using machine learning, and big data techniques for scaling these methods.  Topics covered include: collecting and processing data using relational methods, time series approaches, graph and network models, free text analysis, and spatial geographic methods; analyzing the data using a variety of statistical and machine learning methods include linear and non-linear regression and classification, unsupervised learning and anomaly detection, plus advanced machine learning methods like kernel approaches, boosting, or deep learning; visualizing and presenting data, particularly focusing the case of high-dimensional data; and applying these methods to big data settings, where multiple machines and distributed computation are needed to fully leverage the data.</p>\n",
       "<p class=\"large text-muted\"> As the course name suggests, this course will focus on the <em>practical</em> aspects of data science, with a focus on implementing and making use of the above techniques.  Students will complete weekly programming homework that emphasize practical understanding of the methods described in the course.  In addition, students will develop a tutorial on an advanced topic, and will complete a group project that applies these data science techniques to a practical application chosen by the team; these two longer assignments will be done in lieu of a midterm or final.</p>\n",
       "</div>\n",
       "</div>\n",
       "<div class=\"row text-center\">\n",
       "<div class=\"col-md-4\">\n",
       "<span class=\"fa-stack fa-5x\">\n",
       "<i class=\"fa fa-circle fa-stack-2x text-primary\"></i>\n",
       "<i class=\"fa fa-database fa-stack-1x fa-inverse\"></i>\n",
       "</span>\n",
       "<h4 class=\"service-heading\">Data collection and processing</h4>\n",
       "<p class=\"text-muted large\">Ingest data from unstructured and structured sources, and use relational models, time series algorithms, graph and network processing, natural language processing, geographic information system processes to store and manage the data.</p>\n",
       "</div>\n",
       "<div class=\"col-md-4\">\n",
       "<span class=\"fa-stack fa-5x\">\n",
       "<i class=\"fa fa-circle fa-stack-2x text-primary\"></i>\n",
       "<i class=\"fa fa-bar-chart fa-stack-1x fa-inverse\"></i>\n",
       "</span>\n",
       "<h4 class=\"service-heading\">Statistical modeling</h4>\n",
       "<p class=\"text-muted large\">Apply basic statistical techniques and analyses to understand properties of the data and to design experimental setups for testing hypotheses or collecting new data. </p>\n",
       "</div>\n",
       "<div class=\"col-md-4\">\n",
       "<span class=\"fa-stack fa-5x\">\n",
       "<i class=\"fa fa-circle fa-stack-2x text-primary\"></i>\n",
       "<i class=\"fa fa-gears fa-stack-1x fa-inverse\"></i>\n",
       "</span>\n",
       "<h4 class=\"service-heading\">Advanced ML techniques</h4>\n",
       "<p class=\"text-muted large\">Apply advanced machine learning algorithms such as kernel methods, boosting, deep learning, anomaly detection, factorization models, and probabilistic modeling to analyze and extract insights from data. </p>\n",
       "</div>\n",
       "</div>\n",
       "<div class=\"row text-center\">\n",
       "<div class=\"col-md-4 col-md-offset-2\">\n",
       "<span class=\"fa-stack fa-5x\">\n",
       "<i class=\"fa fa-circle fa-stack-2x text-primary\"></i>\n",
       "<i class=\"fa fa-eye fa-stack-1x fa-inverse\"></i>\n",
       "</span>\n",
       "<h4 class=\"service-heading\">Data visualization</h4>\n",
       "<p class=\"text-muted large\">Visualize the data and results from analysis, particularly focusing on visualizing and understanding high-dimensional structured data and the results of statistical and machine learning analysis.</p>\n",
       "</div>\n",
       "<div class=\"col-md-4\">\n",
       "<span class=\"fa-stack fa-5x\">\n",
       "<i class=\"fa fa-circle fa-stack-2x text-primary\"></i>\n",
       "<i class=\"fa fa-cloud fa-stack-1x fa-inverse\"></i>\n",
       "</span>\n",
       "<h4 class=\"service-heading\">Big data</h4>\n",
       "<p class=\"text-muted large\">Scale the methods to big data regimes, where distributed storage and computation are needed to fully realize capabilities of data analysis techniques.</p>\n",
       "</div>\n",
       "</div>\n",
       "<div class=\"col-lg-12\" style=\"height:50px;\"></div>\n",
       "<div class=\"row\">\n",
       "<div class=\"col-lg-10 col-lg-offset-1 well\">\n",
       "<h3 class=\"service-heading\">Key information</h3>\n",
       "<p class=\"large\">\n",
       "<strong>Course number:</strong> 15-388 (undergraduate) / 15-688 (masters) <br/> \n",
       "                    Both courses will have the same lectures, but on each assignment there will be additional advanced problems for the 600 level course.\n",
       "                    </p>\n",
       "<p class=\"large\">\n",
       "<strong>Course location and time:</strong> Doherty Hall A302, MW 12:00-1:20</p>\n",
       "<p class=\"large\">\n",
       "<strong>Units:</strong> 9 (15-388), 12 (15-688)<br/>\n",
       "</p>\n",
       "<p class=\"large\">\n",
       "<strong>Prequisites:</strong> Programming experience is necessary for the course (assignments are in Python).  For CS undergraduates, either 15-112 or 15-122 is required; undergraduates from other departments who have programming background but have not taken the course require instructor approval to enroll.  Experience with linear algebra, probability, and statistic is recommended, but not strictly required (courses like 21-240/241/242 for linear algebra or 36-201 for probability/statistics are more than sufficient).  Students concerned about whether they have a proper background should contact the course instructors to discuss.</p>\n",
       "<p class=\"large\">\n",
       "<strong>Grading:</strong> 55% homeworks, 15% tutorial, 25% final project, 5% class participation.</p>\n",
       "</div>\n",
       "</div>\n",
       "</div>\n",
       "</section>\n",
       "<!-- Schedule Section -->\n",
       "<section id=\"schedule\">\n",
       "<div class=\"container\">\n",
       "<div class=\"row\">\n",
       "<div class=\"col-lg-10 col-lg-offset-1\">\n",
       "<h2 class=\"section-heading text-center\">Schedule</h2>\n",
       "<p class=\"large text-muted\">This schedule is tentative and subject to change, and precise dates will be added closer to the course start date.  All course material, including slides, lecture videos, and assignments, will be publicly available.</p>\n",
       "</div>\n",
       "</div>\n",
       "<div class=\"col-lg-12\" style=\"height:50px;\"></div>\n",
       "<div class=\"row\">\n",
       "<div class=\"col-lg-10 col-lg-offset-1\">\n",
       "<div class=\"table-responsive\" style=\"font-size:16px\">\n",
       "<table class=\"table table-hover table-striped large\">\n",
       "<thead>\n",
       "<tr>\n",
       "<th>Date</th>\n",
       "<th>Topic</th>\n",
       "<th>Lecture</th>\n",
       "<th>Assignments</th>\n",
       "</tr>\n",
       "</thead>\n",
       "<tbody>\n",
       "<tr>\n",
       "<td>8/29</td>\n",
       "<td><a href=\"intro.pdf\">Introduction</a></td>\n",
       "<td><a href=\"https://scs.hosted.panopto.com/Panopto/Pages/Viewer.aspx?id=3f116819-0e26-4f79-bcee-f4cb7e745773\">video</a></td>\n",
       "<td></td>\n",
       "</tr>\n",
       "<tr>\n",
       "<th colspan=\"4\">Data collection and management</th>\n",
       "</tr>\n",
       "<tr>\n",
       "<td>8/31</td>\n",
       "<td><a href=\"data_collection.pdf\">Data collection and scraping</a></td>\n",
       "<td><a href=\"https://scs.hosted.panopto.com/Panopto/Pages/Viewer.aspx?id=0d70cc6d-acbc-4895-a4da-8932dc323723\">video</a></td>\n",
       "<td>HW1 Out <a href=\"hw/1/hw1.pdf\">(pdf)</a> <a href=\"hw/1/handout.tar\">(notebooks)</a></td>\n",
       "</tr>\n",
       "<tr>\n",
       "<td>9/7</td>\n",
       "<td><a href=\"jupyter.pdf\">Jupyter notebook lab</a>\n",
       "<a href=\"jupyter.tar\">(notebook and data files)</a>\n",
       "</td>\n",
       "<td><a href=\"https://scs.hosted.panopto.com/Panopto/Pages/Viewer.aspx?id=08d57ec4-058f-476d-9962-356b3c39af37\">video</a></td>\n",
       "<td></td>\n",
       "</tr>\n",
       "<tr>\n",
       "<td>9/12</td>\n",
       "<td><a href=\"relational_data.pdf\">Relational Data</a></td>\n",
       "<td><a href=\"https://scs.hosted.panopto.com/Panopto/Pages/Viewer.aspx?id=d3f716a3-a874-415d-8b6b-5c0af4efd4c6\">video</a></td>\n",
       "<td></td>\n",
       "</tr>\n",
       "<tr>\n",
       "<td>9/14</td>\n",
       "<td><a href=\"visualization.pdf\">Visualization and data exploration</a> <a href=\"Visualization.ipynb\">(notebook)</a></td>\n",
       "<td><a href=\"https://scs.hosted.panopto.com/Panopto/Pages/Viewer.aspx?id=c0e02818-c252-49a9-83b9-b5c52f01b12f\">video</a></td>\n",
       "<td>HW1 Due, HW 2 Out <a href=\"http://www.datasciencecourse.org/hw/2/handout.tar\">(notebooks)</a></td>\n",
       "</tr>\n",
       "<tr>\n",
       "<td>9/19</td>\n",
       "<td><a href=\"matrices.pdf\">Vector, matrices, and linear algebra</a> <a href=\"NumpyBasics.ipynb\">(notebook)</a></td>\n",
       "<td><a href=\"https://scs.hosted.panopto.com/Panopto/Pages/Viewer.aspx?id=70d8ac29-2865-4d71-a1f4-59127ec04c2c\">video</a></td>\n",
       "<td>Tutorial Out <a href=\"tutorial.pdf\">(instructions)</a></td>\n",
       "</tr>\n",
       "<tr>\n",
       "<td>9/21</td>\n",
       "<td><a href=\"graphs.pdf\">Graph and network processing</a>\n",
       "<a href=\"NetworkXBasics.ipynb\">(notebook)</a></td>\n",
       "<td><a href=\"https://scs.hosted.panopto.com/Panopto/Pages/Viewer.aspx?id=0071471a-c880-4390-aa0d-3709f3d37776\">video</a></td>\n",
       "<td></td>\n",
       "</tr>\n",
       "<tr>\n",
       "<td>9/26</td>\n",
       "<td><a href=\"free_text.pdf\">Free text and natural language processing</a></td>\n",
       "<td><a href=\"https://scs.hosted.panopto.com/Panopto/Pages/Viewer.aspx?id=a69cc2ff-1f38-4843-b64d-d9c68cfee9c9\">video</a></td>\n",
       "<td></td>\n",
       "</tr>\n",
       "<tr>\n",
       "<td>9/28</td>\n",
       "<td><a href=\"free_text.pdf\">Free text, continued</a></td>\n",
       "<td><a href=\"https://scs.hosted.panopto.com/Panopto/Pages/Viewer.aspx?id=69561aa9-7d9f-44f5-a5a7-14e4b78686ba\">video</a></td>\n",
       "<td>HW3 Out<a href=\"http://www.datasciencecourse.org/hw/3/handout.tar.gz\"> (notebooks)</a></td>\n",
       "</tr>\n",
       "<tr>\n",
       "<th colspan=\"4\">Statistical modeling and machine learning</th>\n",
       "</tr>\n",
       "<tr>\n",
       "<td>10/3</td>\n",
       "<td><a href=\"linear_regression.pdf\">Linear regression</a>\n",
       "<a href=\"linear_reg_code_data.tar.gz\">(notebook + data)</a></td>\n",
       "<td><a href=\"https://scs.hosted.panopto.com/Panopto/Pages/Viewer.aspx?id=97af9d3b-529b-41f4-aa54-db2b2eed14b5\">video</a></td>\n",
       "<td>HW2 Due</td>\n",
       "</tr>\n",
       "<tr>\n",
       "<td>10/5</td>\n",
       "<td><a href=\"linear_classification.pdf\">Linear classification</a></td>\n",
       "<td><a href=\"https://scs.hosted.panopto.com/Panopto/Pages/Viewer.aspx?id=83e43dbe-1922-4c4a-a3af-3bb24dd89c9f\">video</a></td>\n",
       "<td></td>\n",
       "</tr>\n",
       "<tr>\n",
       "<td>10/10</td>\n",
       "<td><a href=\"nonlinear_modeling.pdf\">Nonlinear modeling, cross-validation, regularization</a></td>\n",
       "<td><a href=\"https://scs.hosted.panopto.com/Panopto/Pages/Viewer.aspx?id=00cc9cfb-e77a-4242-bd74-6587965b63bc\">video</a></td>\n",
       "<td><a href=\"GIS%20Tutorial.ipynb\">Geospatial Analysis Tutorial</a><br/><a href=\"project.pdf\">Final Project Out</a></td>\n",
       "</tr>\n",
       "<tr>\n",
       "<td>10/12</td>\n",
       "<td><a href=\"nonlinear_modeling.pdf\">Model regularization and evaluation</a></td>\n",
       "<td><a href=\"https://scs.hosted.panopto.com/Panopto/Pages/Viewer.aspx?id=56707206-e441-421e-897b-3b900494a94c\">video</a></td>\n",
       "<td>HW3 Due, HW4 Out <a href=\"http://www.datasciencecourse.org/hw/4/handout.tar.gz\"> (notebooks)</a><a href=\"http://www.datasciencecourse.org/hw/4/data.tar.gz\"> (data)</a></td>\n",
       "</tr>\n",
       "<tr>\n",
       "<td>10/17</td>\n",
       "<td><a href=\"probability.pdf\">Basic probability and statistics: basics of probability</a></td>\n",
       "<td><a href=\"https://scs.hosted.panopto.com/Panopto/Pages/Viewer.aspx?id=9e45f2fa-d796-42bd-9383-44f88408859a\">video</a></td>\n",
       "<td><a href=\"tutorial.pdf\">Detailed tutorial instructions</a><br/>\n",
       "<a href=\"count_length.py\">Length checker script</a></td>\n",
       "</tr>\n",
       "<tr>\n",
       "<td>10/19</td>\n",
       "<td><a href=\"probability.pdf\">Maximum likelihood estimation, naive Bayes</a></td>\n",
       "<td><a href=\"https://scs.hosted.panopto.com/Panopto/Pages/Viewer.aspx?id=98349dc6-6435-4b7b-b2ea-be8a174464e6\">video</a></td>\n",
       "<td>Tutorial Check-in Due</td>\n",
       "</tr>\n",
       "<tr>\n",
       "<td>10/21</td>\n",
       "<td>Recitation (Numpy, Scipy.sparse, Scipy.stats)</td>\n",
       "<td><a href=\"https://scs.hosted.panopto.com/Panopto/Pages/Viewer.aspx?id=ad540a28-5ba6-45cc-bf69-9ff55880174f\">video</a></td>\n",
       "<td><a href=\"rec/rec4.ipynb\">(notebook)</a></td>\n",
       "</tr>\n",
       "<tr>\n",
       "<td>10/24</td>\n",
       "<td><a href=\"hypothesis_testing.pdf\">Hypothesis testing and experimental design</a></td>\n",
       "<td><a href=\"https://scs.hosted.panopto.com/Panopto/Pages/Viewer.aspx?id=2caa5e96-8180-4743-81eb-463caa311da3\">video</a></td>\n",
       "<td></td>\n",
       "</tr>\n",
       "<tr>\n",
       "<th colspan=\"4\">Advanced modeling techniques</th>\n",
       "</tr>\n",
       "<tr>\n",
       "<td>10/26</td>\n",
       "<td><a href=\"decision_trees_boosting.pdf\">Decision trees and boosting</a></td>\n",
       "<td><a href=\"https://scs.hosted.panopto.com/Panopto/Pages/Viewer.aspx?id=1ff026e7-0f0e-4e11-ba7f-6001d5b5d132\">video</a></td>\n",
       "<td>HW4 Due</td>\n",
       "</tr>\n",
       "<tr>\n",
       "<td>10/31</td>\n",
       "<td><a href=\"unsupervised.pdf\">Unsupervised learning: clustering and dimensionality reduction</a></td>\n",
       "<td><a href=\"https://scs.hosted.panopto.com/Panopto/Pages/Viewer.aspx?id=89defcbc-953a-4c30-81ac-c09ed9736a4f\">video</a></td>\n",
       "<td></td>\n",
       "</tr>\n",
       "<tr>\n",
       "<td>11/2</td>\n",
       "<td><a href=\"anomaly_detection.pdf\">Anomaly detection and mixture of Gaussians</a></td>\n",
       "<td><a href=\"https://scs.hosted.panopto.com/Panopto/Pages/Viewer.aspx?id=af33f634-e6a3-4e2f-8fde-8e4f3e05b9f1\">video</a></td>\n",
       "<td>Tutorial Due, HW5 Out<a href=\"http://www.datasciencecourse.org/hw/5/handout.tar.gz\"> (notebooks)</a></td>\n",
       "</tr>\n",
       "<tr>\n",
       "<td>10/21</td>\n",
       "<td>Recitation, HW5</td>\n",
       "<td><a href=\"https://scs.hosted.panopto.com/Panopto/Pages/Viewer.aspx?id=f8ce6ae6-5152-4a4c-b87d-ae16ee62fdae\">video</a></td>\n",
       "<td><a href=\"rec/rec5.ipynb\">(notebook)</a></td>\n",
       "</tr>\n",
       "<tr>\n",
       "<td>11/7</td>\n",
       "<td><a href=\"recommender_systems.pdf\">Recommender systems</a></td>\n",
       "<td><a href=\"https://scs.hosted.panopto.com/Panopto/Pages/Viewer.aspx?id=b2438f26-f300-4990-889c-96c7285276a1\">video</a></td>\n",
       "<td></td>\n",
       "</tr>\n",
       "<tr>\n",
       "<td>11/9</td>\n",
       "<td><a href=\"deep_learning.pdf\">Deep learning</a></td>\n",
       "<td><a href=\"https://scs.hosted.panopto.com/Panopto/Pages/Viewer.aspx?id=19cca3dd-8b63-4e30-9aab-fbbd9099f2b1\">video</a></td>\n",
       "<td>Student Tutorial Evaluation Due</td>\n",
       "</tr>\n",
       "<tr>\n",
       "<td>11/11</td>\n",
       "<td></td>\n",
       "<td></td>\n",
       "<td>Midterm Report</td>\n",
       "</tr>\n",
       "<tr>\n",
       "<td>11/14</td>\n",
       "<td><a href=\"InfoViz.pdf\">Guest lecture (Jen Mankoff, HCI): information visualization </a></td>\n",
       "<td><a href=\"https://scs.hosted.panopto.com/Panopto/Pages/Viewer.aspx?id=c5dcb54c-f8c5-4792-9db5-a5c274eae1f7\">video</a></td>\n",
       "<td></td>\n",
       "</tr>\n",
       "<tr>\n",
       "<th colspan=\"4\">Additional topics</th>\n",
       "</tr>\n",
       "<tr>\n",
       "<td>11/16</td>\n",
       "<td><a href=\"probabilistic_modeling.pdf\">Probabilistic modeling</a></td>\n",
       "<td><a href=\"https://scs.hosted.panopto.com/Panopto/Pages/Viewer.aspx?id=288e893c-62bb-4e79-aec3-2f1c5e92ec92\"> video</a></td>\n",
       "<td>HW5 Due, HW6 Out <a href=\"hw/6/handout.tar.gz\">(notebooks)</a> <a href=\"hw/6/\">(data)</a></td>\n",
       "</tr>\n",
       "<tr>\n",
       "<td>11/21</td>\n",
       "<td><a href=\"mapreduce.pdf\">Big data and MapReduce methods</a></td>\n",
       "<td><a href=\"https://scs.hosted.panopto.com/Panopto/Pages/Viewer.aspx?id=fdaef430-f88c-4ac0-89a1-9fe30c300519\">video</a></td>\n",
       "<td></td>\n",
       "</tr>\n",
       "<tr>\n",
       "<td>11/22</td>\n",
       "<td>HW 6 Recitation</td>\n",
       "<td><a href=\"https://scs.hosted.panopto.com/Panopto/Pages/Viewer.aspx?id=56b8ad3e-48fe-40a6-acb4-3d0512783728\">video</a></td>\n",
       "<td><a href=\"rec/rec6.ipynb\">(notebook)</a></td>\n",
       "</tr>\n",
       "<tr>\n",
       "<td>11/28</td>\n",
       "<td><a href=\"debugging.pdf\">Debugging data science</a> <a href=\"debugging_data_science.pdf\">(working notes)</a></td>\n",
       "<td><a href=\"https://scs.hosted.panopto.com/Panopto/Pages/Viewer.aspx?id=924f01c5-8a76-4248-8971-03d7e21b3219\">video</a></td>\n",
       "<td></td>\n",
       "</tr>\n",
       "<tr>\n",
       "<td>11/30</td>\n",
       "<td>A data science walkthrough <a href=\"Data Science Walkthrough.ipynb\">(notebook)</a></td>\n",
       "<td><a href=\"https://scs.hosted.panopto.com/Panopto/Pages/Viewer.aspx?id=7e0fad6a-520e-4bb7-9dc3-44498d3be26a\">video</a></td>\n",
       "<td></td>\n",
       "</tr>\n",
       "<tr>\n",
       "<td>12/5</td>\n",
       "<td><a href=\"data_science_positions.pdf\">Data scientist positions</a></td>\n",
       "<td><a href=\"https://scs.hosted.panopto.com/Panopto/Pages/Viewer.aspx?id=30711db7-9dde-4135-ad17-6652c3432ab2\">video</a></td>\n",
       "<td></td>\n",
       "</tr>\n",
       "<tr>\n",
       "<td>12/6</td>\n",
       "<td></td>\n",
       "<td></td>\n",
       "<td>HW6 Due</td>\n",
       "</tr>\n",
       "<tr>\n",
       "<td>12/7</td>\n",
       "<td><a href=\"future_of_data_science.pdf\">Future of data science</a></td>\n",
       "<td></td>\n",
       "<td></td>\n",
       "</tr>\n",
       "<tr>\n",
       "<td>12/9</td>\n",
       "<td></td>\n",
       "<td></td>\n",
       "<td>Final project report due</td>\n",
       "</tr>\n",
       "</tbody>\n",
       "</table>\n",
       "</div>\n",
       "</div>\n",
       "</div>\n",
       "</div>\n",
       "</section>\n",
       "<!-- Workbooks Section -->\n",
       "<section class=\"bg-light-gray\" id=\"assignments\">\n",
       "<div class=\"container\">\n",
       "<div class=\"row\">\n",
       "<div class=\"col-lg-10 col-lg-offset-1\">\n",
       "<h2 class=\"section-heading text-center\">Assignments</h2>\n",
       "<p class=\"large text-muted\"> The course will consist of three main types of assignments.  First, there will be biweekly homes that work through the  material presented in class, and require students to implement or evaluate relevant algorithms.  These workbooks will be distributed as Jupyter notebooks, and will be submitted for the course via Autolab.  In addition to these assignments, students will themselves develop a new tutorial workbook to teach an advanced topic, and will also work through the content developed by at least two other students.  Finally, students will complete a final class project (in groups), which will be a chance to apply these data science techniques to a problem of the group's choosing.\n",
       "                    </p>\n",
       "<p class=\"large text-muted\"> There is no midterm or final in the course.  All assignments will be posted to this page as they are available.\n",
       "                    </p>\n",
       "</div>\n",
       "</div>\n",
       "</div>\n",
       "</section>\n",
       "<!-- Instructors Grid Section -->\n",
       "<section id=\"instructors\">\n",
       "<div class=\"container\">\n",
       "<div class=\"row\">\n",
       "<div class=\"col-lg-12 text-center\">\n",
       "<h2 class=\"section-heading\">Instructors</h2>\n",
       "</div>\n",
       "</div>\n",
       "<div class=\"row row-eq-height\">\n",
       "<div class=\"col-sm-6\">\n",
       "<div class=\"team-member\">\n",
       "<img alt=\"\" class=\"img-responsive img-circle\" src=\"img/team/zkolter.png\"/>\n",
       "<h4><a href=\"http://www.zicokolter.com/\">Zico Kolter</a></h4>\n",
       "<p class=\"text-muted\">Assistant Professor</p>\n",
       "<p class=\"text-muted\">Office lunches: See Piazza</p>\n",
       "</div>\n",
       "</div>\n",
       "<div class=\"col-sm-6\">\n",
       "<div class=\"team-member\">\n",
       "<img alt=\"\" class=\"img-responsive img-circle\" src=\"img/team/ericwong.png\"/>\n",
       "<h4><a href=\"http://cs.cmu.edu/~ericwong/\">Eric\n",
       "                            Wong</a></h4>\n",
       "<p class=\"text-muted\">Teaching Assistant</p>\n",
       "<p class=\"text-muted\">Office hours: Tuesday and Thursday 3-4pm Gates 8th Floor Kitchen area</p>\n",
       "</div>\n",
       "</div>\n",
       "</div>\n",
       "<div class=\"row row-eq-height\">\n",
       "<div class=\"col-sm-6\">\n",
       "<div class=\"team-member\">\n",
       "<img alt=\"\" class=\"img-responsive img-circle\" src=\"img/team/dhivya.png\"/>\n",
       "<h4><a href=\"http://www.cs.cmu.edu/~deswaran/\">Dhivya Eswaran</a></h4>\n",
       "<p class=\"text-muted\">Teaching Assistant</p>\n",
       "<p class=\"text-muted\">Office hours: Monday 3:30pm-4:30pm, Fridays 9am-10am GHC 6008</p>\n",
       "</div>\n",
       "</div>\n",
       "</div>\n",
       "</div>\n",
       "</section>\n",
       "<!-- FAQ Section -->\n",
       "<section class=\"bg-light-gray\" id=\"faq\">\n",
       "<div class=\"container\">\n",
       "<div class=\"row\">\n",
       "<div class=\"col-lg-10 col-lg-offset-1\">\n",
       "<h2 class=\"section-heading text-center\">FAQ</h2>\n",
       "<p class=\"large text-muted\"><b>Q: What is the situation will all the different course numbers and sections (15-388, 15-688 A/B)?</b> <br/>\n",
       "                    A: The demand for this course has been very right: as of the start of classes there are more than 250 people registered or on the waitlist for the course.  We're thrilled about the level of interest, but unfortunately the only available classroom during this time fits at most 136 students. <br/>\n",
       "                    To accomodate as many as people as possible, we created a section DNM (Does Not Meet) section of the 600 level course, which is the B section of the 15-688 course.  This version is identical to the A section, except that <emph>students are expected to watch the lectures online</emph> (all lectures will be available online within a few hours after the end of class).  We expect that attendance will shake out significantly during the first few weeks of the course, and our strong suspicious is that after the first month, there will be space in the lecture hall for anyone (from any section), to attend lectures, but we ask that until we make this clear, students in the B section not regularly attend lecture.\n",
       "                    </p>\n",
       "<p class=\"large text-muted\"><b>Q: I really want to take the in-person 15-688 Section A.  Will I be able to get off the waitlist?</b> <br/>\n",
       "                    See above.  We want to accomodate absolutely as many people as possible, but are ultimately limited by the classroom size (and following university policy, the undergraduate lectures have priority for in-class attendence).  However, we really want to emphasize that the courses are <emph>exactly</emph> the same except for the in-class lecture and DNM section (same credit, same homeworks, same office hours, same access to TAs/professor, same tutorial and final project assigments, etc), and there is a good chance that Section B students will end up even being able to attend lectures by the middle of the semester.  So please consider enrolling in Section B if you are in this position. \n",
       "                    </p>\n",
       "<p class=\"large text-muted\"><b>Q: I'm on the waitlist for the 15-388 version.  Will I be able to get off the waitlist?</b> <br/>\n",
       "                    Yes, almost definitely.  There is a relatively small waitlist for the 300 version currently, and we absolutely expect all students who stick around a few weeks to get off the waitlist.\n",
       "                    </p>\n",
       "<p class=\"large text-muted\"><b>Q: How does the 5% class participation grade work for students in the DNM section?</b> <br/>\n",
       "                    Given the size of this course, for all students (including 15-388/15-688A students) the class participation grade will be based upon participating in the course forums on <a href=\"https://piazza.com/class/is8ghyly8um4ew\">Piazza</a>, not upon speaking up in class.\n",
       "                    </p>\n",
       "<p class=\"large text-muted\">\n",
       "<b>Q: Is there a pointer to materials from a previous year?</b>\n",
       "<br/>\n",
       "                    A: No, Fall 2016 is the first time this course is being offered, so we don't have past materials to look over.  Feel free to contact the instructors if you have questions about the content of the course which aren't answered here.\n",
       "                    </p>\n",
       "<p class=\"large text-muted\">\n",
       "<b>Q: Does this course count toward the MSCS AI requirement?</b>\n",
       "<br/>\n",
       "                    A: (Corrected version).  We still need to confirm whether this will be the case or not.  We'll update the website and soon as we know, and please email us if this situation affects you.\n",
       "                    </p>\n",
       "<p class=\"large text-muted\">\n",
       "<b>Q: Will the course be offered during the spring semester?</b>\n",
       "<br/>\n",
       "                    A: No, the soonest the course will be offered again is during Fall 2017.\n",
       "                    </p>\n",
       "<p class=\"large text-muted\">\n",
       "<b>Q: Will this course focus mainly on applying techniques from existing libraries to practical data science problems, or writing the underlying algorithms from scratch?</b>\n",
       "<br/>\n",
       "                    A: Both, to a certain extent.  There will be plenty of focus on applying algorithms (often best used through existing libraries) to practical problems, but these libraries can be used more effectively when you understand the underlying algorithms well enough to implement them yourself.  So, at least for the more straightforward algorithms that we cover, you will be implementing these yourselves.  The 688 level course assignment will do a bit more of this underlying implementation than the 388 level course. \n",
       "                    </p>\n",
       "<p class=\"large text-muted\">\n",
       "<b>Q: I have a question that wasn't asked here. </b>\n",
       "<br/>\n",
       "                    A: Come to office hours, or ask on the course <a href=\"https://piazza.com/class/is8ghyly8um4ew\">Piazza</a>. \n",
       "                    </p>\n",
       "</div>\n",
       "</div>\n",
       "</div>\n",
       "</section>\n",
       "<footer class=\"bg-light-gray\">\n",
       "<div class=\"container\">\n",
       "<div class=\"row\">\n",
       "<div class=\"col-lg-12\">\n",
       "<span class=\"copyright\">Copyright © Carnegie\n",
       "                        Mellon University 2016</span>\n",
       "</div>\n",
       "</div>\n",
       "</div>\n",
       "</footer>\n",
       "<!-- jQuery -->\n",
       "<script src=\"js/jquery.js\"></script>\n",
       "<!-- Bootstrap Core JavaScript -->\n",
       "<script src=\"js/bootstrap.min.js\"></script>\n",
       "<!-- Plugin JavaScript -->\n",
       "<script src=\"https://cdnjs.cloudflare.com/ajax/libs/jquery-easing/1.3/jquery.easing.min.js\"></script>\n",
       "<script src=\"js/classie.js\"></script>\n",
       "<script src=\"js/cbpAnimatedHeader.js\"></script>\n",
       "<!-- Contact Form JavaScript -->\n",
       "<script src=\"js/jqBootstrapValidation.js\"></script>\n",
       "<script src=\"js/contact_me.js\"></script>\n",
       "<!-- Custom Theme JavaScript -->\n",
       "<script src=\"js/agency.js\"></script>\n",
       "</body>\n",
       "</html>"
      ]
     },
     "execution_count": 28,
     "metadata": {},
     "output_type": "execute_result"
    }
   ],
   "source": [
    "soup"
   ]
  },
  {
   "cell_type": "code",
   "execution_count": 29,
   "metadata": {},
   "outputs": [
    {
     "data": {
      "text/plain": [
       "'<!DOCTYPE html>\\n<html lang=\"en\">\\n\\n<head>\\n\\n    <meta charset=\"utf-8\"/>\\n    <meta http-equiv=\"X-UA-Compatible\" content=\"IE=edge\"/>\\n    <meta name=\"viewport\" content=\"width=device-width, initial-scale=1\"/>\\n    <meta name=\"description\" content=\"\"/>\\n    <meta name=\"author\" content=\"\"/>\\n\\n    <title>15-388/688 Practical Data Science</title>\\n\\n    <!-- Bootstrap Core CSS -->\\n    <link href=\"css/bootstrap.min.css\" rel=\"stylesheet\"/>\\n\\n    <!-- Custom CSS -->\\n    <link href=\"css/agency.css\" rel=\"stylesheet\"/>\\n\\n    <!-- Eric\\'s CSS -->\\n    <link href=\"css/eric.css\" rel=\"stylesheet\"/>\\n\\n    <!-- Custom Fonts -->\\n    <link href=\"font-awesome/css/font-awesome.min.css\" rel=\"stylesheet\" type=\"text/css\"/>\\n    <link href=\"https://fonts.googleapis.com/css?family=Montserrat:400,700\" rel=\"stylesheet\" type=\"text/css\"/>\\n    <link href=\\'https://fonts.googleapis.com/css?family=Kaushan+Script\\' rel=\\'stylesheet\\' type=\\'text/css\\'/>\\n    <link href=\\'https://fonts.googleapis.com/css?family=Droid+Serif:400,700,400italic,700italic\\' rel=\\'stylesheet\\' type=\\'text/css\\'/>\\n    <link href=\\'https://fonts.googleapis.com/css?family=Roboto+Slab:400,100,300,700\\' rel=\\'stylesheet\\' type=\\'text/css\\'/>\\n\\n    <!-- HTML5 Shim and Respond.js IE8 support of HTML5 elements and media queries -->\\n    <!-- WARNING: Respond.js doesn\\'t work if you view the page via file:// -->\\n    <!--[if lt IE 9]>\\n        <script src=\"https://oss.maxcdn.com/libs/html5shiv/3.7.0/html5shiv.js\"></script>\\n        <script src=\"https://oss.maxcdn.com/libs/respond.js/1.4.2/respond.min.js\"></script>\\n    <![endif]-->\\n\\n</head>\\n\\n<body id=\"page-top\" class=\"index\">\\n\\n    <!-- Navigation -->\\n    <nav class=\"navbar navbar-default navbar-fixed-top\">\\n        <div class=\"container\">\\n            <!-- Brand and toggle get grouped for better mobile display -->\\n            <div class=\"navbar-header page-scroll\">\\n                <button type=\"button\" class=\"navbar-toggle\" data-toggle=\"collapse\" data-target=\"#bs-example-navbar-collapse-1\">\\n                    <span class=\"sr-only\">Toggle navigation</span>\\n                    <span class=\"icon-bar\"></span>\\n                    <span class=\"icon-bar\"></span>\\n                    <span class=\"icon-bar\"></span>\\n                </button>\\n                <a class=\"navbar-brand page-scroll\" href=\"#page-top\">15-388/688\\n                 Practical Data Science</a>\\n            </div>\\n\\n            <!-- Collect the nav links, forms, and other content for toggling -->\\n            <div class=\"collapse navbar-collapse\" id=\"bs-example-navbar-collapse-1\">\\n                <ul class=\"nav navbar-nav navbar-right\">\\n                    <li class=\"hidden\">\\n                        <a href=\"#page-top\"></a>\\n                    </li>\\n                    <li>\\n                        <a class=\"page-scroll\" href=\"#overview\">Overview</a>\\n                    </li>\\n                    \\n                    <li>\\n                        <a class=\"page-scroll\" href=\"#schedule\">Schedule</a>\\n                    </li>\\n\\n                    <li>\\n                        <a class=\"page-scroll\" href=\"#assignments\">Assignments</a>\\n                    </li>\\n\\n                    <li>\\n                        <a class=\"page-scroll\" href=\"#instructors\">Instructors</a>\\n                    </li>\\n\\n                    <li>\\n                        <a class=\"page-scroll\" href=\"#faq\">FAQ</a>\\n                    </li>\\n                </ul>\\n            </div>\\n            <!-- /.navbar-collapse -->\\n        </div>\\n        <!-- /.container-fluid -->\\n    </nav>\\n\\n    <!-- Header -->\\n    <header>\\n        <div class=\"container\">\\n            <div class=\"intro-text\">\\n                <div class=\"intro-lead-in\">CMU 15-388/688, Fall 2016</div>\\n                <div class=\"intro-heading\">Practical Data Science</div>\\n                <a href=\"#overview\" class=\"page-scroll btn btn-xl\">Course\\n                    Information</a>\\n            </div>\\n        </div>\\n    </header>\\n\\n    <!-- Overview Section -->\\n    <section id=\"overview\" class=\"bg-light-gray\">\\n        <div class=\"container\">\\n            <div class=\"row\">\\n                <div class=\"col-lg-10 col-lg-offset-1\">\\n                    <h2 class=\"section-heading text-center\">Course Overview</h2>\\n\\n                    <p class=\"large text-muted\">Data science is the study and practice of how we can extract insight and knowledge from large amounts of data.  It is a burgeoning field, currently attracting substantial demand from both academia and industry.</p>\\n                    <p class=\"large text-muted\">This course provides a practical introduction to the \"full stack\" of data science analysis, including data collection and processing, data visualization and presentation, statistical model building using machine learning, and big data techniques for scaling these methods.  Topics covered include: collecting and processing data using relational methods, time series approaches, graph and network models, free text analysis, and spatial geographic methods; analyzing the data using a variety of statistical and machine learning methods include linear and non-linear regression and classification, unsupervised learning and anomaly detection, plus advanced machine learning methods like kernel approaches, boosting, or deep learning; visualizing and presenting data, particularly focusing the case of high-dimensional data; and applying these methods to big data settings, where multiple machines and distributed computation are needed to fully leverage the data.</p>\\n                    <p class=\"large text-muted\"> As the course name suggests, this course will focus on the <em>practical</em> aspects of data science, with a focus on implementing and making use of the above techniques.  Students will complete weekly programming homework that emphasize practical understanding of the methods described in the course.  In addition, students will develop a tutorial on an advanced topic, and will complete a group project that applies these data science techniques to a practical application chosen by the team; these two longer assignments will be done in lieu of a midterm or final.</p>\\n\\n                </div>\\n            </div>\\n\\n\\n            <div class=\"row text-center\">\\n                <div class=\"col-md-4\">\\n                    <span class=\"fa-stack fa-5x\">\\n                        <i class=\"fa fa-circle fa-stack-2x text-primary\"></i>\\n                        <i class=\"fa fa-database fa-stack-1x fa-inverse\"></i>\\n                    </span>\\n                    <h4 class=\"service-heading\">Data collection and processing</h4>\\n                    <p class=\"text-muted large\">Ingest data from unstructured and structured sources, and use relational models, time series algorithms, graph and network processing, natural language processing, geographic information system processes to store and manage the data.</p>\\n                </div>\\n                <div class=\"col-md-4\">\\n                    <span class=\"fa-stack fa-5x\">\\n                        <i class=\"fa fa-circle fa-stack-2x text-primary\"></i>\\n                        <i class=\"fa fa-bar-chart fa-stack-1x fa-inverse\"></i>\\n                    </span>\\n                    <h4 class=\"service-heading\">Statistical modeling</h4>\\n                    <p class=\"text-muted large\">Apply basic statistical techniques and analyses to understand properties of the data and to design experimental setups for testing hypotheses or collecting new data. </p>\\n                </div>\\n                <div class=\"col-md-4\">\\n                    <span class=\"fa-stack fa-5x\">\\n                        <i class=\"fa fa-circle fa-stack-2x text-primary\"></i>\\n                        <i class=\"fa fa-gears fa-stack-1x fa-inverse\"></i>\\n                    </span>\\n                    <h4 class=\"service-heading\">Advanced ML techniques</h4>\\n                    <p class=\"text-muted large\">Apply advanced machine learning algorithms such as kernel methods, boosting, deep learning, anomaly detection, factorization models, and probabilistic modeling to analyze and extract insights from data. </p>\\n                </div>\\n            </div>\\n            <div class=\"row text-center\">\\n                <div class=\"col-md-4 col-md-offset-2\">\\n                    <span class=\"fa-stack fa-5x\">\\n                        <i class=\"fa fa-circle fa-stack-2x text-primary\"></i>\\n                        <i class=\"fa fa-eye fa-stack-1x fa-inverse\"></i>\\n                    </span>\\n                    <h4 class=\"service-heading\">Data visualization</h4>\\n                    <p class=\"text-muted large\">Visualize the data and results from analysis, particularly focusing on visualizing and understanding high-dimensional structured data and the results of statistical and machine learning analysis.</p>\\n                </div>\\n                <div class=\"col-md-4\">\\n                    <span class=\"fa-stack fa-5x\">\\n                        <i class=\"fa fa-circle fa-stack-2x text-primary\"></i>\\n                        <i class=\"fa fa-cloud fa-stack-1x fa-inverse\"></i>\\n                    </span>\\n                    <h4 class=\"service-heading\">Big data</h4>\\n                    <p class=\"text-muted large\">Scale the methods to big data regimes, where distributed storage and computation are needed to fully realize capabilities of data analysis techniques.</p>\\n                </div>\\n            </div>\\n\\n            <div class=\"col-lg-12\" style=\"height:50px;\"></div>\\n            <div class=\"row\">\\n                <div class=\"col-lg-10 col-lg-offset-1 well\">\\n                    <h3 class=\"service-heading\">Key information</h3>\\n\\n                    <p class=\"large\">\\n                    <strong>Course number:</strong> 15-388 (undergraduate) / 15-688 (masters) <br/> \\n                    Both courses will have the same lectures, but on each assignment there will be additional advanced problems for the 600 level course.\\n                    </p>\\n\\n                    <p class=\"large\">\\n                    <strong>Course location and time:</strong> Doherty Hall A302, MW 12:00-1:20</p>\\n\\n\\n\\n\\n                    <p class=\"large\">\\n                    <strong>Units:</strong> 9 (15-388), 12 (15-688)<br/>\\n                    </p>\\n\\n                    <p class=\"large\">\\n                    <strong>Prequisites:</strong> Programming experience is necessary for the course (assignments are in Python).  For CS undergraduates, either 15-112 or 15-122 is required; undergraduates from other departments who have programming background but have not taken the course require instructor approval to enroll.  Experience with linear algebra, probability, and statistic is recommended, but not strictly required (courses like 21-240/241/242 for linear algebra or 36-201 for probability/statistics are more than sufficient).  Students concerned about whether they have a proper background should contact the course instructors to discuss.</p>\\n\\n                    <p class=\"large\">\\n                    <strong>Grading:</strong> 55% homeworks, 15% tutorial, 25% final project, 5% class participation.</p>\\n\\n\\n                </div>\\n            </div>\\n        </div>\\n    </section>\\n\\n    <!-- Schedule Section -->\\n    <section id=\"schedule\">\\n        <div class=\"container\">\\n            <div class=\"row\">\\n                <div class=\"col-lg-10 col-lg-offset-1\">\\n                    <h2 class=\"section-heading text-center\">Schedule</h2>\\n                    <p class=\"large text-muted\">This schedule is tentative and subject to change, and precise dates will be added closer to the course start date.  All course material, including slides, lecture videos, and assignments, will be publicly available.</p>\\n                </div>\\n            </div>\\n            <div class=\"col-lg-12\" style=\"height:50px;\"></div>\\n\\n            <div class=\"row\">\\n                <div class=\"col-lg-10 col-lg-offset-1\">\\n                    <div class=\"table-responsive\" style=\"font-size:16px\">\\n                        <table class=\"table table-hover table-striped large\">\\n                            <thead>\\n                                <tr>\\n                                    <th>Date</th>\\n                                    <th>Topic</th>\\n                                    <th>Lecture</th>\\n                                    <th>Assignments</th>\\n                                </tr>\\n                            </thead>\\n                            <tbody>\\n                                <tr>\\n                                    <td>8/29</td>\\n                                    <td><a href=\"intro.pdf\">Introduction</a></td>\\n                                    <td><a href=\"https://scs.hosted.panopto.com/Panopto/Pages/Viewer.aspx?id=3f116819-0e26-4f79-bcee-f4cb7e745773\">video</a></td>\\n                                    <td></td>\\n                                </tr>\\n                                <tr>\\n                                    <th colspan=\"4\">Data collection and management</th>\\n                                </tr>\\n\\n                                <tr>\\n                                    <td>8/31</td>\\n                                    <td><a href=\"data_collection.pdf\">Data collection and scraping</a></td>\\n                                    <td><a href=\"https://scs.hosted.panopto.com/Panopto/Pages/Viewer.aspx?id=0d70cc6d-acbc-4895-a4da-8932dc323723\">video</a></td>\\n                                    <td>HW1 Out <a href=\"hw/1/hw1.pdf\">(pdf)</a> <a href=\"hw/1/handout.tar\">(notebooks)</a></td>\\n                                </tr>\\n                                <tr>\\n                                    <td>9/7</td>\\n                                    <td><a href=\"jupyter.pdf\">Jupyter notebook lab</a>\\n                                        <a href=\"jupyter.tar\">(notebook and data files)</a>\\n                                    </td>\\n                                    <td><a href=\"https://scs.hosted.panopto.com/Panopto/Pages/Viewer.aspx?id=08d57ec4-058f-476d-9962-356b3c39af37\">video</a></td>\\n                                    <td></td>\\n                                </tr>\\n\\n                                <tr>\\n                                    <td>9/12</td>\\n                                    <td><a href=\"relational_data.pdf\">Relational Data</a></td>\\n                                    <td><a href=\"https://scs.hosted.panopto.com/Panopto/Pages/Viewer.aspx?id=d3f716a3-a874-415d-8b6b-5c0af4efd4c6\">video</a></td>\\n                                    <td></td>\\n                                </tr>\\n                                \\n                                <tr>\\n                                    <td>9/14</td>\\n                                    <td><a href=\"visualization.pdf\">Visualization and data exploration</a> <a href=\"Visualization.ipynb\">(notebook)</a></td>\\n                                    <td><a href=\"https://scs.hosted.panopto.com/Panopto/Pages/Viewer.aspx?id=c0e02818-c252-49a9-83b9-b5c52f01b12f\">video</a></td>\\n                                    <td>HW1 Due, HW 2 Out <a href=\"http://www.datasciencecourse.org/hw/2/handout.tar\">(notebooks)</a></td>\\n                                </tr>\\n\\n                                <tr>\\n                                    <td>9/19</td>\\n                                    <td><a href=\"matrices.pdf\">Vector, matrices, and linear algebra</a> <a href=\"NumpyBasics.ipynb\">(notebook)</a></td>\\n                                    <td><a href=\"https://scs.hosted.panopto.com/Panopto/Pages/Viewer.aspx?id=70d8ac29-2865-4d71-a1f4-59127ec04c2c\">video</a></td>\\n                                    <td>Tutorial Out <a href=\"tutorial.pdf\">(instructions)</a></td>\\n                                </tr>\\n                                <tr>\\n                                    <td>9/21</td>\\n                                    <td><a href=\"graphs.pdf\">Graph and network processing</a>\\n                                    <a href=\"NetworkXBasics.ipynb\">(notebook)</a></td>\\n                                    <td><a href=\"https://scs.hosted.panopto.com/Panopto/Pages/Viewer.aspx?id=0071471a-c880-4390-aa0d-3709f3d37776\">video</a></td>\\n                                    <td></td>\\n                                </tr>\\n\\n                                <tr>\\n                                    <td>9/26</td>\\n                                    <td><a href=\"free_text.pdf\">Free text and natural language processing</a></td>\\n                                    <td><a href=\"https://scs.hosted.panopto.com/Panopto/Pages/Viewer.aspx?id=a69cc2ff-1f38-4843-b64d-d9c68cfee9c9\">video</a></td>\\n                                    <td></td>\\n                                </tr>\\n                                <tr>\\n                                    <td>9/28</td>\\n                                    <td><a href=\"free_text.pdf\">Free text, continued</a></td>\\n                                    <td><a href=\"https://scs.hosted.panopto.com/Panopto/Pages/Viewer.aspx?id=69561aa9-7d9f-44f5-a5a7-14e4b78686ba\">video</a></td>\\n                                    <td>HW3 Out<a href=\"http://www.datasciencecourse.org/hw/3/handout.tar.gz\"> (notebooks)</a></td>\\n                                </tr>\\n                                <tr>\\n                                    <th colspan=\"4\">Statistical modeling and machine learning</th>\\n                                </tr>\\n\\n\\n                                <tr>\\n                                    <td>10/3</td>\\n                                    <td><a href=\"linear_regression.pdf\">Linear regression</a>\\n                                    <a href=\"linear_reg_code_data.tar.gz\">(notebook + data)</a></td>\\n                                    <td><a href=\"https://scs.hosted.panopto.com/Panopto/Pages/Viewer.aspx?id=97af9d3b-529b-41f4-aa54-db2b2eed14b5\">video</a></td>\\n                                    <td>HW2 Due</td>\\n                                </tr>\\n                                <tr>\\n                                    <td>10/5</td>\\n                                    <td><a href=\"linear_classification.pdf\">Linear classification</a></td>\\n                                    <td><a href=\"https://scs.hosted.panopto.com/Panopto/Pages/Viewer.aspx?id=83e43dbe-1922-4c4a-a3af-3bb24dd89c9f\">video</a></td>\\n                                    <td></td>\\n                                </tr>\\n                                <tr>\\n                                    <td>10/10</td>\\n                                    <td><a href=\"nonlinear_modeling.pdf\">Nonlinear modeling, cross-validation, regularization</a></td>\\n                                    <td><a href=\"https://scs.hosted.panopto.com/Panopto/Pages/Viewer.aspx?id=00cc9cfb-e77a-4242-bd74-6587965b63bc\">video</a></td>\\n                                    <td><a href=\"GIS%20Tutorial.ipynb\">Geospatial Analysis Tutorial</a><br/><a href=\"project.pdf\">Final Project Out</a></td>\\n                                </tr>\\n                                <tr>\\n                                    <td>10/12</td>\\n                                    <td><a href=\"nonlinear_modeling.pdf\">Model regularization and evaluation</a></td>\\n                                    <td><a href=\"https://scs.hosted.panopto.com/Panopto/Pages/Viewer.aspx?id=56707206-e441-421e-897b-3b900494a94c\">video</a></td>\\n                                    <td>HW3 Due, HW4 Out <a href=\"http://www.datasciencecourse.org/hw/4/handout.tar.gz\"> (notebooks)</a><a href=\"http://www.datasciencecourse.org/hw/4/data.tar.gz\"> (data)</a></td>\\n                                </tr>\\n                                <tr>\\n                                    <td>10/17</td>\\n                                    <td><a href=\"probability.pdf\">Basic probability and statistics: basics of probability</a></td>\\n                                    <td><a href=\"https://scs.hosted.panopto.com/Panopto/Pages/Viewer.aspx?id=9e45f2fa-d796-42bd-9383-44f88408859a\">video</a></td>\\n                                    <td><a href=\"tutorial.pdf\">Detailed tutorial instructions</a><br/>\\n                                    <a href=\"count_length.py\">Length checker script</a></td>\\n                                </tr>\\n                                <tr>\\n                                    <td>10/19</td>\\n                                    <td><a href=\"probability.pdf\">Maximum likelihood estimation, naive Bayes</a></td>\\n                                    <td><a href=\"https://scs.hosted.panopto.com/Panopto/Pages/Viewer.aspx?id=98349dc6-6435-4b7b-b2ea-be8a174464e6\">video</a></td>\\n                                    <td>Tutorial Check-in Due</td>\\n                                </tr>\\n                                <tr>\\n                                    <td>10/21</td>\\n                                    <td>Recitation (Numpy, Scipy.sparse, Scipy.stats)</td>\\n                                    <td><a href=\"https://scs.hosted.panopto.com/Panopto/Pages/Viewer.aspx?id=ad540a28-5ba6-45cc-bf69-9ff55880174f\">video</a></td>\\n                                    <td><a href=\"rec/rec4.ipynb\">(notebook)</a></td>\\n                                </tr>\\n                                <tr>\\n                                    <td>10/24</td>\\n                                    <td><a href=\"hypothesis_testing.pdf\">Hypothesis testing and experimental design</a></td>\\n                                    <td><a href=\"https://scs.hosted.panopto.com/Panopto/Pages/Viewer.aspx?id=2caa5e96-8180-4743-81eb-463caa311da3\">video</a></td>\\n                                    <td></td>\\n                                </tr>\\n\\n                                <tr>\\n                                    <th colspan=\"4\">Advanced modeling techniques</th>\\n                                </tr>\\n                                <tr>\\n                                    <td>10/26</td>\\n                                    <td><a href=\"decision_trees_boosting.pdf\">Decision trees and boosting</a></td>\\n                                    <td><a href=\"https://scs.hosted.panopto.com/Panopto/Pages/Viewer.aspx?id=1ff026e7-0f0e-4e11-ba7f-6001d5b5d132\">video</a></td>\\n                                    <td>HW4 Due</td>\\n                                </tr>\\n                                <tr>\\n                                    <td>10/31</td>\\n                                    <td><a href=\"unsupervised.pdf\">Unsupervised learning: clustering and dimensionality reduction</a></td>\\n                                    <td><a href=\"https://scs.hosted.panopto.com/Panopto/Pages/Viewer.aspx?id=89defcbc-953a-4c30-81ac-c09ed9736a4f\">video</a></td>\\n                                    <td></td>\\n                                </tr>\\n                                <tr>\\n                                    <td>11/2</td>\\n                                    <td><a href=\"anomaly_detection.pdf\">Anomaly detection and mixture of Gaussians</a></td>\\n                                    <td><a href=\"https://scs.hosted.panopto.com/Panopto/Pages/Viewer.aspx?id=af33f634-e6a3-4e2f-8fde-8e4f3e05b9f1\">video</a></td>\\n                                    <td>Tutorial Due, HW5 Out<a href=\"http://www.datasciencecourse.org/hw/5/handout.tar.gz\"> (notebooks)</a></td>\\n                                </tr>\\n                                <tr>\\n                                    <td>10/21</td>\\n                                    <td>Recitation, HW5</td>\\n                                    <td><a href=\"https://scs.hosted.panopto.com/Panopto/Pages/Viewer.aspx?id=f8ce6ae6-5152-4a4c-b87d-ae16ee62fdae\">video</a></td>\\n                                    <td><a href=\"rec/rec5.ipynb\">(notebook)</a></td>\\n                                </tr>\\n\\n                                <tr>\\n                                    <td>11/7</td>\\n                                    <td><a href=\"recommender_systems.pdf\">Recommender systems</a></td>\\n                                    <td><a href=\"https://scs.hosted.panopto.com/Panopto/Pages/Viewer.aspx?id=b2438f26-f300-4990-889c-96c7285276a1\">video</a></td>\\n                                    <td></td>\\n                                </tr>\\n                                <tr>\\n                                    <td>11/9</td>\\n                                    <td><a href=\"deep_learning.pdf\">Deep learning</a></td>\\n                                    <td><a href=\"https://scs.hosted.panopto.com/Panopto/Pages/Viewer.aspx?id=19cca3dd-8b63-4e30-9aab-fbbd9099f2b1\">video</a></td>\\n                                    <td>Student Tutorial Evaluation Due</td>\\n                                </tr>\\n                                <tr>\\n                                    <td>11/11</td>\\n                                    <td></td>\\n                                    <td></td>\\n                                    <td>Midterm Report</td>\\n                                </tr>\\n                                <tr>\\n                                    <td>11/14</td>\\n                                    <td><a href=\"InfoViz.pdf\">Guest lecture (Jen Mankoff, HCI): information visualization </a></td>\\n                                    <td><a href=\"https://scs.hosted.panopto.com/Panopto/Pages/Viewer.aspx?id=c5dcb54c-f8c5-4792-9db5-a5c274eae1f7\">video</a></td>\\n                                    <td></td>\\n                                </tr>\\n\\n                                <tr>\\n                                    <th colspan=\"4\">Additional topics</th>\\n                                </tr>\\n                                <tr>\\n                                    <td>11/16</td>\\n                                    <td><a href=\"probabilistic_modeling.pdf\">Probabilistic modeling</a></td>\\n                                    <td><a href=\"https://scs.hosted.panopto.com/Panopto/Pages/Viewer.aspx?id=288e893c-62bb-4e79-aec3-2f1c5e92ec92\"> video</a></td>\\n                                    <td>HW5 Due, HW6 Out <a href=\"hw/6/handout.tar.gz\">(notebooks)</a> <a href=\"hw/6/\">(data)</a></td>\\n                                </tr>\\n                                <tr>\\n                                    <td>11/21</td>\\n                                    <td><a href=\"mapreduce.pdf\">Big data and MapReduce methods</a></td>\\n                                    <td><a href=\"https://scs.hosted.panopto.com/Panopto/Pages/Viewer.aspx?id=fdaef430-f88c-4ac0-89a1-9fe30c300519\">video</a></td>\\n                                    <td></td>\\n                                </tr>\\n                                <tr>\\n                                    <td>11/22</td>\\n                                    <td>HW 6 Recitation</td>\\n                                    <td><a href=\"https://scs.hosted.panopto.com/Panopto/Pages/Viewer.aspx?id=56b8ad3e-48fe-40a6-acb4-3d0512783728\">video</a></td>\\n                                    <td><a href=\"rec/rec6.ipynb\">(notebook)</a></td>\\n                                </tr>\\n\\n\\n                                <tr>\\n                                    <td>11/28</td>\\n                                    <td><a href=\"debugging.pdf\">Debugging data science</a> <a href=\"debugging_data_science.pdf\">(working notes)</a></td>\\n                                    <td><a href=\"https://scs.hosted.panopto.com/Panopto/Pages/Viewer.aspx?id=924f01c5-8a76-4248-8971-03d7e21b3219\">video</a></td>\\n                                    <td></td>\\n                                </tr>\\n\\n                                <tr>\\n                                    <td>11/30</td>\\n                                    <td>A data science walkthrough <a href=\"Data Science Walkthrough.ipynb\">(notebook)</a></td>\\n                                    <td><a href=\"https://scs.hosted.panopto.com/Panopto/Pages/Viewer.aspx?id=7e0fad6a-520e-4bb7-9dc3-44498d3be26a\">video</a></td>\\n                                    <td></td>\\n                                </tr>\\n                                \\n\\n                                <tr>\\n                                    <td>12/5</td>\\n                                    <td><a href=\"data_science_positions.pdf\">Data scientist positions</a></td>\\n                                    <td><a href=\"https://scs.hosted.panopto.com/Panopto/Pages/Viewer.aspx?id=30711db7-9dde-4135-ad17-6652c3432ab2\">video</a></td>\\n                                    <td></td>\\n                                </tr>\\n                                <tr>\\n                                    <td>12/6</td>\\n                                    <td></td>\\n                                    <td></td>\\n                                    <td>HW6 Due</td>\\n                                </tr>\\n                                <tr>\\n                                    <td>12/7</td>\\n                                    <td><a href=\"future_of_data_science.pdf\">Future of data science</a></td>\\n                                    <td></td>\\n                                    <td></td>\\n                                </tr>\\n                                <tr>\\n                                    <td>12/9</td>\\n                                    <td></td>\\n                                    <td></td>\\n                                    <td>Final project report due</td>\\n                                </tr>\\n                            </tbody>\\n                        </table>\\n                    </div>\\n                </div>\\n            </div>\\n        </div>\\n    </section>\\n\\n\\n    \\n\\n    <!-- Workbooks Section -->\\n    <section id=\"assignments\" class=\"bg-light-gray\">\\n        <div class=\"container\">\\n            <div class=\"row\">\\n                <div class=\"col-lg-10 col-lg-offset-1\">\\n                    <h2 class=\"section-heading text-center\">Assignments</h2>\\n                    <p class=\"large text-muted\"> The course will consist of three main types of assignments.  First, there will be biweekly homes that work through the  material presented in class, and require students to implement or evaluate relevant algorithms.  These workbooks will be distributed as Jupyter notebooks, and will be submitted for the course via Autolab.  In addition to these assignments, students will themselves develop a new tutorial workbook to teach an advanced topic, and will also work through the content developed by at least two other students.  Finally, students will complete a final class project (in groups), which will be a chance to apply these data science techniques to a problem of the group\\'s choosing.\\n                    </p>\\n\\n                    <p class=\"large text-muted\"> There is no midterm or final in the course.  All assignments will be posted to this page as they are available.\\n                    </p>\\n                </div>\\n            </div>\\n        </div>\\n    </section>\\n\\n    <!-- Instructors Grid Section -->\\n    <section id=\"instructors\">\\n        <div class=\"container\">\\n            <div class=\"row\">\\n                <div class=\"col-lg-12 text-center\">\\n                    <h2 class=\"section-heading\">Instructors</h2>\\n                </div>\\n            </div>\\n            <div class=\"row row-eq-height\">\\n                <div class=\"col-sm-6\">\\n                    <div class=\"team-member\">\\n                        <img src=\"img/team/zkolter.png\" class=\"img-responsive img-circle\" alt=\"\"/>\\n                        <h4><a href=\"http://www.zicokolter.com/\">Zico Kolter</a></h4>\\n                        <p class=\"text-muted\">Assistant Professor</p>\\n                        <p class=\"text-muted\">Office lunches: See Piazza</p>\\n                    </div>\\n                </div>\\n                <div class=\"col-sm-6\">\\n                    <div class=\"team-member\">\\n                        <img src=\"img/team/ericwong.png\" class=\"img-responsive img-circle\" alt=\"\"/>\\n                        <h4><a href=\"http://cs.cmu.edu/~ericwong/\">Eric\\n                            Wong</a></h4>\\n                        <p class=\"text-muted\">Teaching Assistant</p>\\n                        <p class=\"text-muted\">Office hours: Tuesday and Thursday 3-4pm Gates 8th Floor Kitchen area</p>\\n                    </div>\\n                </div>\\n            </div>\\n            <div class=\"row row-eq-height\">\\n                <div class=\"col-sm-6\">\\n                    <div class=\"team-member\">\\n                        <img src=\"img/team/dhivya.png\" class=\"img-responsive img-circle\" alt=\"\"/>\\n                        <h4><a href=\"http://www.cs.cmu.edu/~deswaran/\">Dhivya Eswaran</a></h4>\\n                        <p class=\"text-muted\">Teaching Assistant</p>\\n                        <p class=\"text-muted\">Office hours: Monday 3:30pm-4:30pm, Fridays 9am-10am GHC 6008</p>\\n                    </div>\\n                </div>\\n            </div>\\n        </div>\\n    </section>\\n    \\n    <!-- FAQ Section -->\\n    <section id=\"faq\" class=\"bg-light-gray\">\\n        <div class=\"container\">\\n            <div class=\"row\">\\n                <div class=\"col-lg-10 col-lg-offset-1\">\\n                    <h2 class=\"section-heading text-center\">FAQ</h2>\\n                    <p class=\"large text-muted\"><b>Q: What is the situation will all the different course numbers and sections (15-388, 15-688 A/B)?</b>  <br/>\\n                    A: The demand for this course has been very right: as of the start of classes there are more than 250 people registered or on the waitlist for the course.  We\\'re thrilled about the level of interest, but unfortunately the only available classroom during this time fits at most 136 students. <br/>\\n                    To accomodate as many as people as possible, we created a section DNM (Does Not Meet) section of the 600 level course, which is the B section of the 15-688 course.  This version is identical to the A section, except that <emph>students are expected to watch the lectures online</emph> (all lectures will be available online within a few hours after the end of class).  We expect that attendance will shake out significantly during the first few weeks of the course, and our strong suspicious is that after the first month, there will be space in the lecture hall for anyone (from any section), to attend lectures, but we ask that until we make this clear, students in the B section not regularly attend lecture.\\n                    </p>\\n\\n                    <p class=\"large text-muted\"><b>Q: I really want to take the in-person 15-688 Section A.  Will I be able to get off the waitlist?</b>  <br/>\\n                    See above.  We want to accomodate absolutely as many people as possible, but are ultimately limited by the classroom size (and following university policy, the undergraduate lectures have priority for in-class attendence).  However, we really want to emphasize that the courses are <emph>exactly</emph> the same except for the in-class lecture and DNM section (same credit, same homeworks, same office hours, same access to TAs/professor, same tutorial and final project assigments, etc), and there is a good chance that Section B students will end up even being able to attend lectures by the middle of the semester.  So please consider enrolling in Section B if you are in this position. \\n                    </p>\\n\\n\\n                    <p class=\"large text-muted\"><b>Q: I\\'m on the waitlist for the 15-388 version.  Will I be able to get off the waitlist?</b>  <br/>\\n                    Yes, almost definitely.  There is a relatively small waitlist for the 300 version currently, and we absolutely expect all students who stick around a few weeks to get off the waitlist.\\n                    </p>\\n\\n                    <p class=\"large text-muted\"><b>Q: How does the 5% class participation grade work for students in the DNM section?</b>  <br/>\\n                    Given the size of this course, for all students (including 15-388/15-688A students) the class participation grade will be based upon participating in the course forums on <a href=\"https://piazza.com/class/is8ghyly8um4ew\">Piazza</a>, not upon speaking up in class.\\n                    </p>\\n\\n\\n                    <p class=\"large text-muted\"> \\n                    <b>Q: Is there a pointer to materials from a previous year?</b>\\n                    <br/>\\n                    A: No, Fall 2016 is the first time this course is being offered, so we don\\'t have past materials to look over.  Feel free to contact the instructors if you have questions about the content of the course which aren\\'t answered here.\\n                    </p>\\n\\n                    <p class=\"large text-muted\"> \\n                    <b>Q: Does this course count toward the MSCS AI requirement?</b>\\n                    <br/>\\n                    A: (Corrected version).  We still need to confirm whether this will be the case or not.  We\\'ll update the website and soon as we know, and please email us if this situation affects you.\\n                    </p>\\n                    \\n\\n                    <p class=\"large text-muted\"> \\n                    <b>Q: Will the course be offered during the spring semester?</b>\\n                    <br/>\\n                    A: No, the soonest the course will be offered again is during Fall 2017.\\n                    </p>\\n                    \\n\\n                    <p class=\"large text-muted\"> \\n                    <b>Q: Will this course focus mainly on applying techniques from existing libraries to practical data science problems, or writing the underlying algorithms from scratch?</b>\\n                    <br/>\\n                    A: Both, to a certain extent.  There will be plenty of focus on applying algorithms (often best used through existing libraries) to practical problems, but these libraries can be used more effectively when you understand the underlying algorithms well enough to implement them yourself.  So, at least for the more straightforward algorithms that we cover, you will be implementing these yourselves.  The 688 level course assignment will do a bit more of this underlying implementation than the 388 level course. \\n                    </p>\\n\\n                    <p class=\"large text-muted\"> \\n                    <b>Q: I have a question that wasn\\'t asked here. </b>\\n                    <br/>\\n                    A: Come to office hours, or ask on the course <a href=\"https://piazza.com/class/is8ghyly8um4ew\">Piazza</a>. \\n                    </p>\\n                </div>\\n            </div>\\n        </div>\\n    </section>\\n\\n\\n\\n    <footer class=\"bg-light-gray\">\\n        <div class=\"container\">\\n            <div class=\"row\">\\n                <div class=\"col-lg-12\">\\n                    <span class=\"copyright\">Copyright &copy; Carnegie\\n                        Mellon University 2016</span>\\n                </div>\\n            </div>\\n        </div>\\n    </footer>\\n\\n\\n    <!-- jQuery -->\\n    <script src=\"js/jquery.js\"></script>\\n\\n    <!-- Bootstrap Core JavaScript -->\\n    <script src=\"js/bootstrap.min.js\"></script>\\n\\n    <!-- Plugin JavaScript -->\\n    <script src=\"https://cdnjs.cloudflare.com/ajax/libs/jquery-easing/1.3/jquery.easing.min.js\"></script>\\n    <script src=\"js/classie.js\"></script>\\n    <script src=\"js/cbpAnimatedHeader.js\"></script>\\n\\n    <!-- Contact Form JavaScript -->\\n    <script src=\"js/jqBootstrapValidation.js\"></script>\\n    <script src=\"js/contact_me.js\"></script>\\n\\n    <!-- Custom Theme JavaScript -->\\n    <script src=\"js/agency.js\"></script>\\n\\n</body>\\n\\n</html>\\n'"
      ]
     },
     "execution_count": 29,
     "metadata": {},
     "output_type": "execute_result"
    }
   ],
   "source": [
    "course_webpage"
   ]
  },
  {
   "cell_type": "code",
   "execution_count": 572,
   "metadata": {
    "collapsed": true
   },
   "outputs": [],
   "source": [
    "test_snippet = \"\"\"<?xml version=\"1.0\" encoding=\"UTF-8\"?>\n",
    "<!DOCTYPE xml> <!-- not actually valid xml-->\n",
    "<!-- This is a comment -->\n",
    "<note date=\"8/31/12\">\n",
    "    <to>Tove</to>\n",
    "    <from>Jani</from>\n",
    "    <heading type=\"Reminder\"/>\n",
    "    <body>Don't forget me this weekend!</body>\n",
    "    <!-- This is a multiline comment,\n",
    "         which take a bit of care to parse -->\n",
    "</note>\n",
    "<!-- abc -->\n",
    "\"\"\""
   ]
  },
  {
   "cell_type": "code",
   "execution_count": 42,
   "metadata": {},
   "outputs": [
    {
     "name": "stdout",
     "output_type": "stream",
     "text": [
      "None\n"
     ]
    }
   ],
   "source": [
    "print(re.match(\"</[\\w]*\", test_snippet))"
   ]
  },
  {
   "cell_type": "code",
   "execution_count": 119,
   "metadata": {},
   "outputs": [],
   "source": [
    "a= re.compile(r\"[\\n]*<\")"
   ]
  },
  {
   "cell_type": "code",
   "execution_count": 85,
   "metadata": {},
   "outputs": [
    {
     "data": {
      "text/plain": [
       "'<b'"
      ]
     },
     "execution_count": 85,
     "metadata": {},
     "output_type": "execute_result"
    }
   ],
   "source": [
    " re.findall(\"<\\w\",test_snippet)"
   ]
  },
  {
   "cell_type": "code",
   "execution_count": 69,
   "metadata": {},
   "outputs": [
    {
     "ename": "TypeError",
     "evalue": "match() got an unexpected keyword argument 'end'",
     "output_type": "error",
     "traceback": [
      "\u001b[0;31m---------------------------------------------------------------------------\u001b[0m",
      "\u001b[0;31mTypeError\u001b[0m                                 Traceback (most recent call last)",
      "\u001b[0;32m<ipython-input-69-cfebda9ca0d4>\u001b[0m in \u001b[0;36m<module>\u001b[0;34m()\u001b[0m\n\u001b[0;32m----> 1\u001b[0;31m \u001b[0mprint\u001b[0m\u001b[0;34m(\u001b[0m\u001b[0mre\u001b[0m\u001b[0;34m.\u001b[0m\u001b[0mmatch\u001b[0m\u001b[0;34m(\u001b[0m\u001b[0;34mr\"ab(c|d)ef\"\u001b[0m\u001b[0;34m,\u001b[0m \u001b[0;34m\"abdef\"\u001b[0m\u001b[0;34m,\u001b[0m\u001b[0mend\u001b[0m\u001b[0;34m=\u001b[0m\u001b[0;34m\"plo\"\u001b[0m\u001b[0;34m)\u001b[0m\u001b[0;34m)\u001b[0m\u001b[0;34m\u001b[0m\u001b[0m\n\u001b[0m",
      "\u001b[0;31mTypeError\u001b[0m: match() got an unexpected keyword argument 'end'"
     ]
    }
   ],
   "source": [
    "print(re.match(r\"ab(c|d)ef\", \"abdef\"))"
   ]
  },
  {
   "cell_type": "code",
   "execution_count": 99,
   "metadata": {},
   "outputs": [
    {
     "name": "stdout",
     "output_type": "stream",
     "text": [
      "112 117 <note\n",
      "138 141 <to\n",
      "156 161 <from\n",
      "178 186 <heading\n",
      "209 214 <body\n"
     ]
    }
   ],
   "source": [
    "for match in re.finditer(r\"<[\\w]+\", test_snippet):\n",
    "    print(match.start(), match.end(),match.group())"
   ]
  },
  {
   "cell_type": "code",
   "execution_count": 120,
   "metadata": {},
   "outputs": [],
   "source": [
    "a.match(test_snippet,2)"
   ]
  },
  {
   "cell_type": "code",
   "execution_count": 104,
   "metadata": {},
   "outputs": [
    {
     "data": {
      "text/plain": [
       "<_sre.SRE_Match object; span=(0, 5), match='tempo'>"
      ]
     },
     "execution_count": 104,
     "metadata": {},
     "output_type": "execute_result"
    }
   ],
   "source": [
    "p = re.compile('[a-z]+')\n",
    "p\n",
    "p.match('tempo')"
   ]
  },
  {
   "cell_type": "code",
   "execution_count": 115,
   "metadata": {},
   "outputs": [
    {
     "data": {
      "text/plain": [
       "re.compile(r'<[\\s]*', re.UNICODE)"
      ]
     },
     "execution_count": 115,
     "metadata": {},
     "output_type": "execute_result"
    }
   ],
   "source": [
    "a"
   ]
  },
  {
   "cell_type": "code",
   "execution_count": 350,
   "metadata": {
    "scrolled": true
   },
   "outputs": [
    {
     "name": "stdout",
     "output_type": "stream",
     "text": [
      "<?xml version=\"1.0\" encoding=\"UTF-8\"?>\n",
      "<!DOCTYPE xml> <!-- not actually valid xml-->\n",
      "<!-- This is a comment -->\n",
      "<note date=\"8/31/12\">\n",
      "    <to>Tove</to>\n",
      "    <from>Jani</from>\n",
      "    <heading type=\"Reminder\"/>\n",
      "    <body>Don't forget me this weekend!</body>\n",
      "    <!-- This is a multiline comment,\n",
      "         which take a bit of care to parse -->\n",
      "</note>\n",
      "\n"
     ]
    }
   ],
   "source": [
    "print(test_snippet)"
   ]
  },
  {
   "cell_type": "code",
   "execution_count": 864,
   "metadata": {
    "collapsed": true
   },
   "outputs": [],
   "source": [
    "#### Q1: FILL IN THIS CELL\n",
    "import re\n",
    "tag_open = re.compile(\"<([\\w]+)[ ]*([^>]*)\")\n",
    "tag_close = re.compile(\"</([\\w]*)[>]()\")\n",
    "tag_open_close = re.compile(\"<([\\w]+)[ ]*([^>]*)/>\")\n",
    "\n",
    "comment = re.compile(\"<![-]*([^>]+)-->\")\n",
    "xml_prolog = re.compile(\"<\\?([\\w\\W]*)\\?>\")\n",
    "html_declaration = re.compile(\"<!([\\w\\s[\\]]+[-]*)>\")\n",
    "trial = re.compile(\"<[\\W\\w]*>\")"
   ]
  },
  {
   "cell_type": "code",
   "execution_count": 865,
   "metadata": {},
   "outputs": [
    {
     "data": {
      "text/plain": [
       "358"
      ]
     },
     "execution_count": 865,
     "metadata": {},
     "output_type": "execute_result"
    }
   ],
   "source": [
    "len(test)"
   ]
  },
  {
   "cell_type": "code",
   "execution_count": 929,
   "metadata": {},
   "outputs": [
    {
     "data": {
      "text/plain": [
       "'>\\n<!-- This is a comment -->\\n<note date=\"8/31/12\">\\n    <to>Tove</to>\\n    <from>Jani</from>\\n    <heading type=\"Reminder\"/>\\n    <body>Don\\'t forget me this weekend!</body>\\n    <!-- This is a multiline comment,\\n         which take a bit of care to parse -->\\n</note>\\n<!-- abc -->\\n'"
      ]
     },
     "execution_count": 929,
     "metadata": {},
     "output_type": "execute_result"
    }
   ],
   "source": [
    "test_snippet[45:]"
   ]
  },
  {
   "cell_type": "code",
   "execution_count": 926,
   "metadata": {},
   "outputs": [],
   "source": [
    "test_snippet= test[38:]"
   ]
  },
  {
   "cell_type": "code",
   "execution_count": 927,
   "metadata": {},
   "outputs": [
    {
     "name": "stdout",
     "output_type": "stream",
     "text": [
      "\n",
      "<!DOCTYPE xml> <!-- not actually valid xml-->\n",
      "<!-- This is a comment -->\n",
      "<note date=\"8/31/12\">\n",
      "    <to>Tove</to>\n",
      "    <from>Jani</from>\n",
      "    <heading type=\"Reminder\"/>\n",
      "    <body>Don't forget me this weekend!</body>\n",
      "    <!-- This is a multiline comment,\n",
      "         which take a bit of care to parse -->\n",
      "</note>\n",
      "<!-- abc -->\n",
      "\n"
     ]
    },
    {
     "data": {
      "text/plain": [
       "(None,\n",
       " '\\n<!DOCTYPE xml> <!-- not actually valid xml-->\\n<!-- This is a comment -->\\n<note date=\"8/31/12\">\\n    <to>Tove</to>\\n    <from>Jani</from>\\n    <heading type=\"Reminder\"/>\\n    <body>Don\\'t forget me this weekend!</body>\\n    <!-- This is a multiline comment,\\n         which take a bit of care to parse -->\\n</note>\\n<!-- abc -->\\n')"
      ]
     },
     "execution_count": 927,
     "metadata": {},
     "output_type": "execute_result"
    }
   ],
   "source": [
    "print(test_snippet),test_snippet"
   ]
  },
  {
   "cell_type": "code",
   "execution_count": 924,
   "metadata": {},
   "outputs": [
    {
     "name": "stdout",
     "output_type": "stream",
     "text": [
      "None\n"
     ]
    }
   ],
   "source": [
    "a= test.index(\"<\",38)\n",
    "a\n",
    "print(xml_prolog.match(test,a))"
   ]
  },
  {
   "cell_type": "code",
   "execution_count": 925,
   "metadata": {},
   "outputs": [
    {
     "data": {
      "text/plain": [
       "39"
      ]
     },
     "execution_count": 925,
     "metadata": {},
     "output_type": "execute_result"
    }
   ],
   "source": [
    "a"
   ]
  },
  {
   "cell_type": "code",
   "execution_count": 894,
   "metadata": {
    "scrolled": true
   },
   "outputs": [],
   "source": [
    "stop=re.search(tag_close, test_snippet)"
   ]
  },
  {
   "cell_type": "code",
   "execution_count": 895,
   "metadata": {},
   "outputs": [],
   "source": [
    "strt=re.search(tag_open, test_snippet)"
   ]
  },
  {
   "cell_type": "code",
   "execution_count": 887,
   "metadata": {},
   "outputs": [],
   "source": [
    "openclose=re.search(tag_open_close, test_snippet)\n",
    "commentposn=re.search(comment, test_snippet)"
   ]
  },
  {
   "cell_type": "code",
   "execution_count": 888,
   "metadata": {},
   "outputs": [
    {
     "ename": "SyntaxError",
     "evalue": "can't assign to function call (<ipython-input-888-62350e6d7029>, line 2)",
     "output_type": "error",
     "traceback": [
      "\u001b[0;36m  File \u001b[0;32m\"<ipython-input-888-62350e6d7029>\"\u001b[0;36m, line \u001b[0;32m2\u001b[0m\n\u001b[0;31m    openclose.start()=100000\u001b[0m\n\u001b[0m    ^\u001b[0m\n\u001b[0;31mSyntaxError\u001b[0m\u001b[0;31m:\u001b[0m can't assign to function call\n"
     ]
    }
   ],
   "source": [
    "if openclose is None:\n",
    "    openclose.start()=100000\n",
    "    a = openclose.start()\n",
    "    print(a)"
   ]
  },
  {
   "cell_type": "code",
   "execution_count": 889,
   "metadata": {},
   "outputs": [
    {
     "data": {
      "text/plain": [
       "27"
      ]
     },
     "execution_count": 889,
     "metadata": {},
     "output_type": "execute_result"
    }
   ],
   "source": [
    "commentposn.end()"
   ]
  },
  {
   "cell_type": "code",
   "execution_count": 890,
   "metadata": {
    "scrolled": false
   },
   "outputs": [
    {
     "data": {
      "text/plain": [
       "(28, 62, 94, 1)"
      ]
     },
     "execution_count": 890,
     "metadata": {},
     "output_type": "execute_result"
    }
   ],
   "source": [
    "strt.start(), stop.start(), openclose.start(), commentposn.start()"
   ]
  },
  {
   "cell_type": "code",
   "execution_count": 891,
   "metadata": {},
   "outputs": [
    {
     "data": {
      "text/plain": [
       "(48, 67, 120)"
      ]
     },
     "execution_count": 891,
     "metadata": {},
     "output_type": "execute_result"
    }
   ],
   "source": [
    "strt.end(), stop.end(), openclose.end()"
   ]
  },
  {
   "cell_type": "code",
   "execution_count": 783,
   "metadata": {},
   "outputs": [
    {
     "data": {
      "text/plain": [
       "'heading'"
      ]
     },
     "execution_count": 783,
     "metadata": {},
     "output_type": "execute_result"
    }
   ],
   "source": [
    "openclose.group(1)"
   ]
  },
  {
   "cell_type": "code",
   "execution_count": 693,
   "metadata": {},
   "outputs": [
    {
     "data": {
      "text/plain": [
       "('to', '')"
      ]
     },
     "execution_count": 693,
     "metadata": {},
     "output_type": "execute_result"
    }
   ],
   "source": [
    "stop.group(1),strt.group(2)"
   ]
  },
  {
   "cell_type": "code",
   "execution_count": 786,
   "metadata": {
    "scrolled": true
   },
   "outputs": [
    {
     "name": "stdout",
     "output_type": "stream",
     "text": [
      "<_sre.SRE_Match object; span=(71, 78), match='</body>'>\n",
      "<_sre.SRE_Match object; span=(164, 171), match='</note>'>\n"
     ]
    }
   ],
   "source": [
    "for m in stop:\n",
    "    print(m)"
   ]
  },
  {
   "cell_type": "code",
   "execution_count": 492,
   "metadata": {},
   "outputs": [
    {
     "data": {
      "text/plain": [
       "'\\n    <from>Jani</from>\\n    <heading type=\"Reminder\"/>\\n    <body>Don\\'t forget me this weekend!</body>\\n    <!-- This is a multiline comment,\\n         which take a bit of care to parse -->\\n</note>\\n'"
      ]
     },
     "execution_count": 492,
     "metadata": {},
     "output_type": "execute_result"
    }
   ],
   "source": [
    "\n",
    "test_snippet"
   ]
  },
  {
   "cell_type": "code",
   "execution_count": 321,
   "metadata": {},
   "outputs": [
    {
     "name": "stdout",
     "output_type": "stream",
     "text": [
      "<_sre.SRE_Match object; span=(112, 132), match='<note date=\"8/31/12\"'>\n",
      "<_sre.SRE_Match object; span=(138, 141), match='<to'>\n",
      "<_sre.SRE_Match object; span=(156, 161), match='<from'>\n",
      "<_sre.SRE_Match object; span=(178, 203), match='<heading type=\"Reminder\"/'>\n",
      "<_sre.SRE_Match object; span=(209, 214), match='<body'>\n"
     ]
    }
   ],
   "source": [
    "for  m in strt:\n",
    "    print(m)"
   ]
  },
  {
   "cell_type": "code",
   "execution_count": 807,
   "metadata": {},
   "outputs": [
    {
     "data": {
      "text/plain": [
       "[1, 2, 2, 3, 4]"
      ]
     },
     "execution_count": 807,
     "metadata": {},
     "output_type": "execute_result"
    }
   ],
   "source": [
    "a = [1,2,2,3,4,5]\n",
    "a.remove(a[-1])\n",
    "a"
   ]
  },
  {
   "cell_type": "code",
   "execution_count": 806,
   "metadata": {},
   "outputs": [
    {
     "ename": "TypeError",
     "evalue": "'_sre.SRE_Match' object is not iterable",
     "output_type": "error",
     "traceback": [
      "\u001b[0;31m---------------------------------------------------------------------------\u001b[0m",
      "\u001b[0;31mTypeError\u001b[0m                                 Traceback (most recent call last)",
      "\u001b[0;32m<ipython-input-806-a59dfbc49b6c>\u001b[0m in \u001b[0;36m<module>\u001b[0;34m()\u001b[0m\n\u001b[0;32m----> 1\u001b[0;31m \u001b[0;32mfor\u001b[0m  \u001b[0mm\u001b[0m \u001b[0;32min\u001b[0m \u001b[0mstop\u001b[0m\u001b[0;34m:\u001b[0m\u001b[0;34m\u001b[0m\u001b[0m\n\u001b[0m\u001b[1;32m      2\u001b[0m     \u001b[0mprint\u001b[0m\u001b[0;34m(\u001b[0m\u001b[0mm\u001b[0m\u001b[0;34m)\u001b[0m\u001b[0;34m\u001b[0m\u001b[0m\n",
      "\u001b[0;31mTypeError\u001b[0m: '_sre.SRE_Match' object is not iterable"
     ]
    }
   ],
   "source": [
    "for  m in stop:\n",
    "    print(m)"
   ]
  },
  {
   "cell_type": "code",
   "execution_count": 344,
   "metadata": {},
   "outputs": [
    {
     "ename": "TypeError",
     "evalue": "'_sre.SRE_Match' object is not iterable",
     "output_type": "error",
     "traceback": [
      "\u001b[0;31m---------------------------------------------------------------------------\u001b[0m",
      "\u001b[0;31mTypeError\u001b[0m                                 Traceback (most recent call last)",
      "\u001b[0;32m<ipython-input-344-e95868e0931f>\u001b[0m in \u001b[0;36m<module>\u001b[0;34m()\u001b[0m\n\u001b[0;32m----> 1\u001b[0;31m \u001b[0;32mfor\u001b[0m  \u001b[0mm\u001b[0m \u001b[0;32min\u001b[0m \u001b[0mopenclose\u001b[0m\u001b[0;34m:\u001b[0m\u001b[0;34m\u001b[0m\u001b[0m\n\u001b[0m\u001b[1;32m      2\u001b[0m     \u001b[0mprint\u001b[0m\u001b[0;34m(\u001b[0m\u001b[0mm\u001b[0m\u001b[0;34m)\u001b[0m\u001b[0;34m\u001b[0m\u001b[0m\n",
      "\u001b[0;31mTypeError\u001b[0m: '_sre.SRE_Match' object is not iterable"
     ]
    }
   ],
   "source": [
    "for  m in openclose:\n",
    "    print(m)"
   ]
  },
  {
   "cell_type": "code",
   "execution_count": 618,
   "metadata": {},
   "outputs": [
    {
     "ename": "NameError",
     "evalue": "name 'value' is not defined",
     "output_type": "error",
     "traceback": [
      "\u001b[0;31m---------------------------------------------------------------------------\u001b[0m",
      "\u001b[0;31mNameError\u001b[0m                                 Traceback (most recent call last)",
      "\u001b[0;32m<ipython-input-618-8d0b5d631467>\u001b[0m in \u001b[0;36m<module>\u001b[0;34m()\u001b[0m\n\u001b[0;32m----> 1\u001b[0;31m \u001b[0mint\u001b[0m\u001b[0;34m(\u001b[0m\u001b[0;36m0\u001b[0m \u001b[0;32mif\u001b[0m \u001b[0mvalue\u001b[0m \u001b[0;32mis\u001b[0m \u001b[0;32mNone\u001b[0m \u001b[0;32melse\u001b[0m \u001b[0mvalue\u001b[0m\u001b[0;34m)\u001b[0m\u001b[0;34m\u001b[0m\u001b[0m\n\u001b[0m",
      "\u001b[0;31mNameError\u001b[0m: name 'value' is not defined"
     ]
    }
   ],
   "source": [
    "int(0 if value is None else value)"
   ]
  },
  {
   "cell_type": "code",
   "execution_count": 770,
   "metadata": {},
   "outputs": [
    {
     "name": "stdout",
     "output_type": "stream",
     "text": [
      "factorial has been called with n = 5\n",
      "factorial has been called with n = 4\n",
      "factorial has been called with n = 3\n",
      "factorial has been called with n = 2\n",
      "factorial has been called with n = 1\n",
      "intermediate result for  2  * factorial( 1 ):  2\n",
      "intermediate result for  3  * factorial( 2 ):  6\n",
      "intermediate result for  4  * factorial( 3 ):  24\n",
      "intermediate result for  5  * factorial( 4 ):  120\n",
      "120\n"
     ]
    }
   ],
   "source": [
    "def factorial(n):\n",
    "    print(\"factorial has been called with n = \" + str(n))\n",
    "    if n == 1:\n",
    "        return 1\n",
    "    else:\n",
    "        res = n * factorial(n-1)\n",
    "        print(\"intermediate result for \", n, \" * factorial(\" ,n-1, \"): \",res)\n",
    "        return res\n",
    "\n",
    "print(factorial(5))"
   ]
  },
  {
   "cell_type": "code",
   "execution_count": 771,
   "metadata": {},
   "outputs": [
    {
     "name": "stdout",
     "output_type": "stream",
     "text": [
      "factorial has been called with n = 5\n",
      "factorial has been called with n = 4\n",
      "factorial has been called with n = 3\n",
      "factorial has been called with n = 2\n",
      "factorial has been called with n = 1\n",
      "intermediate result for  2  * factorial( 1 ):  2\n",
      "intermediate result for  3  * factorial( 2 ):  6\n",
      "intermediate result for  4  * factorial( 3 ):  24\n",
      "intermediate result for  5  * factorial( 4 ):  120\n"
     ]
    }
   ],
   "source": [
    "x = factorial(5)"
   ]
  },
  {
   "cell_type": "code",
   "execution_count": 772,
   "metadata": {},
   "outputs": [
    {
     "data": {
      "text/plain": [
       "120"
      ]
     },
     "execution_count": 772,
     "metadata": {},
     "output_type": "execute_result"
    }
   ],
   "source": [
    "x"
   ]
  },
  {
   "cell_type": "code",
   "execution_count": null,
   "metadata": {
    "collapsed": true
   },
   "outputs": [],
   "source": [
    "#### Q2: fill in this cell\n",
    "class XMLNode:\n",
    "    \n",
    "    def __init__(self, tag, attributes, content):\n",
    "        self.tag = tag\n",
    "        self.attributes = attributes\n",
    "        self.children =  []\n",
    "        self.content = content\n",
    "        \n",
    "        d=2\n",
    "        \n",
    "    def parsing(content):\n",
    "        tag_open = re.compile(\"<([\\w]+)[ ]*([^>]*)\")\n",
    "        tag_close = re.compile(\"</([\\w]*)[>]()\")\n",
    "        tag_open_close = re.compile(\"<([\\w]+)[ ]*([^>]*)/>\")\n",
    "        \n",
    "        if(content==\"\"):\n",
    "            return\n",
    "        \n",
    "        strt=re.search(tag_open,content)\n",
    "        close =re.search(tag_close,content)\n",
    "        openclose =re.search(tag_open_close,content)\n",
    "        \n",
    "        tags_content={}\n",
    "        \n",
    "       \n",
    "                                 \n",
    "\n",
    "        \n",
    "    \n",
    "\n"
   ]
  },
  {
   "cell_type": "code",
   "execution_count": 835,
   "metadata": {
    "collapsed": true
   },
   "outputs": [],
   "source": [
    "a=\"\"\"\\n\"\"\""
   ]
  },
  {
   "cell_type": "code",
   "execution_count": 839,
   "metadata": {},
   "outputs": [
    {
     "data": {
      "text/plain": [
       "''"
      ]
     },
     "execution_count": 839,
     "metadata": {},
     "output_type": "execute_result"
    }
   ],
   "source": [
    "a.strip()"
   ]
  },
  {
   "cell_type": "code",
   "execution_count": 845,
   "metadata": {},
   "outputs": [
    {
     "data": {
      "text/plain": [
       "'Tove'"
      ]
     },
     "execution_count": 845,
     "metadata": {},
     "output_type": "execute_result"
    }
   ],
   "source": [
    "test_snippet[:4]"
   ]
  },
  {
   "cell_type": "code",
   "execution_count": null,
   "metadata": {
    "collapsed": true
   },
   "outputs": [],
   "source": [
    "#### Q2: fill in this cell\n",
    "class XMLNode:\n",
    "    \n",
    "    def __init__(self, tag, attributes, content):\n",
    "        self.tag = tag\n",
    "        self.attributes = attributes\n",
    "        self.children =  []\n",
    "        self.content = content\n",
    "        \n",
    "        traverseContent=content\n",
    "        \n",
    "    #def parsing(self):\n",
    "        tag_open = re.compile(\"<([\\w]+)[ ]*([^>]*)\")\n",
    "        tag_close = re.compile(\"</([\\w]*)[>]()\")\n",
    "        tag_open_close = re.compile(\"<([\\w]+)[ ]*([^>]*)/>\")\n",
    "        comment = re.compile(\"<!--(.*?)-->\",flags=re.DOTALL)\n",
    "        xml_prolog = re.compile(\"<\\?([\\w\\W]*)\\?>\")\n",
    "        html_declaration = re.compile(\"<!([\\w\\s[\\]]+[-]*)>\")\n",
    "                \n",
    "        if (traverseContent ==\"\"):\n",
    "            return\n",
    "            \n",
    "        while (traverseContent.strip()!=\"\"):\n",
    "            print(\"enter Current tag:\",tag)\n",
    "#             print(traverseContent)\n",
    "            strt=re.search(tag_open,traverseContent)\n",
    "            close =re.search(tag_close,traverseContent)\n",
    "            openclose =re.search(tag_open_close,traverseContent)\n",
    "            commentposn = re.search(comment,traverseContent)\n",
    "            stack=[]\n",
    "            \n",
    "            #tags_content={}\n",
    "            if strt is not None:\n",
    "                strt_start= strt.start()\n",
    "                strt_close = strt.end()\n",
    "            else:\n",
    "                strt_start= len(traverseContent)+1\n",
    "                strt_close = len(traverseContent)+1\n",
    "             \n",
    "\n",
    "            if openclose is not None:\n",
    "                openclose_start= openclose.start()\n",
    "                openclose_close = openclose.end()\n",
    "            else:\n",
    "                openclose_start= len(traverseContent)+1\n",
    "                openclose_close = len(traverseContent)+1\n",
    "                \n",
    "            if commentposn is not None:\n",
    "                commentposn_start= commentposn.start()\n",
    "                commentposn_close = commentposn.end()\n",
    "            else:\n",
    "                commentposn_start= len(traverseContent)+1\n",
    "                commentposn_close = len(traverseContent)+1                \n",
    "                \n",
    "\n",
    "            if(min(strt_start,close.start(),openclose_start,commentposn_start)==commentposn_start):\n",
    "                print(\"comment encountered\")\n",
    "                traverseContent=traverseContent[commentposn_close:]\n",
    "                \n",
    "            elif (min(strt_start,close.start(),openclose_start)==strt_start and strt_start!=openclose_start):\n",
    "                print(\"Creating child of parent:\",tag)                \n",
    "                #tags_content[\"start\"]=strt.end()+1\n",
    "                #tags_content[\"tags\"]=strt.group(1)\n",
    "                stack.append(strt.group(1))\n",
    "                #self.content= \n",
    "# #                 print(\"in child creation\")\n",
    "                self.children.append(XMLNode(strt.group(1),strt.group(2),traverseContent[strt.end()+1:]))\n",
    "#                 print(\"Length checking\")\n",
    "                posn = len(self.children[-1].tag)*2+6+len(self.children[-1].attributes)+len(self.children[-1].content)+strt.start()\n",
    "                traverseContent= traverseContent[posn:]            \n",
    "            \n",
    "            elif (min(strt_start,close.start(),openclose_start)==openclose_start):\n",
    "                #this.tag[\"start\"] = self.tag[\"start\"]+openclose.end()\n",
    "                #tags_content[\"tags\"]=openclose.group(1)\n",
    "                print(\"openclose Tags encounted\")\n",
    "                \n",
    "                traverseContent = traverseContent[openclose.end():]\n",
    "                \n",
    "                self.children.append(XMLNode(openclose.group(1),openclose.group(2),\"\"))\n",
    "                \n",
    "            elif ((min(strt_start,close.start(),openclose_start) == close.start()) and self.tag==close.group(1)):                \n",
    "                #stack.remove(stack[-1])\n",
    "                print(\"close condition tag:\"+self.tag)\n",
    "                self.content=traverseContent[:close.start()]\n",
    "                #self.tag[\"start\"] = self.tag[\"start\"] +close.end()+1\n",
    "                return\n",
    "           \n",
    "            elif (self.tag==\"\"):\n",
    "                return\n",
    "\n",
    "        \n",
    "    \n",
    "\n"
   ]
  }
 ],
 "metadata": {
  "kernelspec": {
   "display_name": "Python 3",
   "language": "python",
   "name": "python3"
  },
  "language_info": {
   "codemirror_mode": {
    "name": "ipython",
    "version": 3
   },
   "file_extension": ".py",
   "mimetype": "text/x-python",
   "name": "python",
   "nbconvert_exporter": "python",
   "pygments_lexer": "ipython3",
   "version": "3.6.3"
  }
 },
 "nbformat": 4,
 "nbformat_minor": 2
}
