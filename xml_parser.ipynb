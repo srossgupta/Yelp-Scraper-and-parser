{
 "cells": [
  {
   "cell_type": "markdown",
   "metadata": {},
   "source": [
    "## Introduction\n",
    "\n",
    "In this problem, you're going to write a function that will parse (a simplified version of) XML files into a Python object. Although it's not recommended that you use the parser you construct for anything serious (many excellent Python libraries already exist for parsing XML, such as the lxml library), XML files represent a fairly complex file format, that necessitates using regular expressions and recursion (or a stack) to parse these in a reasonably efficient manner.  So while it's not likely that you will need to write you own XML parser, chances are if/when you _do_ need to write a parser for some format for which there exists no good Python library, the techniques you use here will be useful for writing this parser as well."
   ]
  },
  {
   "cell_type": "markdown",
   "metadata": {},
   "source": [
    "## XML\n",
    "\n",
    "XML stands for the eXtensible Markup Language.  It appeared as a successor to SGML (standard generalized markup language) and HTML (hypertext markup language, the standard for displaying web pages), but with some additional structure that makes the documents more well-defined; for instance, in HTML it's common for open tags to appear without a corresponding close tag, which is not allowed in pure XML.\n",
    "\n",
    "You may already be familiar with XML, but if not the official resource for learning about the format is here https://www.w3.org/XML/ and a good resource with some concrete examples is here http://www.w3schools.com/xml/.  We'll assume here that you're broadly familiar with the basic ideas behind XML, and just describe what you need to know to complete the parser for this assignment.\n",
    "\n",
    "Here is an example XML document:\n",
    "    \n",
    "    <?xml version=\"1.0\" encoding=\"UTF-8\"?>\n",
    "    <!-- This is a comment -->\n",
    "    <note date=\"8/31/12\">\n",
    "        <to>Tove</to>\n",
    "        <from>Jani</from>\n",
    "        <heading type=\"Reminder\"/>\n",
    "        <body>Don't forget me this weekend!</body>\n",
    "        <!-- This is a multiline comment,\n",
    "             which take a bit of care to parse -->\n",
    "    </note>\n",
    "    \n",
    "There are a few elements here of importance.\n",
    "1. Tags are denoted `<tag_name>content</tag_name>` where `<tag_name>` is the opening tag and `</tag_name>` is the closing tag.  All text (including whitespace) between these tags is the content.\n",
    "2. Attributes follow a tag, and are written as a list of `attr_name=\"attribute_value\"` pairs, where we can use either double quotes or single quotes around the attribute value.  If you use double quotes then a single quote can appear in the text and vice versa.  There can be whitespace around the equals sign or not.\n",
    "3. If a tag has no content `<tag_name attr_name=\"attribute_value\"></tag_name>` can be abbreviated as the open/close tag `<tag_name attr_name=\"attribute_value\"/>`. In some cases, such as in HTML5, you might come across tags that have no content but aren't closed, such as `<meta ...>` and `<link ...>` tags. **However, as we are dealing with XML (a stricter context), tags are required to be closed.** If you're interested, [this document](https://www.w3schools.com/html/html_xhtml.asp) on XHTML vs HTML touches upon this idea.\n",
    "4. A XML prologue is written as `<?tag_name attr_name=\"attribute_value\"?>`.  It has no close tag.  We'll also consider documents that allow for an HTML declaration, such as `<!DOCTYPE html>` (this will let us parse some HTML documents that are well-formed enough to also parse as valid XML).\n",
    "5. Comments are denoted by `<!-- comment_text -->`  and the comment text can span multiple lines."
   ]
  },
  {
   "cell_type": "markdown",
   "metadata": {},
   "source": [
    "## Q1: Regular expression for identifying tags\n",
    "\n",
    "First, we'll use regular expressions to identify tags and other elements of XML files.  Specifically, you'll need to create 6 regular expressions that locate open tags, close tags, open/close tags, comments, xml_prolog, and html declarations.  For the open, close and open/close tags, make sure that your regular expression also matches and returns 1) the tag name, and 2) all the attributes.  Note that in our implementation, we actually have the open tag _also_ match open/close tags, but you are free to do this either way (they can match or not).  Comments may be split across multiple lines, but you can assume that all other tags must occur on a single line (without newlines within the tag itself)."
   ]
  },
  {
   "cell_type": "code",
   "execution_count": 1,
   "metadata": {
    "collapsed": true
   },
   "outputs": [],
   "source": [
    "#### Q1: FILL IN THIS CELL\n",
    "import re\n",
    "tag_open = re.compile(\"<([\\w]+)[ ]*([^>]*)\")\n",
    "tag_close = re.compile(\"</([\\w]*)[>]()\")\n",
    "tag_open_close = re.compile(\"<([\\w]+)[ ]*([^>]*)/>\")\n",
    "\n",
    "comment = re.compile(\"<!--(.*?)-->\",flags=re.DOTALL)\n",
    "xml_prolog = re.compile(\"<\\?([\\w\\W]*)\\?>\")\n",
    "html_declaration = re.compile(\"<!([\\w\\s[\\]]+[-]*)>\")"
   ]
  },
  {
   "cell_type": "markdown",
   "metadata": {},
   "source": [
    "You can test your code on the following snippet, and on the HTML source of our course web page."
   ]
  },
  {
   "cell_type": "code",
   "execution_count": 8,
   "metadata": {
    "collapsed": true
   },
   "outputs": [],
   "source": [
    "import requests\n",
    "test_snippet = \"\"\"<?xml version=\"1.0\" encoding=\"UTF-8\"?>\n",
    "<!DOCTYPE xml> <!-- not actually valid xml-->\n",
    "<!-- This is a comment -->\n",
    "<note date=\"8/31/12\">\n",
    "    <to>Tove</to>\n",
    "    <from>Jani</from>\n",
    "    <heading type=\"Reminder\"/>\n",
    "    <body>Don't forget me this weekend!</body>\n",
    "    <!-- This is a multiline comment,\n",
    "         which take a bit of care to parse -->\n",
    "</note>\n",
    "\"\"\"\n",
    "\n",
    "# [NOTE] Comment this out prior to submission\n",
    "course_webpage = str(requests.get(\"http://www.datasciencecourse.org/2016\").content)\n"
   ]
  },
  {
   "cell_type": "markdown",
   "metadata": {},
   "source": [
    "When you run the cell below (you should make a copy of them so you don't accidentally overwrite), it should produce the following output.  \n",
    "\n",
    "Example output:\n",
    "```python\n",
    "tag_open:  [('note', ' date=\"8/31/12\"'), ('to', ''), ('from', ''), ('heading', ' type=\"Reminder\"/'), ('body', '')]\n",
    "tag_close:  [('to', ''), ('from', ''), ('body', ''), ('note', '')]\n",
    "tag_open_close:  [('heading', ' type=\"Reminder\"')]\n",
    "comment:  [' not actually valid xml', ' This is a comment ', ' This is a multiline comment,\\n         which take a bit of care to parse ']\n",
    "xml_prolog:  ['xml version=\"1.0\" encoding=\"UTF-8\"']\n",
    "html_declaration:  ['DOCTYPE xml']\n",
    "```"
   ]
  },
  {
   "cell_type": "code",
   "execution_count": 28,
   "metadata": {},
   "outputs": [
    {
     "name": "stdout",
     "output_type": "stream",
     "text": [
      "tag_open:  [('note', 'date=\"8/31/12\"'), ('to', ''), ('from', ''), ('heading', 'type=\"Reminder\"/'), ('body', '')]\n",
      "tag_close:  [('to', ''), ('from', ''), ('body', ''), ('note', '')]\n",
      "tag_open_close:  [('heading', 'type=\"Reminder\"')]\n",
      "comment:  [' not actually valid xml', ' This is a comment ', ' This is a multiline comment,\\n         which take a bit of care to parse ']\n",
      "xml_prolog:  ['xml version=\"1.0\" encoding=\"UTF-8\"']\n",
      "html_declaration:  ['DOCTYPE xml']\n"
     ]
    }
   ],
   "source": [
    "print(\"tag_open: \", tag_open.findall(test_snippet))\n",
    "print(\"tag_close: \", tag_close.findall(test_snippet))\n",
    "print(\"tag_open_close: \", tag_open_close.findall(test_snippet))\n",
    "print(\"comment: \", comment.findall(test_snippet))\n",
    "print(\"xml_prolog: \", xml_prolog.findall(test_snippet))\n",
    "print(\"html_declaration: \", html_declaration.findall(test_snippet))"
   ]
  },
  {
   "cell_type": "markdown",
   "metadata": {},
   "source": [
    "Similarly, the cell below should produce the following counts. \n",
    "\n",
    "Example output:\n",
    "```python\n",
    "tag_open:  469\n",
    "tag_close:  439\n",
    "tag_open_close:  30\n",
    "comment:  23\n",
    "xml_prolog:  0\n",
    "html_declaration:  2\n",
    "```"
   ]
  },
  {
   "cell_type": "code",
   "execution_count": 1,
   "metadata": {
    "collapsed": true
   },
   "outputs": [],
   "source": [
    "# [NOTE] Comment this out prior to submission\n",
    "# print(\"tag_open: \", len(tag_open.findall(course_webpage)))\n",
    "# print(\"tag_close: \", len(tag_close.findall(course_webpage)))\n",
    "# print(\"tag_open_close: \", len(tag_open_close.findall(course_webpage)))\n",
    "# print(\"comment: \", len(comment.findall(course_webpage)))\n",
    "# print(\"xml_prolog: \", len(xml_prolog.findall(course_webpage)))\n",
    "# print(\"html_declaration: \", len(html_declaration.findall(course_webpage)))"
   ]
  },
  {
   "cell_type": "markdown",
   "metadata": {},
   "source": [
    "(Note that although there is only one html declaration in the course webpage, there is a field _within_ a comment that looks suspiciously like a declaration, so you can pick up both of these)."
   ]
  },
  {
   "cell_type": "markdown",
   "metadata": {},
   "source": [
    "## Q2: XML Parser\n",
    "\n",
    "Using the regular expressions above, now you'll write an XML parser (although technically you don't _have_ to use them, you could try to write a complete XML parser using a single regular extended expression if you really want to, but we would highly advise against this).  Specifically, you should fill in the `__init__` function for the class prototype below."
   ]
  },
  {
   "cell_type": "code",
   "execution_count": 3,
   "metadata": {
    "collapsed": true
   },
   "outputs": [],
   "source": [
    "#### Q2: fill in this cell\n",
    "class XMLNode:\n",
    "    \n",
    "    def __init__(self, tag, attributes, content):\n",
    "        self.tag = tag\n",
    "        self.attributes = attributes\n",
    "        self.children =  []\n",
    "        self.content = content\n",
    "        \n",
    "        self.startposn=0\n",
    "        self.endposn=0\n",
    "        \n",
    "    #def parsing(self):\n",
    "        tag_open = re.compile(\"<([\\w]+)[ ]*([^>]*)\")\n",
    "        tag_close = re.compile(\"</([\\w]*)[>]()\")\n",
    "        tag_open_close = re.compile(\"<([\\w]+)[ ]*([^>]*)/>\")\n",
    "        comment = re.compile(\"<!--(.*?)-->\",flags=re.DOTALL)\n",
    "        xml_prolog = re.compile(\"<\\?([\\w\\W]*)\\?>\")\n",
    "        html_declaration = re.compile(\"<!([\\w\\s[\\]]+[-]*)>\")\n",
    "        attributes = re.compile(r\"[ ]*([\\w-]+)[=]{1}[\\\"|']([^\\\"]*)\")\n",
    "                \n",
    "        \n",
    "        \n",
    "        while(self.startposn<(len(content)-1)):\n",
    "            try:\n",
    "                self.startposn = content.index(\"<\",self.startposn)\n",
    "            except:\n",
    "                return\n",
    "\n",
    "            strt= tag_open.match(content,self.startposn)\n",
    "            close= tag_close.match(content,self.startposn)\n",
    "            openclose= tag_open_close.match(content,self.startposn)\n",
    "            cmmnt= comment.match(content,self.startposn)\n",
    "            xmls= xml_prolog.match(content,self.startposn)\n",
    "            html= html_declaration.match(content,self.startposn)\n",
    "            \n",
    "            if(xmls!=None):\n",
    "                self.startposn=xmls.end()\n",
    "                continue\n",
    "            elif(html!=None):\n",
    "                self.startposn=html.end()\n",
    "                continue\n",
    "            elif(cmmnt!=None):\n",
    "                self.startposn=cmmnt.end()\n",
    "                continue\n",
    "            elif(strt!=None):\n",
    "                if(openclose!=None):\n",
    "                    attributedict={}\n",
    "                    if(openclose.group(2)!=\"\"):\n",
    "                        dictmatch = attributes.finditer(openclose.group(2))\n",
    "                        for matches in dictmatch:\n",
    "                            attributedict[matches.group(1)]= matches.group(2)\n",
    "                        \n",
    "                    self.children.append(XMLNode(openclose.group(1),attributedict,\"\")) \n",
    "                    self.startposn= openclose.end()\n",
    "                    continue\n",
    "                else:\n",
    "                    attributedict={}\n",
    "                    if(strt.group(2)!=\"\"):\n",
    "                        dictmatch = attributes.finditer(strt.group(2))\n",
    "                        for matches in dictmatch:\n",
    "                            attributedict[matches.group(1)]= matches.group(2)                    \n",
    "                    self.children.append(XMLNode(strt.group(1),attributedict,content[strt.end()+1:]))\n",
    "                    self.startposn= strt.end() + self.children[-1].endposn\n",
    "                    continue\n",
    "            elif(close!=None):\n",
    "                if close.group(1) != tag:\n",
    "                    raise Exception(\"Error: <{0}> tag closed with {1}\".format(tag, close.group()))\n",
    "                else:\n",
    "                     self.content = self.content[:close.start()]\n",
    "                self.endposn = close.end()\n",
    "                self.content = content[:close.start()]\n",
    "                return\n",
    "            \n",
    "    def find(self, tag, **kwargs):\n",
    "        \"\"\"\n",
    "        Search for a given tag and atributes anywhere in the XML tree\n",
    "\n",
    "        Args:\n",
    "            tag (string): tag to match\n",
    "            kwargs (dictionary): list of attribute name / attribute value pairs to match\n",
    "\n",
    "        Returns:\n",
    "            (list): a list of XMLNode objects that match from anywhere in the tree\n",
    "        \"\"\"\n",
    "        list_match=[]\n",
    "        #Reference:https://stackoverflow.com/questions/4527942/comparing-two-dictionaries-in-python\n",
    "        #Author:mouad\n",
    "        if self.tag == tag and (len(set(self.attributes.items()) & set(kwargs.items()))==len(kwargs)):\n",
    "            list_match.append(self)\n",
    "        elif self.tag == tag and len(kwargs)==0:\n",
    "            list_match.append(self)\n",
    "            \n",
    "            \n",
    "        if len(self.children)>0:\n",
    "            for allobj in self.children:\n",
    "                list_match.extend(allobj.find(tag,**kwargs))\n",
    "                continue\n",
    "        else:\n",
    "            return list_match \n",
    "        return list_match\n",
    "    "
   ]
  },
  {
   "cell_type": "markdown",
   "metadata": {},
   "source": [
    "There is a lot that this function needs to do, which is best explained by an example.  We'll eventually parse the `test_snippet` above using the command:\n",
    "    \n",
    "    root = XMLNode(\"\", {}, test_snippet)\n",
    "\n",
    "This will create a root node with an empty tag, an empty dictionary for the attributes, and created by parsing the test_snippet; the `content` attribute here will contain the entire test snippet.\n",
    "\n",
    "The `children` attribute is a list that contains a single XMLNode instance, corresponding to the `note` tag.  This instance is created (you don't call this function directly, rather each node must recursively create all its children, so the call above would recursively make the following call to create its child) by calling XMLNode with the parameters\n",
    "\n",
    "    XMLNode(\"note\", {\"date\":\"8/31/12\"}, test_snippet[133:])\n",
    "    # (test_snippet[133:] just happens to be the position that immediately follows the <note> open tag)\n",
    "    \n",
    "This child node will have the given tag and attributes, plus content given by only the `content` equals to the string that occurs _within_ the note open and close tags.  It will similarly have four children, one corresponding to each of the subtags.  The following code illustrates how you can use XMLNode to parse test_snippet, and what the structure is after you perform the parsing.\n",
    "\n",
    "Example output:\n",
    "```python\n",
    "root.tag:  \n",
    "root.attributes:  {}\n",
    "root.content:  '<?xml version=\"1.0\" encoding=\"UTF-8\"?>\\n<!DOCTYPE xml> <!-- not actually valid xml-->\\n<!-- This is a comment -->\\n<note date=\"8/31/12\">\\n    <to>Tove</to>\\n    <from>Jani</from>\\n    <heading type=\"Reminder\"/>\\n    <body>Don\\'t forget me this weekend!</body>\\n    <!-- This is a multiline comment,\\n         which take a bit of care to parse -->\\n</note>\\n'\n",
    "root.children:  [<__main__.XMLNode instance at 0x10425c0e0>]\n",
    "\n",
    "note.tag:  note\n",
    "note.attributes:  {'date': '8/31/12'}\n",
    "note.content:  '\\n    <to>Tove</to>\\n    <from>Jani</from>\\n    <heading type=\"Reminder\"/>\\n    <body>Don\\'t forget me this weekend!</body>\\n    <!-- This is a multiline comment,\\n         which take a bit of care to parse -->\\n'\n",
    "note.children:  [<__main__.XMLNode instance at 0x10425c098>, <__main__.XMLNode instance at 0x10425c128>, <__main__.XMLNode instance at 0x10425c368>, <__main__.XMLNode instance at 0x10425c488>]\n",
    "\n",
    "to.tag:  to\n",
    "to.attributes:  {}\n",
    "to.content:  'Tove'\n",
    "to.children:  []\n",
    "\n",
    "heading.tag:  heading\n",
    "heading.attributes:  {'type': 'Reminder'}\n",
    "heading.content:  ''\n",
    "heading.children:  []\n",
    "```"
   ]
  },
  {
   "cell_type": "code",
   "execution_count": 9,
   "metadata": {},
   "outputs": [],
   "source": [
    "# root = XMLNode(\"\", {}, course_webpage)\n",
    "# print(\"root.tag: \", root.tag)\n",
    "# print(\"root.attributes: \", root.attributes)\n",
    "# print(\"root.content: \", repr(root.content))\n",
    "# print(\"root.children: \", root.children)\n",
    "# print(\"\")\n",
    "# print(\"note.tag: \", root.children[0].tag)\n",
    "# print(\"note.attributes: \", root.children[0].attributes)\n",
    "# print(\"note.content: \", repr(root.children[0].content))\n",
    "# print(\"note.children: \", root.children[0].children)\n",
    "# print(\"\")\n",
    "# print(\"to.tag: \", root.children[0].children[0].tag)\n",
    "# print(\"to.attributes: \", root.children[0].children[0].attributes)\n",
    "# print(\"to.content: \", repr(root.children[0].children[0].content))\n",
    "# print(\"to.children: \", root.children[0].children[0].children)\n",
    "# print(\"\")\n",
    "# print(\"heading.tag: \", root.children[0].children[2].tag)\n",
    "# print(\"heading.attributes: \", root.children[0].children[2].attributes)\n",
    "# print(\"heading.content: \", repr(root.children[0].children[2].content))\n",
    "# print(\"heading.children: \", root.children[0].children[2].children)\n"
   ]
  },
  {
   "cell_type": "markdown",
   "metadata": {},
   "source": [
    "Additionally, if you pass an XML object that is poorly formated, in that there is some mismatched open and close tag, the function should raise an exception. Note: comment out this cell prior to submission.\n",
    "\n",
    "Example output: \n",
    "```python\n",
    "---------------------------------------------------------------------------\n",
    "Exception                                 Traceback (most recent call last)\n",
    "<ipython-input-68-f654067d17d4> in <module>()\n",
    "----> 1 root = XMLNode(\"\", {}, \"<note><to>You</from></note>\")\n",
    "\n",
    "<ipython-input-67-8c4c856beda8> in __init__(self, tag, attributes, content)\n",
    "     37                 else:\n",
    "     38                     # if it's an open tag, parse it recursively\n",
    "---> 39                     self.children.append(XMLNode(m.group(1), attributes, content[m.end():]))\n",
    "     40                     pos = m.end() + self.children[-1].endpos\n",
    "     41                 continue\n",
    "\n",
    "<ipython-input-67-8c4c856beda8> in __init__(self, tag, attributes, content)\n",
    "     37                 else:\n",
    "     38                     # if it's an open tag, parse it recursively\n",
    "---> 39                     self.children.append(XMLNode(m.group(1), attributes, content[m.end():]))\n",
    "     40                     pos = m.end() + self.children[-1].endpos\n",
    "     41                 continue\n",
    "\n",
    "<ipython-input-67-8c4c856beda8> in __init__(self, tag, attributes, content)\n",
    "     45             if m:\n",
    "     46                 if m.group(1) != tag:\n",
    "---> 47                     raise Exception(\"Error: <{0}> tag closed with {1}\".format(tag, m.group()))\n",
    "     48                 else:\n",
    "     49                     self.content = self.content[:m.start()]\n",
    "\n",
    "Exception: Error: <to> tag closed with </from>\n",
    "```"
   ]
  },
  {
   "cell_type": "code",
   "execution_count": 4,
   "metadata": {
    "collapsed": true
   },
   "outputs": [],
   "source": [
    "# [NOTE] Comment this out prior to submission\n",
    "# root = XMLNode(\"\", {}, \"<note><to>You</from></note>\")"
   ]
  },
  {
   "cell_type": "markdown",
   "metadata": {},
   "source": [
    "Finally, your code should also be able to parse the course webpage (which we made sure was valid XML).\n",
    "\n",
    "Example output (the total count may vary slightly based on changes we make to the website): \n",
    "```python\n",
    ">>> print total_count(root)\n",
    "345\n",
    "```"
   ]
  },
  {
   "cell_type": "code",
   "execution_count": 5,
   "metadata": {},
   "outputs": [
    {
     "name": "stdout",
     "output_type": "stream",
     "text": [
      "5\n"
     ]
    }
   ],
   "source": [
    "def total_count(n):\n",
    "    \"\"\" Gets the total number of nodes in an XMLNode tree. \"\"\"\n",
    "    return len(n.children) + sum(total_count(c) for c in n.children)\n",
    "# [NOTE] Comment this out prior to submission\n",
    "# root = XMLNode(\"\", {}, test_snippet)\n",
    "# print (total_count(root))\n"
   ]
  },
  {
   "cell_type": "markdown",
   "metadata": {},
   "source": [
    "Lets discuss in a bit more detail how the XML parsing will work algorithmically.  You being the initializer by copying the provided parameters to the class attributes.  Note that if you want you could make a full string copy here, but we don't bother.  Now we begin parsing the file, which we do by repeating the following logic until termination:\n",
    "1. Look for the next xml tag (or comment, etc), in the file.  This is best done by finding the next `'<'` character.  If you can't find any, return.\n",
    "2. If it's an xml prolog, html declaration, or comment, ignore this portion, and continue parsing after the prolog, declaration, or comment (i.e., throw away whatever information is contained in these portions)\n",
    "3. If it's an open tag, read its tag and attributes (you'll likely want to use a regular expression to parse the attributes as well, but we leave this up to you).  If it's just an open tag, then recursively create an XMLNode object initializer this tag and attributes, and the content that occurred after the open tag.  If it's an open/close tag, create a XMLNode the same as before but with empty content.\n",
    "4. If it's a close tag, make sure that the close tag matches the tag originally provided to the current XMLNode constructor (otherwise, we have a situation where one tag is closed with a different tag), and raise an Exception if not.  If the tags do match, then truncate the content to contain only the content before the closed tag matched, and return.\n",
    "\n",
    "Some hints that we believe will be helpful:\n",
    "1. Keep track of the current position where you are parsing the file, and make sure to properly increment this so you move past any tag that you have parsed.\n",
    "2. Make use of the `match = regular_expression_obj.match(string, pos)` function, which looks for a match to the regular expression starting _exactly_ as position `pos` in `string`.  If this function returns `None`, then the regular expression did not match.  In the returned `match` object, `match.end()` contains the position where the match ended."
   ]
  },
  {
   "cell_type": "markdown",
   "metadata": {},
   "source": [
    "## Q3: Searching for tags\n",
    "\n",
    "One of the nicer elements of the `BeautifulSoup` library is the ability to quickly search for tags that have certain attributes, without worrying about the specific structure of the model (i.e., how many levels deep the tag is, how many may exist in the document etc).  We're going to implement a similar function in our `XMLNode` class, specifically a function of the following form."
   ]
  },
  {
   "cell_type": "code",
   "execution_count": 6,
   "metadata": {
    "collapsed": true
   },
   "outputs": [],
   "source": [
    "#### Q3: fill out this function and move it into the XMLNode class above. [NOTE] Do not leave this here for your final submission. \n",
    "            \n",
    "\n"
   ]
  },
  {
   "cell_type": "markdown",
   "metadata": {},
   "source": [
    "For those who haven't seen the `**kwargs` parameter before, this is just a way to pass a variable-length list of parameters to a Python function as function parameters.  For example, you could call `find` via\n",
    "\n",
    "    root.find(\"link\", rel=\"stylesheet\")\n",
    "    \n",
    "and in the `find` function, `kwargs` would be a dictionary equal to `{\"rel\":\"stylesheet\"}`.\n",
    "\n",
    "This function should return a list of _all_ XMLNodes that are descendents (children, children of children, etc), of the node you call it on.  The following constains some examples of this function can be used.\n",
    "\n",
    "Example output: \n",
    "```python\n",
    "['#page-top', '#page-top', '#overview', '#schedule', '#assignments', '#instructors', '#faq', '#overview', 'intro.pdf', 'https://scs.hosted.panopto.com/Panopto/Pages/Viewer.aspx?id=3f116819-0e26-4f79-bcee-f4cb7e745773', 'http://www.zicokolter.com/', 'http://cs.cmu.edu/~ericwong/', 'https://piazza.com/class/is8ghyly8um4ew', 'https://piazza.com/class/is8ghyly8um4ew']\n",
    "['8/29', '8/31', '9/7', '9/14', '9/19', '9/21', '9/26', '9/28', '10/3', '10/5', '10/10', '10/12', '10/17', '10/19', '10/24', '10/26', '10/31', '11/2', '11/7', '11/9', '11/14', '11/16', '11/21', '11/28', '11/30', '12/5', '12/7']\n",
    "```"
   ]
  },
  {
   "cell_type": "code",
   "execution_count": 16,
   "metadata": {},
   "outputs": [
    {
     "name": "stdout",
     "output_type": "stream",
     "text": [
      "['#page-top', '#page-top', '#overview', '#schedule', '#assignments', '#instructors', '#faq', '#overview', 'intro.pdf', 'https://scs.hosted.panopto.com/Panopto/Pages/Viewer.aspx?id=3f116819-0e26-4f79-bcee-f4cb7e745773', 'data_collection.pdf', 'https://scs.hosted.panopto.com/Panopto/Pages/Viewer.aspx?id=0d70cc6d-acbc-4895-a4da-8932dc323723', 'hw/1/hw1.pdf', 'hw/1/handout.tar', 'jupyter.pdf', 'jupyter.tar', 'https://scs.hosted.panopto.com/Panopto/Pages/Viewer.aspx?id=08d57ec4-058f-476d-9962-356b3c39af37', 'relational_data.pdf', 'https://scs.hosted.panopto.com/Panopto/Pages/Viewer.aspx?id=d3f716a3-a874-415d-8b6b-5c0af4efd4c6', 'visualization.pdf', 'Visualization.ipynb', 'https://scs.hosted.panopto.com/Panopto/Pages/Viewer.aspx?id=c0e02818-c252-49a9-83b9-b5c52f01b12f', 'http://www.datasciencecourse.org/hw/2/handout.tar', 'matrices.pdf', 'NumpyBasics.ipynb', 'https://scs.hosted.panopto.com/Panopto/Pages/Viewer.aspx?id=70d8ac29-2865-4d71-a1f4-59127ec04c2c', 'tutorial.pdf', 'graphs.pdf', 'NetworkXBasics.ipynb', 'https://scs.hosted.panopto.com/Panopto/Pages/Viewer.aspx?id=0071471a-c880-4390-aa0d-3709f3d37776', 'free_text.pdf', 'https://scs.hosted.panopto.com/Panopto/Pages/Viewer.aspx?id=a69cc2ff-1f38-4843-b64d-d9c68cfee9c9', 'free_text.pdf', 'https://scs.hosted.panopto.com/Panopto/Pages/Viewer.aspx?id=69561aa9-7d9f-44f5-a5a7-14e4b78686ba', 'http://www.datasciencecourse.org/hw/3/handout.tar.gz', 'linear_regression.pdf', 'linear_reg_code_data.tar.gz', 'https://scs.hosted.panopto.com/Panopto/Pages/Viewer.aspx?id=97af9d3b-529b-41f4-aa54-db2b2eed14b5', 'linear_classification.pdf', 'https://scs.hosted.panopto.com/Panopto/Pages/Viewer.aspx?id=83e43dbe-1922-4c4a-a3af-3bb24dd89c9f', 'nonlinear_modeling.pdf', 'https://scs.hosted.panopto.com/Panopto/Pages/Viewer.aspx?id=00cc9cfb-e77a-4242-bd74-6587965b63bc', 'GIS%20Tutorial.ipynb', 'project.pdf', 'nonlinear_modeling.pdf', 'https://scs.hosted.panopto.com/Panopto/Pages/Viewer.aspx?id=56707206-e441-421e-897b-3b900494a94c', 'http://www.datasciencecourse.org/hw/4/handout.tar.gz', 'http://www.datasciencecourse.org/hw/4/data.tar.gz', 'probability.pdf', 'https://scs.hosted.panopto.com/Panopto/Pages/Viewer.aspx?id=9e45f2fa-d796-42bd-9383-44f88408859a', 'tutorial.pdf', 'count_length.py', 'probability.pdf', 'https://scs.hosted.panopto.com/Panopto/Pages/Viewer.aspx?id=98349dc6-6435-4b7b-b2ea-be8a174464e6', 'https://scs.hosted.panopto.com/Panopto/Pages/Viewer.aspx?id=ad540a28-5ba6-45cc-bf69-9ff55880174f', 'rec/rec4.ipynb', 'hypothesis_testing.pdf', 'https://scs.hosted.panopto.com/Panopto/Pages/Viewer.aspx?id=2caa5e96-8180-4743-81eb-463caa311da3', 'decision_trees_boosting.pdf', 'https://scs.hosted.panopto.com/Panopto/Pages/Viewer.aspx?id=1ff026e7-0f0e-4e11-ba7f-6001d5b5d132', 'unsupervised.pdf', 'https://scs.hosted.panopto.com/Panopto/Pages/Viewer.aspx?id=89defcbc-953a-4c30-81ac-c09ed9736a4f', 'anomaly_detection.pdf', 'https://scs.hosted.panopto.com/Panopto/Pages/Viewer.aspx?id=af33f634-e6a3-4e2f-8fde-8e4f3e05b9f1', 'http://www.datasciencecourse.org/hw/5/handout.tar.gz', 'https://scs.hosted.panopto.com/Panopto/Pages/Viewer.aspx?id=f8ce6ae6-5152-4a4c-b87d-ae16ee62fdae', 'rec/rec5.ipynb', 'recommender_systems.pdf', 'https://scs.hosted.panopto.com/Panopto/Pages/Viewer.aspx?id=b2438f26-f300-4990-889c-96c7285276a1', 'deep_learning.pdf', 'https://scs.hosted.panopto.com/Panopto/Pages/Viewer.aspx?id=19cca3dd-8b63-4e30-9aab-fbbd9099f2b1', 'InfoViz.pdf', 'https://scs.hosted.panopto.com/Panopto/Pages/Viewer.aspx?id=c5dcb54c-f8c5-4792-9db5-a5c274eae1f7', 'probabilistic_modeling.pdf', 'https://scs.hosted.panopto.com/Panopto/Pages/Viewer.aspx?id=288e893c-62bb-4e79-aec3-2f1c5e92ec92', 'hw/6/handout.tar.gz', 'hw/6/', 'mapreduce.pdf', 'https://scs.hosted.panopto.com/Panopto/Pages/Viewer.aspx?id=fdaef430-f88c-4ac0-89a1-9fe30c300519', 'https://scs.hosted.panopto.com/Panopto/Pages/Viewer.aspx?id=56b8ad3e-48fe-40a6-acb4-3d0512783728', 'rec/rec6.ipynb', 'debugging.pdf', 'debugging_data_science.pdf', 'https://scs.hosted.panopto.com/Panopto/Pages/Viewer.aspx?id=924f01c5-8a76-4248-8971-03d7e21b3219', 'Data Science Walkthrough.ipynb', 'https://scs.hosted.panopto.com/Panopto/Pages/Viewer.aspx?id=7e0fad6a-520e-4bb7-9dc3-44498d3be26a', 'data_science_positions.pdf', 'https://scs.hosted.panopto.com/Panopto/Pages/Viewer.aspx?id=30711db7-9dde-4135-ad17-6652c3432ab2', 'future_of_data_science.pdf', 'http://www.zicokolter.com/', 'http://cs.cmu.edu/~ericwong/', 'http://www.cs.cmu.edu/~deswaran/', 'https://piazza.com/class/is8ghyly8um4ew', 'https://piazza.com/class/is8ghyly8um4ew']\n"
     ]
    }
   ],
   "source": [
    "# [NOTE] Comment this out prior to submission\n",
    "# \n",
    "# Get a list of all links on the page\n",
    "# links = root.find(\"a\")\n",
    "# print([l.attributes[\"href\"] for l in links])\n",
    "# \n",
    "# Get a list of all lecture dates for the course\n",
    "# tbody = root.find(\"section\", id=\"schedule\")[0].find(\"table\")[0].find(\"tbody\")[0]\n",
    "# print ([a.find(\"td\")[0].content for a in tbody.find(\"tr\") if len(a.find(\"td\")) > 1])"
   ]
  },
  {
   "cell_type": "code",
   "execution_count": null,
   "metadata": {
    "collapsed": true
   },
   "outputs": [],
   "source": []
  }
 ],
 "metadata": {
  "anaconda-cloud": {},
  "kernelspec": {
   "display_name": "Python 3",
   "language": "python",
   "name": "python3"
  },
  "language_info": {
   "codemirror_mode": {
    "name": "ipython",
    "version": 3
   },
   "file_extension": ".py",
   "mimetype": "text/x-python",
   "name": "python",
   "nbconvert_exporter": "python",
   "pygments_lexer": "ipython3",
   "version": "3.6.3"
  }
 },
 "nbformat": 4,
 "nbformat_minor": 1
}
